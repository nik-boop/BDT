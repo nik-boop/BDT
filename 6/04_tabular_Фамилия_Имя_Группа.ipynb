{
 "cells": [
  {
   "cell_type": "markdown",
   "id": "1278b2fe",
   "metadata": {},
   "source": [
    "# Табличные данные и взаимодействие с Excel"
   ]
  },
  {
   "cell_type": "markdown",
   "id": "cbe493ce",
   "metadata": {},
   "source": [
    "__Автор задач: Блохин Н.В. (NVBlokhin@fa.ru)__\n",
    "\n",
    "Материалы:\n",
    "* Макрушин С.В. Лекция \"Табличные данные и взаимодействие с Excel\"\n",
    "* https://docs.xlwings.org/en/stable/quickstart.html\n",
    "* https://nbviewer.org/github/pybokeh/jupyter_notebooks/blob/main/xlwings/Excel_Formatting.ipynb\n",
    "* https://xlsxwriter.readthedocs.io/\n",
    "* https://xlsxwriter.readthedocs.io/working_with_conditional_formats.html\n",
    "* https://xlsxwriter.readthedocs.io/example_conditional_format.html\n",
    "* https://ru.excelfunctions.eu/\n",
    "* https://docs.python.org/3/library/csv.html\n",
    "* https://pandas.pydata.org/docs/reference/api/pandas.DataFrame.plot\n",
    "* https://analysistabs.com/excel-vba/colorindex/"
   ]
  },
  {
   "cell_type": "markdown",
   "id": "944e06a8",
   "metadata": {},
   "source": [
    "## Задачи для совместного разбора"
   ]
  },
  {
   "cell_type": "code",
   "execution_count": 2,
   "id": "78a1265b",
   "metadata": {},
   "outputs": [
    {
     "name": "stdout",
     "output_type": "stream",
     "text": [
      "Collecting xlsxwriter\n",
      "  Downloading XlsxWriter-3.0.3-py3-none-any.whl (149 kB)\n",
      "     -------------------------------------- 150.0/150.0 kB 1.5 MB/s eta 0:00:00\n",
      "Installing collected packages: xlsxwriter\n",
      "Successfully installed xlsxwriter-3.0.3\n",
      "Note: you may need to restart the kernel to use updated packages.\n"
     ]
    },
    {
     "name": "stderr",
     "output_type": "stream",
     "text": [
      "\n",
      "[notice] A new release of pip available: 22.2.2 -> 22.3\n",
      "[notice] To update, run: python.exe -m pip install --upgrade pip\n"
     ]
    }
   ],
   "source": [
    "pip install xlsxwriter"
   ]
  },
  {
   "cell_type": "code",
   "execution_count": 2,
   "id": "00784884",
   "metadata": {},
   "outputs": [],
   "source": [
    "import xlsxwriter\n",
    "import xlwings as xw\n",
    "import numpy as np\n",
    "import pandas as pd\n",
    "import csv"
   ]
  },
  {
   "cell_type": "markdown",
   "id": "23ba14c9",
   "metadata": {},
   "source": [
    "1. Создать файл `demo.xlsx` при помощи пакета `xlswriter` на основе данных из файла `costs.csv`."
   ]
  },
  {
   "cell_type": "markdown",
   "id": "58ed296b",
   "metadata": {},
   "source": [
    "2. На листе \"Рецептура\" файла `demo.xlsx` рассчитать себестоимость всех видов продукции. Результаты расчетов сохранить в отдельном столбце."
   ]
  },
  {
   "cell_type": "markdown",
   "id": "17422db2",
   "metadata": {},
   "source": [
    "3. Выполнить 2 с помощью \"протягиваемых\" формул."
   ]
  },
  {
   "cell_type": "markdown",
   "id": "6ff0c246",
   "metadata": {},
   "source": [
    "4. Добавить общий заголовок и доработать форматирование новых столбцов"
   ]
  },
  {
   "cell_type": "markdown",
   "id": "0e143f0d",
   "metadata": {},
   "source": [
    "## Лабораторная работа 4"
   ]
  },
  {
   "cell_type": "markdown",
   "id": "4c521f29",
   "metadata": {},
   "source": [
    "1. При помощи пакета `xlsxwriter` создайте рабочую книгу под названием `recipes_model.xlsx`. \n",
    "Добавьте лист с названием \"Модель\". В первой строчке листа разместите следующие названия колонок: `\"Сущность\", \"Атрибут\", \"Тип данных\", \"Обязательно к заполнению\", \"Описание сущности\", \"Описание атрибута\", \"Ключ\", \"Таблица для ссылки\", \"Поле для ссылки\", \"SQL\"`.\n",
    "\n",
    "* Не закрывайте рабочую книгу, она потребуется для выполнения следующего задания."
   ]
  },
  {
   "cell_type": "code",
   "execution_count": 12,
   "id": "8a45c66c",
   "metadata": {},
   "outputs": [
    {
     "data": {
      "text/plain": [
       "0"
      ]
     },
     "execution_count": 12,
     "metadata": {},
     "output_type": "execute_result"
    }
   ],
   "source": [
    "workbook = xlsxwriter.Workbook('recipes_model.xlsx')\n",
    "worksheet = workbook.add_worksheet(name=\"Модель\")\n",
    "  \n",
    "content = [\"Сущность\", \"Атрибут\", \"Тип данных\", \"Обязательно к заполнению\", \"Описание сущности\", \"Описание атрибута\", \"Ключ\", \"Таблица для ссылки\", \"Поле для ссылки\", \"SQL\"]\n",
    "\n",
    "worksheet.write_row(0, 0, content)"
   ]
  },
  {
   "cell_type": "markdown",
   "id": "c755416d",
   "metadata": {},
   "source": [
    "2. При помощи пакета `xlsxwriter` добавьте условное форматирование на лист \"Модель\":\n",
    "* если в ячейке столбца `G` указано значение \"PK\", то сделать заливку ячейки цвета  `#006600`, а цвет шрифта - `#fffff`.\n",
    "* если в ячейке столбца `G` указано значение \"FK\", то сделать заливку ячейки цвета  `#cccc00`, а цвет шрифта - `#000000`.\n",
    "\n",
    "Примените данные правила к диапазону `G2:G50`. Закройте рабочую книгу."
   ]
  },
  {
   "cell_type": "code",
   "execution_count": 13,
   "id": "77b4e684",
   "metadata": {},
   "outputs": [],
   "source": [
    "with open('recipes_model.csv', 'r', encoding=\"utf-8\") as f:\n",
    "    reader = csv.reader(f, delimiter='\\t')\n",
    "    data = list(reader)\n",
    "    data[0][6]=\"Ключ\""
   ]
  },
  {
   "cell_type": "code",
   "execution_count": 15,
   "id": "cbc531f6",
   "metadata": {},
   "outputs": [],
   "source": [
    "format1 = workbook.add_format({\"bg_color\": \"#006600\", \"font_color\": \"#fffff\"})\n",
    "format2 = workbook.add_format({\"bg_color\": \"#cccc00\", \"font_color\": \"#000000\"})\n",
    "\n",
    "worksheet.conditional_format('G2:G50', {'type':     'cell',\n",
    "                                        'criteria': '=',\n",
    "                                        'value':    '\"PK\"',\n",
    "                                        'format':   format1})\n",
    "worksheet.conditional_format('G2:G50', {'type':     'cell',\n",
    "                                        'criteria': '=',\n",
    "                                        'value':    '\"FK\"',\n",
    "                                        'format':   format2})\n",
    "\n",
    "workbook.close()"
   ]
  },
  {
   "cell_type": "markdown",
   "id": "584dd57e",
   "metadata": {},
   "source": [
    "3. В файле `recipes_model.csv` находится модель данных предметной области \"рецепты\". При помощи пакета `csv` считайте эти данные. При помощи пакета `xlwings` запишите данные на лист `Модель` книги `recipes_model.xlsx`, начиная с ячейки `A2`, не используя циклы. Сделайте скриншот текущего состояния листа и прикрепите в ячейку ноутбука. "
   ]
  },
  {
   "cell_type": "code",
   "execution_count": 16,
   "id": "510101f5",
   "metadata": {},
   "outputs": [
    {
     "data": {
      "text/plain": [
       "<Sheet [recipes_model.xlsx]Модель>"
      ]
     },
     "execution_count": 16,
     "metadata": {},
     "output_type": "execute_result"
    }
   ],
   "source": [
    "def readBookAndSheets(Book: str, Sheets: str) -> xw.Sheet:\n",
    "    global wb, recipies\n",
    "    wb = xw.Book(Book)\n",
    "    recipies = wb.sheets[Sheets]\n",
    "    return recipies\n",
    "readBookAndSheets(\"recipes_model.xlsx\", \"Модель\")"
   ]
  },
  {
   "cell_type": "code",
   "execution_count": 18,
   "id": "bbdf1f21",
   "metadata": {},
   "outputs": [],
   "source": [
    "try:\n",
    "    model = wb.sheets.add(name=\"Модель\")\n",
    "except ValueError:\n",
    "    model = wb.sheets[\"Модель\"]"
   ]
  },
  {
   "cell_type": "code",
   "execution_count": 40,
   "id": "42f9a9fe",
   "metadata": {},
   "outputs": [],
   "source": [
    "model.range(\"A2\").value = data[1:]\n"
   ]
  },
  {
   "cell_type": "code",
   "execution_count": null,
   "id": "aad3a583",
   "metadata": {},
   "outputs": [],
   "source": [
    "# wb.close()"
   ]
  },
  {
   "cell_type": "markdown",
   "id": "45b57600",
   "metadata": {},
   "source": [
    "4. При помощи пакета `xlwings` добавьте в столбец J формулу для описания столбца на языке SQL. Формула должна реализовывать следующую логику:\n",
    "\n",
    "    1\\. в начале строки идут значения из столбцов В и C (значение столбца С приведено к верхнему регистру), разделенные пробелом\n",
    "    \n",
    "    2\\. далее идут слова на основе столбца \"Ключ\"\n",
    "        2.1 если в столбце \"Ключ\" указано значение \"PK\", то дальше через пробел идет ключевое слово \"PRIMARY KEY\"\n",
    "        2.2 если в столбце \"Ключ\" указано значение \"FK\", то дальше через пробел идет ключевое слово \"REFERENCES\", затем значения столбцов H и I в формате \"название_таблицы(название_столбца)\"\n",
    "        \n",
    "    3\\. если в столбце \"Обязательно к заполнению\" указано значение \"Y\" и в столбце \"Ключ\" указано не \"PK\", то дальше через пробел идет ключевое слово \"NOT NULL\".\n",
    "\n",
    "Заполните этой формулой необходимое количество строк, используя \"протягивание\". Количество строк для протягивания определите на основе данных.\n",
    "\n",
    "Сделайте скриншот текущего состояния листа и прикрепите в ячейку ноутбука."
   ]
  },
  {
   "cell_type": "code",
   "execution_count": null,
   "id": "a087eb9c",
   "metadata": {},
   "outputs": [],
   "source": [
    "# =ОБЪЕДИНИТЬ(\" \";ИСТИНА;B2;ПРОПИСН(C2);ЕСЛИМН(G2=\"PK\";ЕСЛИ(D2=\"Y\";\"PRIMARY KEY NOT NULL\";\"PRIMARY KEY\");G2=\"FK\";\"REFERENCES \"&ОБЪЕДИНИТЬ(\"\";ИСТИНА;H2;\"(\";I2;\")\");G2=\"\";\"\"))\n",
    "# =TEXTJOIN(\" \";TRUE;B2;UPPER(C2);IFS(G2=\"PK\";IF(D2=\"Y\";\"PRIMARY KEY NOT NULL\";\"PRIMARY KEY\");G2=\"FK\";\"REFERENCES \"&TEXTJOIN(\"\";TRUE;H2;\"(\";I2;\")\");G2=\"\";\"\"))"
   ]
  },
  {
   "cell_type": "code",
   "execution_count": 41,
   "id": "ac9f6f87",
   "metadata": {},
   "outputs": [
    {
     "data": {
      "text/plain": [
       "True"
      ]
     },
     "execution_count": 41,
     "metadata": {},
     "output_type": "execute_result"
    }
   ],
   "source": [
    "from xlwings.constants import AutoFillType\n",
    "SQL_column_start = model.range(\"J2\")\n",
    "SQL_column = model.range(f\"J2:j{len(data)+1}\")\n",
    "SQL_column_start.formula = '=TEXTJOIN(\" \",TRUE,B2,UPPER(C2),IFS(G2=\"PK\",IF(D2=\"Y\",\"PRIMARY KEY NOT NULL\",\"PRIMARY KEY\"),G2=\"FK\",\"REFERENCES \"&TEXTJOIN(\"\",TRUE,H2,\"(\",I2,\")\"),G2=\"\",\"\"))'\n",
    "SQL_column_start.api.AutoFill(SQL_column.api, AutoFillType.xlFillDefault)"
   ]
  },
  {
   "cell_type": "markdown",
   "id": "61a9a3a6",
   "metadata": {},
   "source": [
    "5. При помощи пакета `xlwings` измените стилизацию листа `Модель`.\n",
    "* для заголовков добавьте заливку цвета `00ccff`\n",
    "* примените автоподбор ширины столбца;\n",
    "* сделайте шрифт заголовков полужирным;\n",
    "* добавьте таблице автофильтр.\n",
    "\n",
    "Сделайте скриншот текущего состояния листа и прикрепите в ячейку ноутбука."
   ]
  },
  {
   "cell_type": "code",
   "execution_count": 43,
   "id": "0538ad0a",
   "metadata": {},
   "outputs": [],
   "source": [
    "Titles = model.range(\"A1:J1\")\n",
    "Titles.color = (\"#00ccff\")\n"
   ]
  },
  {
   "cell_type": "markdown",
   "id": "166b8eb2",
   "metadata": {},
   "source": [
    "6. В данных, полученных из файла `recipes_model.csv`, имеются ошибки двух видов:\n",
    "\n",
    "    1\\. Для некоторых полей, указанных как первичный ключ, в столбце \"Обязательно к заполнению\" стоит значение \"N\";\n",
    "\n",
    "    2\\. Для некоторых полей, указанных как внешний ключ, не указана таблица для ссылки и поле для ссылки.\n",
    "\n",
    "Получите данные из листа в виде `pd.DataFrame`. Найдите строки на листе, которые содержат ошибки первого или второго рода и сделайте заливку эти строк цвета `(255, 22, 22)`. Сделайте скриншот текущего состояния листа и прикрепите в ячейку ноутбука."
   ]
  },
  {
   "cell_type": "markdown",
   "id": "ff3b9d65",
   "metadata": {},
   "source": [
    "7. При помощи пакета `xlwings` создайте лист с названием `Ошибки заполнения`. \n",
    "\n",
    "Поместите в первой строчке этого листа заголовки \"№ строки\" и \"Ошибка\". Заполните лист на основе решения задачи 6. В столбце \"№ строки\" укажите номер строки с листа `Модель`, содержащую ошибку, а в столбце \"Ошибка\" для ошибок первого рода напишите сообщение \"Первичный ключ не может быть NULL\", для ошибок второго рода - \"Не указано поле для связи по внешнему ключу\". Сделайте скриншот состояния листа `Ошибки заполнения` и прикрепите в ячейку ноутбука. "
   ]
  },
  {
   "cell_type": "markdown",
   "id": "fcfdf252",
   "metadata": {},
   "source": [
    "8. Посчитайте количество атрибутов для каждой из сущностей. Создайте лист `Статистика` и запишите в него результат группировки, начиная с ячейки \"А1\". Визуализируйте полученный результат при помощи столбчатой диаграммы. Сохраните полученную визуализацию на лист `Статистика`, начиная с ячейки \"E2\".  Сделайте скриншот листа `Статистика` и прикрепите в ячейку ноутбука.\n",
    "\n",
    "* Вы можете воспользоваться методами для визуализации, которые поставляются вместе с объектами `pandas` (см. https://pandas.pydata.org/docs/reference/api/pandas.DataFrame.plot) "
   ]
  }
 ],
 "metadata": {
  "kernelspec": {
   "display_name": "Python 3.9.5 ('venv')",
   "language": "python",
   "name": "python3"
  },
  "language_info": {
   "codemirror_mode": {
    "name": "ipython",
    "version": 3
   },
   "file_extension": ".py",
   "mimetype": "text/x-python",
   "name": "python",
   "nbconvert_exporter": "python",
   "pygments_lexer": "ipython3",
   "version": "3.9.5"
  },
  "vscode": {
   "interpreter": {
    "hash": "4a8c3d05a42edf06e742f46f08d751d9829eee66023d0a36c802d6aa069fd930"
   }
  }
 },
 "nbformat": 4,
 "nbformat_minor": 5
}
