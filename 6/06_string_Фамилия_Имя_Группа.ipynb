{
 "cells": [
  {
   "cell_type": "markdown",
   "metadata": {},
   "source": [
    "# Работа со строковыми значениями"
   ]
  },
  {
   "cell_type": "markdown",
   "metadata": {},
   "source": [
    "__Автор задач: Блохин Н.В. (NVBlokhin@fa.ru)__\n",
    "\n",
    "Материалы:\n",
    "* Макрушин С.В. Лекция \"Работа со строковыми значениям\"\n",
    "* https://pyformat.info/\n",
    "* https://docs.python.org/3/library/re.html\n",
    "    * https://docs.python.org/3/library/re.html#flags\n",
    "    * https://docs.python.org/3/library/re.html#functions\n",
    "* https://pythonru.com/primery/primery-primeneniya-regulyarnyh-vyrazheniy-v-python\n",
    "* https://kanoki.org/2019/11/12/how-to-use-regex-in-pandas/\n",
    "* https://realpython.com/nltk-nlp-python/"
   ]
  },
  {
   "cell_type": "markdown",
   "metadata": {},
   "source": [
    "## Задачи для совместного разбора"
   ]
  },
  {
   "cell_type": "code",
   "execution_count": 4,
   "outputs": [],
   "source": [
    "import pandas as pd\n",
    "import xml.etree.ElementTree as ET\n",
    "from bs4 import BeautifulSoup"
   ],
   "metadata": {
    "collapsed": false
   }
  },
  {
   "cell_type": "markdown",
   "metadata": {},
   "source": [
    "1. Вывести на экран данные из словаря `obj` построчно в виде `k = v`, задав формат таким образом, чтобы знак равенства оказался на одной и той же позиции во всех строках. Строковые литералы обернуть в кавычки."
   ]
  },
  {
   "cell_type": "code",
   "execution_count": 2,
   "metadata": {},
   "outputs": [],
   "source": [
    "obj = {\n",
    "    \"home_page\": \"https://github.com/pypa/sampleproject\",\n",
    "    \"keywords\": \"sample setuptools development\",\n",
    "    \"license\": \"MIT\",\n",
    "}"
   ]
  },
  {
   "cell_type": "markdown",
   "metadata": {},
   "source": [
    "2. Написать регулярное выражение,которое позволит найти номера групп студентов."
   ]
  },
  {
   "cell_type": "code",
   "execution_count": 3,
   "metadata": {},
   "outputs": [
    {
     "data": {
      "text/plain": "0    Евгения гр.ПМ19-1\n1         Илья пм 20-4\n2            Анна 20-3\ndtype: object"
     },
     "execution_count": 3,
     "metadata": {},
     "output_type": "execute_result"
    }
   ],
   "source": [
    "obj = pd.Series([\"Евгения гр.ПМ19-1\", \"Илья пм 20-4\", \"Анна 20-3\"])\n",
    "obj"
   ]
  },
  {
   "cell_type": "markdown",
   "metadata": {},
   "source": [
    "3. Разбейте текст формулировки задачи 2 на слова."
   ]
  },
  {
   "cell_type": "markdown",
   "metadata": {},
   "source": [
    "## Лабораторная работа 6"
   ]
  },
  {
   "cell_type": "markdown",
   "metadata": {},
   "source": [
    "### Форматирование строк"
   ]
  },
  {
   "cell_type": "markdown",
   "metadata": {},
   "source": [
    "1\\. Загрузите данные из файла `recipes_sample.csv` (__ЛР2__) в виде `pd.DataFrame` `recipes` При помощи форматирования строк выведите информацию об id рецепта и времени выполнения 5 случайных рецептов в виде таблицы следующего вида:\n",
    "\n",
    "    \n",
    "    |      id      |  minutes  |\n",
    "    |--------------------------|\n",
    "    |    61178     |    65     |\n",
    "    |    202352    |    80     |\n",
    "    |    364322    |    150    |\n",
    "    |    26177     |    20     |\n",
    "    |    224785    |    35     |\n",
    "    \n",
    "Обратите внимание, что ширина столбцов заранее неизвестна и должна рассчитываться динамически, в зависимости от тех данных, которые были выбраны."
   ]
  },
  {
   "cell_type": "code",
   "execution_count": 10,
   "outputs": [
    {
     "name": "stdout",
     "output_type": "stream",
     "text": [
      "|      id      |  minutes  |\n",
      "|--------------------------|\n",
      "|    436816    |    25     |\n",
      "|    337244    |    20     |\n",
      "|    77043     |    30     |\n",
      "|    112057    |    110    |\n",
      "|    201780    |    20     |\n"
     ]
    }
   ],
   "source": [
    "data = pd.read_csv(\"06_string_data/recipes_sample.csv\", sep=',')\n",
    "data_ = data.loc[:, ['id', 'minutes']]\n",
    "print(\"|{: ^14}|{: ^11}|\".format(*data_.columns))\n",
    "print(\"|\" + \"-\" * 26 + \"|\")\n",
    "for row in data_.sample(5).values:\n",
    "    print(f\"|{row[0]: ^14}|{row[1]: ^11}|\")"
   ],
   "metadata": {
    "collapsed": false
   }
  },
  {
   "cell_type": "markdown",
   "metadata": {},
   "source": [
    "2\\. Напишите функцию `show_info`, которая по данным о рецепте создает строку (в смысле объекта python) с описанием следующего вида:\n",
    "\n",
    "```\n",
    "\"Название Из Нескольких Слов\"\n",
    "\n",
    "1. Шаг 1\n",
    "2. Шаг 2\n",
    "----------\n",
    "Автор: contributor_id\n",
    "Среднее время приготовления: minutes минут\n",
    "```\n",
    "\n",
    "    \n",
    "Данные для создания строки получите из файлов `recipes_sample.csv` (__ЛР2__) и `steps_sample.xml` (__ЛР3__). \n",
    "Вызовите данную функцию для рецепта с id `170895` и выведите (через `print`) полученную строку на экран."
   ]
  },
  {
   "cell_type": "code",
   "execution_count": null,
   "outputs": [],
   "source": [
    "assert (\n",
    "        show_info(\n",
    "            name=\"george s at the cove black bean soup\",\n",
    "            steps=[\n",
    "                \"clean the leeks and discard the dark green portions\",\n",
    "                \"cut the leeks lengthwise then into one-inch pieces\",\n",
    "                \"melt the butter in a medium skillet , med\",\n",
    "            ],\n",
    "            minutes=90,\n",
    "            author_id=35193,\n",
    "        )\n",
    "        == '\"George S At The Cove Black Bean Soup\"\\n\\n1. Clean the leeks and discard the dark green portions\\n2. Cut the leeks lengthwise then into one-inch pieces\\n3. Melt the butter in a medium skillet , med\\n----------\\nАвтор: 35193\\nСреднее время приготовления: 90 минут\\n'\n",
    ")"
   ],
   "metadata": {
    "collapsed": false
   }
  },
  {
   "cell_type": "code",
   "execution_count": 32,
   "outputs": [
    {
     "name": "stdout",
     "output_type": "stream",
     "text": [
      "\"leeks and parsnips  sauteed or creamed\"\n",
      "\n",
      "170895\n",
      "0. clean the leeks and discard the dark green portions\n",
      "1. cut the leeks lengthwise then into one-inch pieces\n",
      "2. melt the butter in a medium skillet , med\n",
      "3. heat\n",
      "4. add the garlic and fry 'til fragrant\n",
      "5. add leeks and fry until the leeks are tender , about 6-minutes\n",
      "6. meanwhile , peel and chunk the parsnips into one-inch pieces\n",
      "7. place in a steaming basket and steam 'til they are as tender as you prefer\n",
      "8. i like them fork-tender\n",
      "9. drain parsnips and add to the skillet with the leeks\n",
      "10. add salt and pepper\n",
      "11. gently sautee together for 5-minutes\n",
      "12. at this point you can serve it , or continue on and cream it:\n",
      "13. in a jar with a screw top , add the half-n-half and arrowroot\n",
      "14. shake 'til blended\n",
      "15. turn heat to low under the leeks and parsnips\n",
      "16. pour in the arrowroot mixture , stirring gently as you pour\n",
      "17. if too thick , gradually add the water\n",
      "18. let simmer for a couple of minutes\n",
      "19. taste to adjust seasoning , probably an additional 1 / 2 teaspoon salt\n",
      "20. serve warm\n",
      "--------\n",
      "Автор: 8377\n",
      "Среднее время приготовления: 27 минут\n"
     ]
    }
   ],
   "source": [
    "import xml\n",
    "\n",
    "with open('06_string_data/steps_sample.xml', 'r') as f:\n",
    "    steps_sample_2 = BeautifulSoup(f, features='xml')\n",
    "\n",
    "\n",
    "def show_info(id_: int, recipes_sample: pd.DataFrame, steps_sample: BeautifulSoup):\n",
    "    recipes = recipes_sample[recipes_sample['id'] == id_]\n",
    "    recipes = recipes.iloc[0]\n",
    "    steps_id = steps_sample.find_all('id')\n",
    "    steps = None\n",
    "    print(f\"\\\"{recipes['name']}\\\"\\n\")\n",
    "    for ID in steps_id:\n",
    "        if int(ID.text) == id_:\n",
    "            steps = ID.parent.find('steps').find_all('step')\n",
    "\n",
    "    for index, step in enumerate(steps):\n",
    "        print(f\"{index}. {step.text}\")\n",
    "    print('--------')\n",
    "    print(f\"Автор: {recipes['contributor_id']}\\nСреднее время приготовления: {recipes['minutes']} минут\")\n",
    "    # s = '\"{}\"\\n\\n'.format(list_[0][list_[0][\"id\"] == id_][\"name\"].item())\n",
    "\n",
    "\n",
    "show_info(170895, data, steps_sample_2)"
   ],
   "metadata": {
    "collapsed": false
   }
  },
  {
   "cell_type": "markdown",
   "metadata": {},
   "source": [
    ": ## Работа с регулярными выражениями"
   ]
  },
  {
   "cell_type": "markdown",
   "metadata": {},
   "source": [
    "3\\. Напишите регулярное выражение, которое ищет следующий паттерн в строке: число (1 цифра или более), затем пробел, затем слова: hour или hours или minute или minutes. Произведите поиск по данному регулярному выражению в каждом шаге рецепта с id 25082. Выведите на экран все непустые результаты, найденные по данному шаблону."
   ]
  },
  {
   "cell_type": "code",
   "execution_count": 39,
   "outputs": [
    {
     "name": "stdout",
     "output_type": "stream",
     "text": [
      "('minute',)\n",
      "('minute',)\n",
      "('hours',)\n",
      "('minute',)\n",
      "('minute',)\n"
     ]
    }
   ],
   "source": [
    "import re\n",
    "id_ = 25082\n",
    "with open('06_string_data/steps_sample.xml', 'r') as f:\n",
    "    steps_sample = BeautifulSoup(f, features='xml')\n",
    "steps_id = steps_sample.find_all('id')\n",
    "for ID in steps_id:\n",
    "    if int(ID.text) == id_:\n",
    "        steps = ID.parent.find('steps').find_all('step')\n",
    "\n",
    "for index, step in enumerate(steps):\n",
    "    r = re.search('\\d+ (hours|hour|minute|minutes)', step.text)\n",
    "    if r:\n",
    "        print(r.groups())"
   ],
   "metadata": {
    "collapsed": false
   }
  },
  {
   "cell_type": "markdown",
   "metadata": {},
   "source": [
    "4\\. Напишите регулярное выражение, которое ищет шаблон вида \"this..., but\" _в начале строки_ . Между словом \"this\" и частью \", but\" может находиться произвольное число букв, цифр, знаков подчеркивания и пробелов. Никаких других символов вместо многоточия быть не может. Пробел между запятой и словом \"but\" может присутствовать или отсутствовать.\n",
    "\n",
    "Используя строковые методы `pd.Series`, выясните, для каких рецептов данный шаблон содержится в тексте описания. Выведите на экран количество таких рецептов и 3 примера подходящих описаний (текст описания должен быть виден на экране полностью)."
   ]
  },
  {
   "cell_type": "markdown",
   "metadata": {},
   "source": [
    "5\\. В текстах шагов рецептов обыкновенные дроби имеют вид \"a / b\". Используя регулярные выражения, уберите в тексте шагов рецепта с id 72367 пробелы до и после символа дроби. Выведите на экран шаги этого рецепта после их изменения."
   ]
  },
  {
   "cell_type": "markdown",
   "metadata": {},
   "source": [
    "### Сегментация текста"
   ]
  },
  {
   "cell_type": "markdown",
   "metadata": {},
   "source": [
    "6\\. Разбейте тексты шагов рецептов на слова при помощи пакета `nltk`. Посчитайте и выведите на экран кол-во уникальных слов среди всех рецептов. Словом называется любая последовательность алфавитных символов (для проверки можно воспользоваться `str.isalpha`). При подсчете количества уникальных слов не учитывайте регистр."
   ]
  },
  {
   "cell_type": "markdown",
   "metadata": {},
   "source": [
    "7\\. Разбейте описания рецептов из `recipes` на предложения при помощи пакета `nltk`. Найдите 5 самых длинных описаний (по количеству _предложений_) рецептов в датасете и выведите строки фрейма, соответствующие этим рецептами, в порядке убывания длины."
   ]
  },
  {
   "cell_type": "markdown",
   "metadata": {},
   "source": [
    "8\\. Напишите функцию, которая для заданного предложения выводит информацию о частях речи слов, входящих в предложение, в следующем виде:\n",
    "```\n",
    "PRP   VBD   DT      NNS     CC   VBD      NNS        RB   \n",
    " I  omitted the raspberries and added strawberries instead\n",
    "``` \n",
    "Для определения части речи слова можно воспользоваться `nltk.pos_tag`.\n",
    "\n",
    "Проверьте работоспособность функции на названии рецепта с id 241106.\n",
    "\n",
    "Обратите внимание, что часть речи должна находиться ровно посередине над соотвествующим словом, а между самими словами должен быть ровно один пробел.\n"
   ]
  },
  {
   "cell_type": "code",
   "execution_count": null,
   "metadata": {},
   "outputs": [],
   "source": []
  }
 ],
 "metadata": {
  "kernelspec": {
   "display_name": "Python 3 (ipykernel)",
   "language": "python",
   "name": "python3"
  },
  "language_info": {
   "codemirror_mode": {
    "name": "ipython",
    "version": 3
   },
   "file_extension": ".py",
   "mimetype": "text/x-python",
   "name": "python",
   "nbconvert_exporter": "python",
   "pygments_lexer": "ipython3",
   "version": "3.9.7"
  }
 },
 "nbformat": 4,
 "nbformat_minor": 4
}
