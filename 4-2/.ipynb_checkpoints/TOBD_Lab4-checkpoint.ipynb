{
  "cells": [
    {
      "cell_type": "markdown",
      "metadata": {
        "id": "OGeMsiOGmo47"
      },
      "source": [
        "# Работа с Excel\n",
        "\n",
        "v 0.1"
      ]
    },
    {
      "cell_type": "markdown",
      "metadata": {
        "id": "D2FZILvnmo49"
      },
      "source": [
        "Датасет: себестоимостьА_в1.xlsx"
      ]
    },
    {
      "cell_type": "code",
      "execution_count": null,
      "metadata": {
        "id": "0UKW-K-fmo4-"
      },
      "outputs": [],
      "source": [
        "import xlwings as xw\n",
        "import numpy as np\n",
        "import pandas as pd\n",
        "from xlwings import constants "
      ]
    },
    {
      "cell_type": "markdown",
      "metadata": {
        "id": "3BEqZHTjmo4-"
      },
      "source": [
        "## 1. Используя xlwings:"
      ]
    },
    {
      "cell_type": "code",
      "execution_count": null,
      "metadata": {
        "id": "oJNyveQSmo4_"
      },
      "outputs": [],
      "source": [
        "wb = xw.Book('себестоимостьА_в1.xlsx')\n",
        "recipies = wb.sheets['Рецептура']"
      ]
    },
    {
      "cell_type": "code",
      "execution_count": null,
      "metadata": {
        "id": "AQwgBv0Pmo4_",
        "outputId": "3154cf8c-f3d6-43fa-e542-64b907a3de88"
      },
      "outputs": [
        {
          "data": {
            "text/plain": [
              "['Хлеб Венгерский', 'Хлеб \"Барбари\"', 'Багет парижский', 'Чиабатта']"
            ]
          },
          "execution_count": 5,
          "metadata": {},
          "output_type": "execute_result"
        }
      ],
      "source": [
        "recipies.range('C7:C10').value"
      ]
    },
    {
      "cell_type": "markdown",
      "metadata": {
        "id": "XkRCCo5Pmo5A"
      },
      "source": [
        "1.1 На листе \"Рецептура\" для области \"Пшеничный хлеб\" рассчитать себестоимость всех видов продукции."
      ]
    },
    {
      "cell_type": "code",
      "execution_count": null,
      "metadata": {
        "id": "3lC3RSxvmo5A"
      },
      "outputs": [],
      "source": [
        "consumption = recipies.range('G7:O10').options(np.array).value\n",
        "consumption = np.nan_to_num(consumption)\n",
        "unit_prices = recipies.range('G14:O14').options(np.array).value\n",
        "cost = consumption @ unit_prices"
      ]
    },
    {
      "cell_type": "markdown",
      "metadata": {
        "id": "Gh1T4h2vmo5A"
      },
      "source": [
        "1.2 Результаты рассчетов 1.1 сохранить в отдельном столбце области \"Пшеничный хлеб\""
      ]
    },
    {
      "cell_type": "code",
      "execution_count": null,
      "metadata": {
        "id": "v-YHh_N4mo5A"
      },
      "outputs": [],
      "source": [
        "# recipies.range('T7:T10').value = cost.reshape(-1, 1)\n",
        "recipies.range('T6').value = 'Себестоимость'\n",
        "recipies.range('T7').options(transpose=True).value = cost"
      ]
    },
    {
      "cell_type": "markdown",
      "metadata": {
        "id": "GaaOgenlmo5B"
      },
      "source": [
        "1.3 Максимально приблизить форматирование столбца, добавленного в 1.2 к оформлению всей области."
      ]
    },
    {
      "cell_type": "code",
      "execution_count": null,
      "metadata": {
        "id": "_lXHQyU7mo5B"
      },
      "outputs": [],
      "source": [
        "# cost = [round(i, 2) for i in cost]\n",
        "recipies.range('T7:T10').options(transpose=True).value = cost\n",
        "xw.Range('T7:T10').number_format = '0,00'\n",
        "xw.Range('T7:T10').color = (255, 255, 167)\n",
        "recipies.range('T4:T6').api.merge()\n",
        "recipies.range('T6').value = 'Себестоимость'\n",
        "xw.Range('T4:T6').color = (255, 192, 0)\n",
        "xw.Range('T4:T6').autofit()"
      ]
    },
    {
      "cell_type": "markdown",
      "metadata": {
        "id": "-1mOoZVImo5B"
      },
      "source": [
        "1.4 Заменить значения добавленные в 1.2 на формулы. "
      ]
    },
    {
      "cell_type": "code",
      "execution_count": null,
      "metadata": {
        "id": "j8TTC1URmo5B"
      },
      "outputs": [],
      "source": [
        "xw.Range('U7').formula = '=SUMPRODUCT(G7:O7,$G$14:$O$14)' "
      ]
    },
    {
      "cell_type": "markdown",
      "metadata": {
        "id": "-xE5JsqRmo5C"
      },
      "source": [
        "1.5 Выполнить 1.4 с помощью \"протягиваемых\" формул."
      ]
    },
    {
      "cell_type": "code",
      "execution_count": null,
      "metadata": {
        "id": "gbJE8ifcmo5C",
        "outputId": "3e504740-5f88-4429-fffd-f54107bba0a6"
      },
      "outputs": [
        {
          "data": {
            "text/plain": [
              "True"
            ]
          },
          "execution_count": 28,
          "metadata": {},
          "output_type": "execute_result"
        }
      ],
      "source": [
        "xw.Range('U7').formula = '=SUMPRODUCT(G7:O7,$G$14:$O$14)' \n",
        "from xlwings.constants import AutoFillType \n",
        "xw.Range('U7').api.AutoFill(xw.Range(\"U7:U10\").api, \n",
        "                                AutoFillType.xlFillDefault)"
      ]
    },
    {
      "cell_type": "markdown",
      "metadata": {
        "id": "Di1I3Q_zmo5C"
      },
      "source": [
        "1.6 Сдлеать так, чтобы решение 1.5 и 1.3 автоматически применилось ко всем аналогичным областям на листе \"Рецептура\""
      ]
    },
    {
      "cell_type": "markdown",
      "metadata": {
        "id": "3E1MiWUmmo5C"
      },
      "source": [
        "## 2. Используя xlwings:"
      ]
    },
    {
      "cell_type": "markdown",
      "metadata": {
        "id": "fc68hcg1mo5C"
      },
      "source": [
        "2.1 Собрать цены всех ресурсов, используемые на листе \"Рецептура\". Проверить, что нет расхождений между ценами совпадающих ресурсов"
      ]
    },
    {
      "cell_type": "markdown",
      "metadata": {
        "id": "LWXc2PAqmo5D"
      },
      "source": [
        "2.2 Вынести цены ресурсов в новую таблицу на новом листе \"Цена ресурсов\"."
      ]
    },
    {
      "cell_type": "markdown",
      "metadata": {
        "id": "tVGyDGVJmo5D"
      },
      "source": [
        "2.3 Заменить фиксированные цены ресурсов на листе \"Рецептура\" на ссылки на лист \"Цена ресурсов\""
      ]
    },
    {
      "cell_type": "markdown",
      "metadata": {
        "id": "0RgiTh89mo5D"
      },
      "source": [
        "2.4 Сделать так, чтобы цены ресурсов на листе \"Рецептура\" подтягивались с листа \"Цена ресурсов\" по наименованию (подсказка: использовать ВПР, рекомендуется использовать именованные области)"
      ]
    },
    {
      "cell_type": "markdown",
      "metadata": {
        "id": "OCby6_0jmo5E"
      },
      "source": [
        "## 3."
      ]
    },
    {
      "cell_type": "markdown",
      "metadata": {
        "id": "1WWchjvNmo5E"
      },
      "source": [
        "3.1 Создать нормализованную (не ниже 3й нормальной формы) базу данных sqlite для хранения информации из себестоимостьА_в1.xlsx .\n",
        "\n",
        "Используя xlwings:\n",
        "\n",
        "3.2 Информацию из себестоимостьА_в1.xlsx внести в БД на sqlite.\n",
        "\n",
        "3.3 По базе данных sqlite сгенерирвать книгу эксель, по структуре аналогичную себестоимостьА_в1.xlsx\n",
        "\n",
        "3.4 При помощи макроса на xlwings сделать в Excel кнопку, по которой все изменения на листе вносятся в БД, а цвет ячеек, в которых были найдены изменения, меняслся на зеленый.\n",
        "\n",
        "3.5 Реализовать UDF, которая позволяет по имени ресурса вернуть количество видов в продукции в которых используется данный ресурс\n",
        "\n",
        "3.6 Реализовать UDF, которая позволяет по имени ресурса вернуть массив наименований продуктов, в которых используется данный ресурс\n",
        "\n",
        "3.7 Реазливать UDF 3.5 и 3.6 которые для получения ответа использую не книгу Excel а БД на sqlite."
      ]
    },
    {
      "cell_type": "code",
      "execution_count": null,
      "metadata": {
        "id": "T0IANDTYmo5E"
      },
      "outputs": [],
      "source": []
    }
  ],
  "metadata": {
    "colab": {
      "provenance": []
    },
    "kernelspec": {
      "display_name": "Python 3.9.5 ('venv')",
      "language": "python",
      "name": "python3"
    },
    "language_info": {
      "codemirror_mode": {
        "name": "ipython",
        "version": 3
      },
      "file_extension": ".py",
      "mimetype": "text/x-python",
      "name": "python",
      "nbconvert_exporter": "python",
      "pygments_lexer": "ipython3",
      "version": "3.9.5"
    },
    "vscode": {
      "interpreter": {
        "hash": "4a8c3d05a42edf06e742f46f08d751d9829eee66023d0a36c802d6aa069fd930"
      }
    }
  },
  "nbformat": 4,
  "nbformat_minor": 0
}
