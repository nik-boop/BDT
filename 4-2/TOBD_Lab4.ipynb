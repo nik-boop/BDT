{
  "cells": [
    {
      "cell_type": "markdown",
      "metadata": {
        "id": "OGeMsiOGmo47"
      },
      "source": [
        "# Работа с Excel\n",
        "\n",
        "v 0.1"
      ]
    },
    {
      "cell_type": "markdown",
      "metadata": {
        "id": "D2FZILvnmo49"
      },
      "source": [
        "Датасет: себестоимостьА_в1.xlsx"
      ]
    },
    {
      "cell_type": "code",
      "execution_count": 1,
      "metadata": {
        "id": "0UKW-K-fmo4-"
      },
      "outputs": [],
      "source": [
        "import xlwings as xw\n",
        "import numpy as np\n",
        "import pandas as pd\n",
        "from xlwings import constants "
      ]
    },
    {
      "cell_type": "markdown",
      "metadata": {
        "id": "3BEqZHTjmo4-"
      },
      "source": [
        "## 1. Используя xlwings:"
      ]
    },
    {
      "cell_type": "code",
      "execution_count": 2,
      "metadata": {
        "id": "oJNyveQSmo4_"
      },
      "outputs": [],
      "source": [
        "wb = xw.Book('себестоимостьА_в1.xlsx')\n",
        "recipies = wb.sheets['Рецептура']"
      ]
    },
    {
      "cell_type": "code",
      "execution_count": 3,
      "metadata": {
        "id": "AQwgBv0Pmo4_",
        "outputId": "3154cf8c-f3d6-43fa-e542-64b907a3de88"
      },
      "outputs": [
        {
          "data": {
            "text/plain": [
              "['Хлеб Венгерский', 'Хлеб \"Барбари\"', 'Багет парижский', 'Чиабатта']"
            ]
          },
          "execution_count": 3,
          "metadata": {},
          "output_type": "execute_result"
        }
      ],
      "source": [
        "recipies.range('C7:C10').value"
      ]
    },
    {
      "cell_type": "markdown",
      "metadata": {
        "id": "XkRCCo5Pmo5A"
      },
      "source": [
        "1.1 На листе \"Рецептура\" для области \"Пшеничный хлеб\" рассчитать себестоимость всех видов продукции."
      ]
    },
    {
      "cell_type": "code",
      "execution_count": 4,
      "metadata": {
        "id": "3lC3RSxvmo5A"
      },
      "outputs": [],
      "source": [
        "consumption = recipies.range('G7:O10').options(np.array).value\n",
        "unit_prices = recipies.range('G14:O14').options(np.array).value\n",
        "cost = consumption @ unit_prices"
      ]
    },
    {
      "cell_type": "markdown",
      "metadata": {
        "id": "Gh1T4h2vmo5A"
      },
      "source": [
        "1.2 Результаты рассчетов 1.1 сохранить в отдельном столбце области \"Пшеничный хлеб\""
      ]
    },
    {
      "cell_type": "code",
      "execution_count": 5,
      "metadata": {
        "id": "v-YHh_N4mo5A"
      },
      "outputs": [],
      "source": [
        "# recipies.range('T7:T10').value = cost.reshape(-1, 1)\n",
        "recipies.range('T6').value = 'Себестоимость'\n",
        "recipies.range('T7').options(transpose=True).value = cost"
      ]
    },
    {
      "cell_type": "markdown",
      "metadata": {
        "id": "GaaOgenlmo5B"
      },
      "source": [
        "1.3 Максимально приблизить форматирование столбца, добавленного в 1.2 к оформлению всей области."
      ]
    },
    {
      "cell_type": "code",
      "execution_count": 6,
      "metadata": {
        "id": "_lXHQyU7mo5B"
      },
      "outputs": [],
      "source": [
        "# cost = [round(i, 2) for i in cost]\n",
        "recipies.range('T7:T10').options(transpose=True).value = cost\n",
        "xw.Range('T7:T10').number_format = '0,00'\n",
        "xw.Range('T7:T10').color = (255, 255, 167)\n",
        "recipies.range('T4:T6').merge()\n",
        "recipies.range('T6').value = 'Себестоимость'\n",
        "xw.Range('T4:T6').color = (255, 192, 0)\n",
        "xw.Range('T4:T6').autofit()"
      ]
    },
    {
      "cell_type": "markdown",
      "metadata": {
        "id": "-1mOoZVImo5B"
      },
      "source": [
        "1.4 Заменить значения добавленные в 1.2 на формулы. "
      ]
    },
    {
      "cell_type": "code",
      "execution_count": 7,
      "metadata": {
        "id": "j8TTC1URmo5B"
      },
      "outputs": [],
      "source": [
        "xw.Range('U7').formula = '=SUMPRODUCT(G7:O7,$G$14:$O$14)' "
      ]
    },
    {
      "cell_type": "markdown",
      "metadata": {
        "id": "-xE5JsqRmo5C"
      },
      "source": [
        "1.5 Выполнить 1.4 с помощью \"протягиваемых\" формул."
      ]
    },
    {
      "cell_type": "code",
      "execution_count": 8,
      "metadata": {
        "id": "gbJE8ifcmo5C",
        "outputId": "3e504740-5f88-4429-fffd-f54107bba0a6"
      },
      "outputs": [
        {
          "data": {
            "text/plain": [
              "True"
            ]
          },
          "execution_count": 8,
          "metadata": {},
          "output_type": "execute_result"
        }
      ],
      "source": [
        "xw.Range('U7').formula = '=SUMPRODUCT(G7:O7,$G$14:$O$14)' \n",
        "from xlwings.constants import AutoFillType \n",
        "xw.Range('U7').api.AutoFill(xw.Range(\"U7:U10\").api, \n",
        "                                AutoFillType.xlFillDefault)"
      ]
    },
    {
      "cell_type": "markdown",
      "metadata": {
        "id": "Di1I3Q_zmo5C"
      },
      "source": [
        "1.6 Сдлеать так, чтобы решение 1.5 и 1.3 автоматически применилось ко всем аналогичным областям на листе \"Рецептура\""
      ]
    },
    {
      "cell_type": "code",
      "execution_count": 9,
      "metadata": {},
      "outputs": [],
      "source": [
        "import xlwings as xw\n",
        "import numpy as np\n",
        "import pandas as pd\n",
        "from xlwings import constants "
      ]
    },
    {
      "cell_type": "code",
      "execution_count": 10,
      "metadata": {},
      "outputs": [
        {
          "data": {
            "text/plain": [
              "<Sheet [себестоимостьА_в1.xlsx]Рецептура>"
            ]
          },
          "execution_count": 10,
          "metadata": {},
          "output_type": "execute_result"
        }
      ],
      "source": [
        "def readBookAndSheets(Book: str, Sheets: str) -> xw.Sheet:\n",
        "    global wb, recipies\n",
        "    wb = xw.Book(Book)\n",
        "    recipies = wb.sheets[Sheets]\n",
        "    return recipies\n",
        "readBookAndSheets(\"себестоимостьА_в1.xlsx\", \"Рецептура\")"
      ]
    },
    {
      "cell_type": "code",
      "execution_count": 11,
      "metadata": {},
      "outputs": [
        {
          "data": {
            "text/plain": [
              "[3, 19, 36, 57]"
            ]
          },
          "execution_count": 11,
          "metadata": {},
          "output_type": "execute_result"
        }
      ],
      "source": [
        "def getStartPoz() -> list:\n",
        "    global start_poz\n",
        "    start_poz = []\n",
        "    for i, v in enumerate(recipies.range(\"B:B\").value):\n",
        "        if v == \"№\":\n",
        "            start_poz.append(i)\n",
        "    return start_poz\n",
        "\n",
        "getStartPoz()"
      ]
    },
    {
      "cell_type": "code",
      "execution_count": 12,
      "metadata": {},
      "outputs": [
        {
          "data": {
            "text/plain": [
              "[((3, 2), (16, 19), 4, 7),\n",
              " ((19, 2), (33, 18), 3, 8),\n",
              " ((36, 2), (54, 28), 7, 12),\n",
              " ((57, 2), (75, 29), 9, 12)]"
            ]
          },
          "execution_count": 12,
          "metadata": {},
          "output_type": "execute_result"
        }
      ],
      "source": [
        "def getTablesInfo() -> list:\n",
        "    global tables_info   \n",
        "    tables_info = []\n",
        "    for start in start_poz:\n",
        "        r = recipies.range(start+4, 2)\n",
        "        poz_count = 0\n",
        "        column_in_table = 0\n",
        "        for poz in r.expand().value:\n",
        "            if poz[1] is not None:\n",
        "                poz_count += 1\n",
        "            column_in_table += 1\n",
        "        column_in_table -= 3\n",
        "        tables_info.append(((start, 2), (start + r.expand().rows.count + 3, 2 + recipies.range((start, 2)).merge_area.columns.count - 1), poz_count, column_in_table))\n",
        "    return tables_info\n",
        "getTablesInfo()"
      ]
    },
    {
      "cell_type": "code",
      "execution_count": 13,
      "metadata": {},
      "outputs": [],
      "source": [
        "from xlwings.constants import AutoFillType\n",
        "\n",
        "def getTableDataCoords() -> list[dict]:\n",
        "    tables_coords = []\n",
        "    for start_coords, end_coords, poz_count, column_in_table in tables_info:\n",
        "\n",
        "        data_start_coords = start_coords[0] + 4, start_coords[1] + 5\n",
        "        data_end_coords = data_start_coords[0] + poz_count - 1, end_coords[1] - 1\n",
        "\n",
        "        data_line_1 = (start_coords[0] + 4, start_coords[1] + 5), (data_start_coords[0], end_coords[1] - 1)\n",
        "\n",
        "        unit_prices_coords_start = data_start_coords[0] + column_in_table, data_start_coords[1]\n",
        "        unit_prices_coords_end = data_start_coords[0] + column_in_table, data_end_coords[1]\n",
        "        \n",
        "        cost_start = start_coords[0] + 4, end_coords[1] + 1\n",
        "        cost_end = start_coords[0] + 4 + poz_count - 1, end_coords[1] + 1\n",
        "\n",
        "        cost_start_2  = cost_start[0], cost_end[1] + 1\n",
        "        cost_end_2 = cost_end[0], cost_end[1] + 1\n",
        "\n",
        "        cost_label_data = cost_start[0]-3, cost_start[1]\n",
        "        cost_label_all = (cost_label_data), (cost_label_data[0]+2, cost_label_data[1])\n",
        "\n",
        "        sources_start = data_start_coords[0]-2, data_start_coords[1]\n",
        "        sources_end = data_start_coords[0]-2, data_end_coords[1]\n",
        "\n",
        "        tables_coords_dict = {\n",
        "            \"data\": (data_start_coords, data_end_coords),\n",
        "            \"data_line_1\": data_line_1,\n",
        "            \"unit_prices\": (unit_prices_coords_start, unit_prices_coords_end),\n",
        "            \"cost_label\": cost_label_data,\n",
        "            \"cost_label_merge\": cost_label_all,\n",
        "            \"cost\": (cost_start, cost_end),\n",
        "            \"cost2\": (cost_start_2, cost_end_2),\n",
        "            \"sources\": (sources_start, sources_end),\n",
        "\n",
        "            }\n",
        "        tables_coords.append(tables_coords_dict)\n",
        "    return tables_coords\n",
        "\n",
        "def calculateCost(tables_coords):\n",
        "    for coords in tables_coords:\n",
        "\n",
        "        consumption = recipies.range(*coords['data']).options(np.array).value\n",
        "        consumption = np.nan_to_num(consumption)\n",
        "\n",
        "        unit_prices = recipies.range(*coords['unit_prices']).options(np.array).value\n",
        "        unit_prices = np.nan_to_num(unit_prices)\n",
        "\n",
        "        cost = consumption @ unit_prices\n",
        "\n",
        "        range_cost_label = recipies.range(coords['cost_label'])\n",
        "\n",
        "        range_cost_label.value = 'Себестоимость'\n",
        "        range_cost_label.api.Font.ColorIndex  = 2\n",
        "        range_cost_label.api.Font.Bold = True\n",
        "        range_cost_label.api.HorizontalAlignment = xw.constants.HAlign.xlHAlignCenter\n",
        "        range_cost_label.api.VerticalAlignment = xw.constants.VAlign.xlVAlignCenter\n",
        "        range_cost_label.autofit()\n",
        "\n",
        "        range_cost_marge = recipies.range(*coords['cost_label_merge'])\n",
        "\n",
        "        range_cost_marge.merge()\n",
        "        range_cost_marge.color = (255, 192, 0)\n",
        "        range_cost_marge.api.Borders.Weight = 2\n",
        "\n",
        "        range_cost = recipies.range(*coords['cost'])\n",
        "\n",
        "        range_cost.number_format = '0,00'\n",
        "        range_cost.options(transpose=True).value = cost\n",
        "        range_cost.color = (255, 255, 167)\n",
        "        range_cost.api.Borders.Weight = 2\n",
        "\n",
        "        range_cost_2 = recipies.range(*coords['cost2'][0])\n",
        "\n",
        "        range_cost_2.formula = f'=SUMPRODUCT(\\\n",
        "    {recipies.range(*coords[\"data_line_1\"]).get_address(row_absolute = False , column_absolute = False )}, \\\n",
        "    {recipies.range(*coords[\"unit_prices\"]).address})'\n",
        "        range_cost_2.api.AutoFill(recipies.range(*coords['cost2']).api, AutoFillType.xlFillDefault)\n",
        "\n",
        "calculateCost(tables_coords := getTableDataCoords())\n"
      ]
    },
    {
      "cell_type": "markdown",
      "metadata": {
        "id": "3E1MiWUmmo5C"
      },
      "source": [
        "## 2. Используя xlwings:"
      ]
    },
    {
      "cell_type": "markdown",
      "metadata": {
        "id": "fc68hcg1mo5C"
      },
      "source": [
        "2.1 Собрать цены всех ресурсов, используемые на листе \"Рецептура\". Проверить, что нет расхождений между ценами совпадающих ресурсов"
      ]
    },
    {
      "cell_type": "code",
      "execution_count": 14,
      "metadata": {},
      "outputs": [],
      "source": [
        "def getSourcesPrise(tables_coords: list[dict]) -> dict:\n",
        "    sources_data = {}\n",
        "    for coords in tables_coords:\n",
        "        sources_name = recipies.range(*coords['sources']).options(np.array).value\n",
        "        unit_prices = recipies.range(*coords['unit_prices']).options(np.array).value\n",
        "        data_dict = dict(zip(sources_name, unit_prices))\n",
        "        for key in data_dict.keys():\n",
        "            if key == 'nan':\n",
        "                continue\n",
        "            value = sources_data.get(key)\n",
        "            if value is None:\n",
        "                sources_data[key] = data_dict[key]\n",
        "            else:\n",
        "                if value == data_dict[key]:\n",
        "                    continue\n",
        "                else:\n",
        "                    print(f'расхождениt между ценами {key} {value} != {data_dict[key]}')\n",
        "    return sources_data\n",
        "\n",
        "sources_prise = getSourcesPrise(tables_coords=tables_coords)"
      ]
    },
    {
      "cell_type": "markdown",
      "metadata": {
        "id": "LWXc2PAqmo5D"
      },
      "source": [
        "2.2 Вынести цены ресурсов в новую таблицу на новом листе \"Цена ресурсов\"."
      ]
    },
    {
      "cell_type": "code",
      "execution_count": 15,
      "metadata": {},
      "outputs": [],
      "source": [
        "try:\n",
        "    prise = wb.sheets.add(name=\"Цена ресурсов\", after=\"Рецептура\")\n",
        "except ValueError:\n",
        "    prise = wb.sheets[\"Цена ресурсов\"]\n",
        "\n",
        "prise.range(1,1).value = list(sources_prise.items())"
      ]
    },
    {
      "cell_type": "markdown",
      "metadata": {
        "id": "tVGyDGVJmo5D"
      },
      "source": [
        "2.3 Заменить фиксированные цены ресурсов на листе \"Рецептура\" на ссылки на лист \"Цена ресурсов\""
      ]
    },
    {
      "cell_type": "code",
      "execution_count": 55,
      "metadata": {},
      "outputs": [],
      "source": [
        "def int_to_chr(x:int)->str:\n",
        "    d, m = divmod(x, 26)\n",
        "    m = chr(65 + m)\n",
        "    if d > 0:\n",
        "        return int_to_chr(d-1) + m\n",
        "    else:\n",
        "        return m\n",
        "\n",
        "def changePriseStrToLink(tables_coords: list[dict], sources_prise):\n",
        "    for index, (key, value) in enumerate(sources_prise.items()):\n",
        "        sources_prise[key] = [index+1, value]\n",
        "    \n",
        "\n",
        "    for coords in tables_coords:\n",
        "        source_coord = coords['sources'][0]\n",
        "        sources = recipies.range(*coords['sources']).value\n",
        "        links = [\"='Цена ресурсов'!B\" + str(sources_prise[key][0]) if key is not None else 0 for key in sources]\n",
        "        unit_prices = recipies.range(*coords['unit_prices'])\n",
        "        unit_prices.value = links\n",
        "\n",
        "        \n",
        "changePriseStrToLink(tables_coords=tables_coords, sources_prise=sources_prise)"
      ]
    },
    {
      "cell_type": "markdown",
      "metadata": {
        "id": "0RgiTh89mo5D"
      },
      "source": [
        "2.4 Сделать так, чтобы цены ресурсов на листе \"Рецептура\" подтягивались с листа \"Цена ресурсов\" по наименованию (подсказка: использовать ВПР, рекомендуется использовать именованные области)"
      ]
    },
    {
      "cell_type": "code",
      "execution_count": 56,
      "metadata": {},
      "outputs": [],
      "source": [
        "def changePriseStrToFormula(tables_coords: list[dict]):\n",
        "\n",
        "    for coords in tables_coords:\n",
        "        source_coord = coords['sources'][0]\n",
        "        unit_prices = recipies.range(*coords['unit_prices'])\n",
        "        unit_price = recipies.range(*coords['unit_prices'][0])\n",
        "        unit_price.value = f\"=IFERROR(VLOOKUP({int_to_chr(source_coord[1]-1) + str(source_coord[0])},'Цена ресурсов'!$A$1:$B$32,2,FALSE),0)\"\n",
        "        \n",
        "        unit_price.api.AutoFill(unit_prices.api, AutoFillType.xlFillDefault)\n",
        "\n",
        "        \n",
        "changePriseStrToFormula(tables_coords=tables_coords)"
      ]
    },
    {
      "cell_type": "markdown",
      "metadata": {
        "id": "OCby6_0jmo5E"
      },
      "source": [
        "## 3."
      ]
    },
    {
      "cell_type": "markdown",
      "metadata": {
        "id": "1WWchjvNmo5E"
      },
      "source": [
        "3.1 Создать нормализованную (не ниже 3й нормальной формы) базу данных sqlite для хранения информации из себестоимостьА_в1.xlsx .\n",
        "\n",
        "Используя xlwings:\n",
        "\n",
        "3.2 Информацию из себестоимостьА_в1.xlsx внести в БД на sqlite.\n",
        "\n",
        "3.3 По базе данных sqlite сгенерирвать книгу эксель, по структуре аналогичную себестоимостьА_в1.xlsx\n",
        "\n",
        "3.4 При помощи макроса на xlwings сделать в Excel кнопку, по которой все изменения на листе вносятся в БД, а цвет ячеек, в которых были найдены изменения, меняслся на зеленый.\n",
        "\n",
        "3.5 Реализовать UDF, которая позволяет по имени ресурса вернуть количество видов в продукции в которых используется данный ресурс\n",
        "\n",
        "3.6 Реализовать UDF, которая позволяет по имени ресурса вернуть массив наименований продуктов, в которых используется данный ресурс\n",
        "\n",
        "3.7 Реазливать UDF 3.5 и 3.6 которые для получения ответа использую не книгу Excel а БД на sqlite."
      ]
    },
    {
      "cell_type": "code",
      "execution_count": null,
      "metadata": {
        "id": "T0IANDTYmo5E"
      },
      "outputs": [],
      "source": []
    }
  ],
  "metadata": {
    "colab": {
      "provenance": []
    },
    "kernelspec": {
      "display_name": "Python 3.9.5 ('venv')",
      "language": "python",
      "name": "python3"
    },
    "language_info": {
      "codemirror_mode": {
        "name": "ipython",
        "version": 3
      },
      "file_extension": ".py",
      "mimetype": "text/x-python",
      "name": "python",
      "nbconvert_exporter": "python",
      "pygments_lexer": "ipython3",
      "version": "3.9.5"
    },
    "vscode": {
      "interpreter": {
        "hash": "4a8c3d05a42edf06e742f46f08d751d9829eee66023d0a36c802d6aa069fd930"
      }
    }
  },
  "nbformat": 4,
  "nbformat_minor": 0
}
