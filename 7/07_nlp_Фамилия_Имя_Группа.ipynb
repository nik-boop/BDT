{
 "cells": [
  {
   "cell_type": "markdown",
   "metadata": {},
   "source": [
    "# Введение в обработку текста на естественном языке"
   ]
  },
  {
   "cell_type": "markdown",
   "metadata": {},
   "source": [
    "__Автор задач: Блохин Н.В. (NVBlokhin@fa.ru)__\n",
    "\n",
    "Материалы:\n",
    "* Макрушин С.В. Лекция \"Введение в обработку текста на естественном языке\"\n",
    "* https://www.nltk.org/api/nltk.metrics.distance.html\n",
    "* https://pymorphy2.readthedocs.io/en/stable/user/guide.html\n",
    "* https://realpython.com/nltk-nlp-python/\n",
    "* https://scikit-learn.org/stable/modules/feature_extraction.html"
   ]
  },
  {
   "cell_type": "markdown",
   "metadata": {},
   "source": [
    "## Задачи для совместного разбора"
   ]
  },
  {
   "cell_type": "code",
   "execution_count": 97,
   "metadata": {},
   "outputs": [
    {
     "name": "stdout",
     "output_type": "stream",
     "text": [
      "Requirement already satisfied: pymorphy2 in /usr/local/python/3.10.4/lib/python3.10/site-packages (0.9.1)\n",
      "Requirement already satisfied: pymorphy2-dicts-ru<3.0,>=2.4 in /usr/local/python/3.10.4/lib/python3.10/site-packages (from pymorphy2) (2.4.417127.4579844)\n",
      "Requirement already satisfied: docopt>=0.6 in /usr/local/python/3.10.4/lib/python3.10/site-packages (from pymorphy2) (0.6.2)\n",
      "Requirement already satisfied: dawg-python>=0.7.1 in /usr/local/python/3.10.4/lib/python3.10/site-packages (from pymorphy2) (0.7.2)\n",
      "Note: you may need to restart the kernel to use updated packages.\n"
     ]
    }
   ],
   "source": [
    "%pip install pymorphy2"
   ]
  },
  {
   "cell_type": "code",
   "execution_count": 13,
   "metadata": {},
   "outputs": [
    {
     "name": "stdout",
     "output_type": "stream",
     "text": [
      "\u001b[31mERROR: Could not find a version that satisfies the requirement lev (from versions: none)\u001b[0m\u001b[31m\n",
      "\u001b[0m\u001b[31mERROR: No matching distribution found for lev\u001b[0m\u001b[31m\n",
      "\u001b[0mNote: you may need to restart the kernel to use updated packages.\n"
     ]
    }
   ],
   "source": [
    "%pip install lev"
   ]
  },
  {
   "cell_type": "code",
   "execution_count": 9,
   "metadata": {},
   "outputs": [
    {
     "name": "stderr",
     "output_type": "stream",
     "text": [
      "[nltk_data] Downloading package punkt to /home/codespace/nltk_data...\n",
      "[nltk_data]   Package punkt is already up-to-date!\n"
     ]
    },
    {
     "data": {
      "text/plain": [
       "True"
      ]
     },
     "execution_count": 9,
     "metadata": {},
     "output_type": "execute_result"
    }
   ],
   "source": [
    "import nltk\n",
    "nltk.download('punkt')"
   ]
  },
  {
   "cell_type": "markdown",
   "metadata": {},
   "source": [
    "1. Считайте слова из файла `litw-win.txt` и запишите их в список `words`. При помощи расстояния Левенштейна иправьте опечатку в слове \"велечайшим\"."
   ]
  },
  {
   "cell_type": "code",
   "execution_count": 21,
   "metadata": {},
   "outputs": [
    {
     "name": "stdout",
     "output_type": "stream",
     "text": [
      "величайшим 0\n"
     ]
    }
   ],
   "source": [
    "from nltk import edit_distance\n",
    "with open(\"07_nlp_data/litw-win.txt\", encoding=\"utf-16\") as f:\n",
    "    words = f.readlines()\n",
    "    for word in words:\n",
    "        word = word.strip().split(\" \")[1]\n",
    "        if edit_distance(\"величайшим\", word) <= 1:\n",
    "            print(word, edit_distance(\"величайшим\", word))"
   ]
  },
  {
   "cell_type": "markdown",
   "metadata": {},
   "source": [
    "2. Разбейте текст из формулировки второго задания на слова. Проведите стемминг и лемматизацию слов."
   ]
  },
  {
   "cell_type": "code",
   "execution_count": 11,
   "metadata": {},
   "outputs": [],
   "source": [
    "from nltk.stem import SnowballStemmer\n",
    "from nltk import word_tokenize\n",
    "import pymorphy2"
   ]
  },
  {
   "cell_type": "code",
   "execution_count": 5,
   "metadata": {},
   "outputs": [],
   "source": [
    "text = '''Разбейте текст из формулировки второго задания на слова. Проведите стемминг и лемматизацию слов.'''"
   ]
  },
  {
   "cell_type": "code",
   "execution_count": null,
   "metadata": {},
   "outputs": [],
   "source": []
  },
  {
   "cell_type": "markdown",
   "metadata": {},
   "source": [
    "3. Преобразуйте предложения из формулировки задания 2 в векторы при помощи `CountVectorizer`. Выведите на экран словарь обученного токенизатора."
   ]
  },
  {
   "cell_type": "code",
   "execution_count": 6,
   "metadata": {},
   "outputs": [],
   "source": [
    "from sklearn.feature_extraction.text import CountVectorizer\n",
    "from nltk import sent_tokenize"
   ]
  },
  {
   "cell_type": "code",
   "execution_count": 7,
   "metadata": {},
   "outputs": [
    {
     "name": "stderr",
     "output_type": "stream",
     "text": [
      "Bad pipe message: %s [b'\\xd7\\xaa1\\xcdB\\x13R\\x1e\\xb0\\x9d\\x0f{v\\x061)\\x80\\xf0 \\xdc\\x85&\\xa4\\x15IrZAU\\xddr\\xa3']\n",
      "Bad pipe message: %s [b\"\\xef\\xc7\\\\'\\xff\\xd6\\xbf\\xa3&a\\xde5\\x9f\\x14^\\xdb\\x0e\\x89\\x00\\x00|\\xc0,\\xc00\\x00\\xa3\\x00\\x9f\\xcc\\xa9\\xcc\\xa8\\xcc\\xaa\\xc0\\xaf\\xc0\\xad\\xc0\\xa3\\xc0\\x9f\\xc0]\\xc0a\\xc0W\\xc0S\\xc0+\\xc0/\\x00\\xa2\\x00\\x9e\\xc0\\xae\\xc0\\xac\\xc0\\xa2\\xc0\\x9e\\xc0\\\\\\xc0`\\xc0V\\xc0R\\xc0$\\xc0(\\x00k\\x00j\\xc0#\\xc0'\\x00g\\x00@\\xc0\\n\\xc0\\x14\\x00\"]\n",
      "Bad pipe message: %s [b'8\\xc0\\t\\xc0\\x13\\x003\\x002\\x00\\x9d\\xc0\\xa1\\xc0\\x9d\\xc0Q\\x00\\x9c\\xc0\\xa0\\xc0\\x9c\\xc0P\\x00=\\x00<\\x005\\x00/\\x00\\x9a\\x00\\x99\\xc0\\x07\\xc0\\x11\\x00\\x96\\x00\\x05\\x00\\xff\\x01\\x00\\x00j\\x00\\x00\\x00\\x0e\\x00']\n",
      "Bad pipe message: %s [b'\\x00\\t127.0.0.1']\n",
      "Bad pipe message: %s [b\"\\x87\\xa0\\xedC\\x9e6\\x8a\\x0bb=\\xb8l\\x80\\xd5\\xf0mr\\n\\x00\\x00\\xa6\\xc0,\\xc00\\x00\\xa3\\x00\\x9f\\xcc\\xa9\\xcc\\xa8\\xcc\\xaa\\xc0\\xaf\\xc0\\xad\\xc0\\xa3\\xc0\\x9f\\xc0]\\xc0a\\xc0W\\xc0S\\xc0+\\xc0/\\x00\\xa2\\x00\\x9e\\xc0\\xae\\xc0\\xac\\xc0\\xa2\\xc0\\x9e\\xc0\\\\\\xc0`\\xc0V\\xc0R\\xc0$\\xc0(\\x00k\\x00j\\xc0s\\xc0w\\x00\\xc4\\x00\\xc3\\xc0#\\xc0'\\x00g\\x00@\\xc0r\\xc0v\\x00\\xbe\\x00\\xbd\\xc0\\n\\xc0\\x14\\x009\\x008\\x00\\x88\\x00\\x87\\xc0\\t\\xc0\\x13\\x003\\x002\\x00\\x9a\\x00\\x99\\x00E\\x00D\\xc0\\x07\\xc0\\x11\\xc0\\x08\\xc0\\x12\\x00\\x16\\x00\\x13\\x00\\x9d\\xc0\\xa1\\xc0\\x9d\\xc0Q\\x00\\x9c\\xc0\\xa0\\xc0\\x9c\\xc0P\\x00=\\x00\\xc0\\x00<\\x00\\xba\\x005\\x00\\x84\\x00/\\x00\\x96\\x00A\\x00\\x05\\x00\\n\\x00\\xff\\x01\\x00\\x00j\\x00\\x00\\x00\\x0e\\x00\\x0c\\x00\\x00\\t127.0.0.1\\x00\\x0b\\x00\\x04\\x03\\x00\\x01\\x02\\x00\\n\\x00\\x0c\\x00\\n\\x00\\x1d\\x00\\x17\\x00\\x1e\\x00\\x19\\x00\\x18\\x00#\\x00\\x00\\x00\\x16\\x00\\x00\\x00\\x17\\x00\\x00\"]\n",
      "Bad pipe message: %s [b'\\xd4\\xe2\\xa7\\xbd\\xc7\\xbe\\xd1\\x015o\\xff\\x80,\"))\\x16\\xbe\\x00\\x00>\\xc0\\x14\\xc0\\n\\x009\\x008\\x007\\x006\\xc0\\x0f\\xc0\\x05\\x005\\xc0\\x13\\xc0\\t\\x003\\x002\\x001\\x000\\xc0\\x0e\\xc0\\x04\\x00/\\x00\\x9a\\x00\\x99\\x00\\x98\\x00\\x97\\x00\\x96']\n",
      "Bad pipe message: %s [b'!vh\\x18d\\xc7A\\x1f\\xa7\\x9cH\\xd2\\xbe\\x10\\x05\\xd1\\xc2j\\x00\\x00>\\xc0\\x14\\xc0\\n\\x009\\x008\\x007\\x006\\xc0\\x0f\\xc0\\x05\\x005\\xc0\\x13\\xc0\\t\\x003\\x002\\x001\\x000\\xc0\\x0e\\xc0\\x04\\x00/\\x00\\x9a\\x00\\x99\\x00\\x98\\x00\\x97\\x00\\x96\\x00\\x07\\xc0\\x11\\xc0\\x07\\xc0\\x0c\\xc0\\x02\\x00\\x05\\x00\\x04']\n",
      "Bad pipe message: %s [b'q[`^\\x14\\x8a^\\xe4%\\xf1\\xe8\\xe6\\x91\\x91lLf\\x12\\x00\\x00\\xa2\\xc0\\x14\\xc0\\n\\x009\\x008\\x007\\x006\\x00\\x88\\x00\\x87\\x00\\x86\\x00\\x85\\xc0\\x19\\x00:\\x00\\x89\\xc0\\x0f\\xc0\\x05\\x005\\x00\\x84\\xc0\\x13\\xc0\\t\\x003\\x002\\x001\\x000\\x00\\x9a\\x00\\x99\\x00\\x98\\x00\\x97\\x00E\\x00D\\x00C\\x00B\\xc0\\x18\\x004\\x00\\x9b\\x00F\\xc0\\x0e\\xc0\\x04\\x00/\\x00\\x96\\x00A\\x00\\x07\\xc0\\x11\\xc0\\x07\\xc0\\x16\\x00\\x18\\xc0\\x0c\\xc0\\x02\\x00\\x05\\x00\\x04\\xc0\\x12\\xc0\\x08\\x00\\x16\\x00\\x13\\x00\\x10\\x00\\r\\xc0\\x17\\x00\\x1b\\xc0\\r\\xc0\\x03\\x00\\n\\x00\\x15\\x00\\x12\\x00\\x0f\\x00\\x0c\\x00\\x1a\\x00\\t\\x00\\x14\\x00\\x11\\x00\\x19\\x00\\x08\\x00\\x06\\x00\\x17\\x00\\x03\\xc0\\x10\\xc0\\x06\\xc0\\x15\\xc0\\x0b\\xc0\\x01\\x00\\x02\\x00\\x01\\x00\\xff\\x02\\x01\\x00\\x00C\\x00\\x00\\x00\\x0e\\x00\\x0c\\x00\\x00\\t127.0.0.1\\x00\\x0b\\x00\\x04\\x03\\x00\\x01\\x02\\x00\\n\\x00\\x1c\\x00\\x1a\\x00\\x17\\x00\\x19\\x00\\x1c\\x00\\x1b\\x00\\x18\\x00\\x1a\\x00\\x16\\x00\\x0e\\x00\\r\\x00\\x0b\\x00\\x0c\\x00\\t\\x00\\n\\x00#\\x00\\x00\\x00\\x0f\\x00']\n",
      "Bad pipe message: %s [b\"m\\xf0\\x8d\\x8e\\x07U\\xb7\\xbdP\\x85\\xf9\\nn\\x1e7\\x02\\x9fg\\x00\\x00\\x86\\xc00\\xc0,\\xc0(\\xc0$\\xc0\\x14\\xc0\\n\\x00\\xa5\\x00\\xa3\\x00\\xa1\\x00\\x9f\\x00k\\x00j\\x00i\\x00h\\x009\\x008\\x007\\x006\\xc02\\xc0.\\xc0*\\xc0&\\xc0\\x0f\\xc0\\x05\\x00\\x9d\\x00=\\x005\\xc0/\\xc0+\\xc0'\\xc0#\\xc0\\x13\\xc0\\t\\x00\\xa4\\x00\\xa2\\x00\\xa0\\x00\\x9e\\x00g\\x00@\\x00?\\x00>\\x003\\x002\\x001\\x000\\xc01\\xc0-\\xc0)\\xc0%\\xc0\\x0e\\xc0\\x04\\x00\\x9c\\x00<\\x00/\\x00\\x9a\\x00\\x99\\x00\\x98\\x00\\x97\\x00\\x96\\x00\\x07\\xc0\\x11\\xc0\\x07\\xc0\"]\n",
      "Bad pipe message: %s [b'\\x02\\x00\\x05\\x00\\x04\\x00\\xff\\x02\\x01\\x00\\x00']\n",
      "Bad pipe message: %s [b'\\x00\\x00\\x0e\\x00\\x0c\\x00\\x00\\t127.0.0.1\\x00\\x0b\\x00\\x04\\x03\\x00\\x01\\x02\\x00\\n\\x00\\x1c\\x00\\x1a\\x00\\x17\\x00\\x19\\x00\\x1c\\x00\\x1b\\x00\\x18\\x00\\x1a\\x00\\x16\\x00\\x0e\\x00\\r\\x00\\x0b\\x00\\x0c\\x00\\t\\x00\\n\\x00#\\x00\\x00\\x00\\r\\x00 \\x00\\x1e\\x06\\x01\\x06\\x02\\x06\\x03\\x05\\x01\\x05\\x02\\x05\\x03\\x04\\x01\\x04\\x02\\x04\\x03\\x03\\x01\\x03\\x02\\x03\\x03\\x02\\x01\\x02\\x02\\x02\\x03\\x00\\x0f\\x00\\x01\\x01']\n",
      "Bad pipe message: %s [b'\\xd7\"K\\xeb\\xff\\xd7l\\xe9\\xf4]\\xe2\\n{\\x16\\xd0WK\\xf9']\n"
     ]
    }
   ],
   "source": [
    "text = '''Разбейте текст из формулировки второго задания на слова. Проведите стемминг и лемматизацию слов.'''"
   ]
  },
  {
   "cell_type": "markdown",
   "metadata": {},
   "source": [
    "## Лабораторная работа 7"
   ]
  },
  {
   "cell_type": "markdown",
   "metadata": {},
   "source": [
    "1\\. Загрузите данные из файла `ru_recipes_sample.csv` в виде `pd.DataFrame` `recipes` Используя регулярные выражения, удалите из описаний (столбец `description`) все символы, кроме русских букв, цифр и пробелов. Приведите все слова в описании к нижнему регистру. Сохраните полученный результат в столбец `description`."
   ]
  },
  {
   "cell_type": "code",
   "execution_count": 1,
   "metadata": {},
   "outputs": [
    {
     "data": {
      "text/html": [
       "<div>\n",
       "<style scoped>\n",
       "    .dataframe tbody tr th:only-of-type {\n",
       "        vertical-align: middle;\n",
       "    }\n",
       "\n",
       "    .dataframe tbody tr th {\n",
       "        vertical-align: top;\n",
       "    }\n",
       "\n",
       "    .dataframe thead th {\n",
       "        text-align: right;\n",
       "    }\n",
       "</style>\n",
       "<table border=\"1\" class=\"dataframe\">\n",
       "  <thead>\n",
       "    <tr style=\"text-align: right;\">\n",
       "      <th></th>\n",
       "      <th>url</th>\n",
       "      <th>name</th>\n",
       "      <th>ingredients</th>\n",
       "      <th>description</th>\n",
       "    </tr>\n",
       "  </thead>\n",
       "  <tbody>\n",
       "    <tr>\n",
       "      <th>0</th>\n",
       "      <td>https://www.povarenok.ru/recipes/show/164365/</td>\n",
       "      <td>Густой молочно-клубничный коктейль</td>\n",
       "      <td>{'Молоко': '250 мл', 'Клубника': '200 г', 'Сах...</td>\n",
       "      <td>Этот коктейль готовлю из замороженной клубники...</td>\n",
       "    </tr>\n",
       "    <tr>\n",
       "      <th>1</th>\n",
       "      <td>https://www.povarenok.ru/recipes/show/1306/</td>\n",
       "      <td>Рулетики</td>\n",
       "      <td>{'Сыр твердый': None, 'Чеснок': None, 'Яйцо ку...</td>\n",
       "      <td>Быстро и вкусно.</td>\n",
       "    </tr>\n",
       "    <tr>\n",
       "      <th>2</th>\n",
       "      <td>https://www.povarenok.ru/recipes/show/10625/</td>\n",
       "      <td>Салат \"Баклажанчик\"</td>\n",
       "      <td>{'Баклажан': '3 шт', 'Лук репчатый': '2 шт', '...</td>\n",
       "      <td>Сытный, овощной салатик, пальчики оближете.</td>\n",
       "    </tr>\n",
       "    <tr>\n",
       "      <th>3</th>\n",
       "      <td>https://www.povarenok.ru/recipes/show/167337/</td>\n",
       "      <td>Куриные котлеты с картофельным пюре в духовке</td>\n",
       "      <td>{'Фарш куриный': '800 г', 'Пюре картофельное':...</td>\n",
       "      <td>Картофельное пюре и куриные котлеты - вкусная ...</td>\n",
       "    </tr>\n",
       "    <tr>\n",
       "      <th>4</th>\n",
       "      <td>https://www.povarenok.ru/recipes/show/91919/</td>\n",
       "      <td>Рецепт вишневой наливки</td>\n",
       "      <td>{'Вишня': '1 кг', 'Водка': '1 л', 'Сахар': '30...</td>\n",
       "      <td>Вишневая наливка имеет яркий вишневый вкус, ко...</td>\n",
       "    </tr>\n",
       "    <tr>\n",
       "      <th>...</th>\n",
       "      <td>...</td>\n",
       "      <td>...</td>\n",
       "      <td>...</td>\n",
       "      <td>...</td>\n",
       "    </tr>\n",
       "    <tr>\n",
       "      <th>3462</th>\n",
       "      <td>https://www.povarenok.ru/recipes/show/54574/</td>\n",
       "      <td>Мшош</td>\n",
       "      <td>{'Чечевица': '1 стак.', 'Лук репчатый': '2 шт'...</td>\n",
       "      <td>Для тех, кто любит чечевицу... Вам сюда! Очень...</td>\n",
       "    </tr>\n",
       "    <tr>\n",
       "      <th>3463</th>\n",
       "      <td>https://www.povarenok.ru/recipes/show/113494/</td>\n",
       "      <td>Мясные треугольники с баклажаном</td>\n",
       "      <td>{'Фарш мясной': '400 г', 'Баклажан': '1 шт', '...</td>\n",
       "      <td>Баклажановые фантазии продолжаются! Предлагаю ...</td>\n",
       "    </tr>\n",
       "    <tr>\n",
       "      <th>3464</th>\n",
       "      <td>https://www.povarenok.ru/recipes/show/83228/</td>\n",
       "      <td>\"Болоньез\" по-новому</td>\n",
       "      <td>{'Фарш мясной': '400 г', 'Томаты в собственном...</td>\n",
       "      <td>Мое любимое блюдо лазанья. Но кушать только фа...</td>\n",
       "    </tr>\n",
       "    <tr>\n",
       "      <th>3465</th>\n",
       "      <td>https://www.povarenok.ru/recipes/show/172238/</td>\n",
       "      <td>Варенье из одуванчиков с апельсинами</td>\n",
       "      <td>{'Цветки': '400 г', 'Сахар': '1300 г', 'Апельс...</td>\n",
       "      <td>Прошлым летом варила варенье из одуванчиков по...</td>\n",
       "    </tr>\n",
       "    <tr>\n",
       "      <th>3466</th>\n",
       "      <td>https://www.povarenok.ru/recipes/show/52794/</td>\n",
       "      <td>Три корочки хлеба под соусом болоньез для Пино...</td>\n",
       "      <td>{'Хлеб': '3 шт', 'Фарш мясной': '200-250 г', '...</td>\n",
       "      <td>- И три корочки хлеба! - сделал заказ Буратино...</td>\n",
       "    </tr>\n",
       "  </tbody>\n",
       "</table>\n",
       "<p>3467 rows × 4 columns</p>\n",
       "</div>"
      ],
      "text/plain": [
       "                                                url  \\\n",
       "0     https://www.povarenok.ru/recipes/show/164365/   \n",
       "1       https://www.povarenok.ru/recipes/show/1306/   \n",
       "2      https://www.povarenok.ru/recipes/show/10625/   \n",
       "3     https://www.povarenok.ru/recipes/show/167337/   \n",
       "4      https://www.povarenok.ru/recipes/show/91919/   \n",
       "...                                             ...   \n",
       "3462   https://www.povarenok.ru/recipes/show/54574/   \n",
       "3463  https://www.povarenok.ru/recipes/show/113494/   \n",
       "3464   https://www.povarenok.ru/recipes/show/83228/   \n",
       "3465  https://www.povarenok.ru/recipes/show/172238/   \n",
       "3466   https://www.povarenok.ru/recipes/show/52794/   \n",
       "\n",
       "                                                   name  \\\n",
       "0                    Густой молочно-клубничный коктейль   \n",
       "1                                              Рулетики   \n",
       "2                                   Салат \"Баклажанчик\"   \n",
       "3         Куриные котлеты с картофельным пюре в духовке   \n",
       "4                               Рецепт вишневой наливки   \n",
       "...                                                 ...   \n",
       "3462                                               Мшош   \n",
       "3463                   Мясные треугольники с баклажаном   \n",
       "3464                               \"Болоньез\" по-новому   \n",
       "3465               Варенье из одуванчиков с апельсинами   \n",
       "3466  Три корочки хлеба под соусом болоньез для Пино...   \n",
       "\n",
       "                                            ingredients  \\\n",
       "0     {'Молоко': '250 мл', 'Клубника': '200 г', 'Сах...   \n",
       "1     {'Сыр твердый': None, 'Чеснок': None, 'Яйцо ку...   \n",
       "2     {'Баклажан': '3 шт', 'Лук репчатый': '2 шт', '...   \n",
       "3     {'Фарш куриный': '800 г', 'Пюре картофельное':...   \n",
       "4     {'Вишня': '1 кг', 'Водка': '1 л', 'Сахар': '30...   \n",
       "...                                                 ...   \n",
       "3462  {'Чечевица': '1 стак.', 'Лук репчатый': '2 шт'...   \n",
       "3463  {'Фарш мясной': '400 г', 'Баклажан': '1 шт', '...   \n",
       "3464  {'Фарш мясной': '400 г', 'Томаты в собственном...   \n",
       "3465  {'Цветки': '400 г', 'Сахар': '1300 г', 'Апельс...   \n",
       "3466  {'Хлеб': '3 шт', 'Фарш мясной': '200-250 г', '...   \n",
       "\n",
       "                                            description  \n",
       "0     Этот коктейль готовлю из замороженной клубники...  \n",
       "1                                      Быстро и вкусно.  \n",
       "2           Сытный, овощной салатик, пальчики оближете.  \n",
       "3     Картофельное пюре и куриные котлеты - вкусная ...  \n",
       "4     Вишневая наливка имеет яркий вишневый вкус, ко...  \n",
       "...                                                 ...  \n",
       "3462  Для тех, кто любит чечевицу... Вам сюда! Очень...  \n",
       "3463  Баклажановые фантазии продолжаются! Предлагаю ...  \n",
       "3464  Мое любимое блюдо лазанья. Но кушать только фа...  \n",
       "3465  Прошлым летом варила варенье из одуванчиков по...  \n",
       "3466  - И три корочки хлеба! - сделал заказ Буратино...  \n",
       "\n",
       "[3467 rows x 4 columns]"
      ]
     },
     "execution_count": 1,
     "metadata": {},
     "output_type": "execute_result"
    }
   ],
   "source": [
    "import pandas as pd\n",
    "df = pd.read_csv(\"07_nlp_data/ru_recipes_sample.csv\")\n",
    "df"
   ]
  },
  {
   "cell_type": "code",
   "execution_count": 10,
   "metadata": {},
   "outputs": [],
   "source": [
    "for index, (url, name, ingredients, description) in enumerate(df.to_numpy()):\n",
    "    pass"
   ]
  },
  {
   "cell_type": "code",
   "execution_count": 41,
   "metadata": {},
   "outputs": [
    {
     "data": {
      "text/plain": [
       "'этот рецепт горячей закуски чем то отдаленно напоминает всем известный жюльен и чем особенно хорош так это тем что основной ингредиент может быть абсолютно любой сегодня я хочу предложить не совсем обычное сочетание рыбы и тыквы но не пугайтесь все прекрасно сочетается и дополняет друг друга а тот кто не знает из чего он сделан никогда не догадается о присутствие тыквы'"
      ]
     },
     "execution_count": 41,
     "metadata": {},
     "output_type": "execute_result"
    }
   ],
   "source": [
    "import pandas as pd\n",
    "df = pd.read_csv(\"07_nlp_data/ru_recipes_sample.csv\")\n",
    "df.loc[:, [\"description\"]] = df.loc[:, [\"description\"]].replace(r\"[\\s]\", \" \", regex=True)\n",
    "df.loc[:, [\"description\"]] = df.loc[:, [\"description\"]].replace(r\"[^А-яЁё0-9\\s]\", \"\", regex=True)\n",
    "df.loc[:, [\"description\"]] = df.loc[:, [\"description\"]].applymap(lambda x: x.lower())\n",
    "df.loc[7, 'description']"
   ]
  },
  {
   "cell_type": "markdown",
   "metadata": {},
   "source": [
    "### Расстояние редактирования"
   ]
  },
  {
   "cell_type": "markdown",
   "metadata": {},
   "source": [
    "2\\. Получите набор уникальных слов `words`, содержащихся в текстах описаний рецептов (воспользуйтесь `word_tokenize` из `nltk`). Сгенерируйте 5 пар случайно выбранных слов и посчитайте между ними расстояние Левенштейна. Выведите на экран результат в следующем виде:\n",
    "\n",
    "```\n",
    "d(word1, word2) = x\n",
    "```"
   ]
  },
  {
   "cell_type": "code",
   "execution_count": 77,
   "metadata": {},
   "outputs": [
    {
     "name": "stdout",
     "output_type": "stream",
     "text": [
      "сушеными украсить : 8\n",
      "фабричных курд : 8\n",
      "элементами сухарей : 10\n",
      "вкусняшкой детей : 9\n",
      "названия проводившихся : 10\n"
     ]
    }
   ],
   "source": [
    "from nltk.tokenize import word_tokenize\n",
    "from random import randint\n",
    "from nltk import edit_distance\n",
    "words = word_tokenize(df.loc[:,['description']].to_numpy().sum())\n",
    "words = set(words)\n",
    "words = list(words)\n",
    "random_words = [[randint(1, len(words)), randint(1, len(words))] for _ in range(5)]\n",
    "for a, b in random_words:\n",
    "    print(words[a], words[b], f\": {edit_distance(words[a], words[b])}\")"
   ]
  },
  {
   "cell_type": "markdown",
   "metadata": {},
   "source": [
    "3\\. Напишите функцию, которая принимает на вход 2 текстовые строки `s1` и `s2` и при помощи расстояния Левенштейна определяет, является ли строка `s2` плагиатом `s1`. Функция должна реализовывать следующую логику: для каждого слова `w1` из `s1` проверяет, есть в `s2` хотя бы одно слово `w2`, такое, что расстояние Левенштейна между `w1` и `w2` меньше 2, и считает количество таких слов в `s1` $P$. \n",
    "\n",
    "$$ P = \\#\\{w_1 \\in s_1\\ | \\exists w_2 \\in s_2 : d(w_1, w_2) < tol\\}$$\n",
    "\n",
    "$$ L = max(|s1|, |s2|) $$\n",
    "\n",
    "Здесь $|\\cdot|$ - количество слов в строке, $\\#A$ - число элементов в множестве $A$, $w \\in s$ означает, что слово $w$ содержится в тексте $s$.\n",
    "\n",
    "Если отношение $P / L$ больше 0.8, то функция должна вернуть True; иначе False.\n",
    "\n",
    "Продемонстрируйте работу вашей функции на примере описаний двух рецептов с ID 135488 и 851934 (ID рецепта - это число, стоящее в конце url рецепта). Выведите на экран описания этих рецептов и результат работы функции."
   ]
  },
  {
   "cell_type": "code",
   "execution_count": 91,
   "metadata": {},
   "outputs": [],
   "source": [
    "def is_plagiarism(s1: str, s2: str) -> bool:\n",
    "    s1 = word_tokenize(s1)\n",
    "    s2 = word_tokenize(s2)\n",
    "    L = max(len(s1), len(s2))\n",
    "    P = 0\n",
    "    for w1 in s1:\n",
    "        for w2 in s2:\n",
    "            if edit_distance(w1, w2) < 2:\n",
    "                P += 1\n",
    "    return (P / L) > 0.8"
   ]
  },
  {
   "cell_type": "code",
   "execution_count": 92,
   "metadata": {},
   "outputs": [
    {
     "name": "stdout",
     "output_type": "stream",
     "text": [
      "прекрасной закуской к крепким напиткам на фуршетном столе станет паштет из сала и авокадо с чесноком который мы спрячем в орешках из бородинского хлеба положив в середину маслину закуска получается необычной оригинальной и ценится особенно мужчинами\n",
      "замечательной закуской к напиткам на фуршетном столе станет паштет из сала и авокадо с чесноком куда мы добавим орешков из бородинского хлеба положив в середину маслины закуска получается крайне необычной оригинальной и ценится особенно мужчинами\n",
      "True\n"
     ]
    }
   ],
   "source": [
    "import re\n",
    "x1 = 135488\n",
    "x2 = 851934\n",
    "x = [i for i, url in enumerate(df.loc[:, \"url\"])  if re.findall('\\d+', url)[0] in [str(x1), str(x2)]]\n",
    "print(df.loc[x[0], 'description'], df.loc[x[1], 'description'], sep=\"\\n\")\n",
    "print(is_plagiarism(df.loc[x[0], 'description'], df.loc[x[1], 'description']))"
   ]
  },
  {
   "cell_type": "markdown",
   "metadata": {},
   "source": [
    "### Стемминг, лемматизация"
   ]
  },
  {
   "cell_type": "markdown",
   "metadata": {},
   "source": [
    "4\\. На основе набора слов из задания 2 создайте `pd.DataFrame` со столбцами `word`, `stemmed_word` и `normalized_word`. В столбец `stemmed_word` поместите версию слова после проведения процедуры стемминга; в столбец `normalized_word` поместите версию слова после проведения процедуры лемматизации. Столбец `word` укажите в качестве индекса. \n",
    "\n",
    "Для стемминга можно воспользоваться `SnowballStemmer` из `nltk`, для лемматизации слов - пакетом `pymorphy2`. Сравните результаты стемминга и лемматизации. Поясните на примере одной из строк получившегося фрейма (в виде текстового комментария), в чем разница между двумя этими подходами. "
   ]
  },
  {
   "cell_type": "code",
   "execution_count": 95,
   "metadata": {},
   "outputs": [
    {
     "data": {
      "text/plain": [
       "['сушеными',\n",
       " 'украсить',\n",
       " 'фабричных',\n",
       " 'курд',\n",
       " 'элементами',\n",
       " 'сухарей',\n",
       " 'вкусняшкой',\n",
       " 'детей',\n",
       " 'названия',\n",
       " 'проводившихся']"
      ]
     },
     "execution_count": 95,
     "metadata": {},
     "output_type": "execute_result"
    }
   ],
   "source": [
    "new_list_value = []\n",
    "for elems in random_words:\n",
    "    new_list_value.append(words[elems[0]])\n",
    "    new_list_value.append(words[elems[1]])\n",
    "new_list_value"
   ]
  },
  {
   "cell_type": "code",
   "execution_count": 100,
   "metadata": {},
   "outputs": [
    {
     "data": {
      "text/html": [
       "<div>\n",
       "<style scoped>\n",
       "    .dataframe tbody tr th:only-of-type {\n",
       "        vertical-align: middle;\n",
       "    }\n",
       "\n",
       "    .dataframe tbody tr th {\n",
       "        vertical-align: top;\n",
       "    }\n",
       "\n",
       "    .dataframe thead th {\n",
       "        text-align: right;\n",
       "    }\n",
       "</style>\n",
       "<table border=\"1\" class=\"dataframe\">\n",
       "  <thead>\n",
       "    <tr style=\"text-align: right;\">\n",
       "      <th></th>\n",
       "      <th>stemmed_word</th>\n",
       "      <th>normalized_word</th>\n",
       "    </tr>\n",
       "    <tr>\n",
       "      <th>word</th>\n",
       "      <th></th>\n",
       "      <th></th>\n",
       "    </tr>\n",
       "  </thead>\n",
       "  <tbody>\n",
       "    <tr>\n",
       "      <th>сушеными</th>\n",
       "      <td>сушен</td>\n",
       "      <td>сушёный</td>\n",
       "    </tr>\n",
       "    <tr>\n",
       "      <th>украсить</th>\n",
       "      <td>украс</td>\n",
       "      <td>украсить</td>\n",
       "    </tr>\n",
       "    <tr>\n",
       "      <th>фабричных</th>\n",
       "      <td>фабричн</td>\n",
       "      <td>фабричный</td>\n",
       "    </tr>\n",
       "    <tr>\n",
       "      <th>курд</th>\n",
       "      <td>курд</td>\n",
       "      <td>курд</td>\n",
       "    </tr>\n",
       "    <tr>\n",
       "      <th>элементами</th>\n",
       "      <td>элемент</td>\n",
       "      <td>элемент</td>\n",
       "    </tr>\n",
       "    <tr>\n",
       "      <th>сухарей</th>\n",
       "      <td>сухар</td>\n",
       "      <td>сухарь</td>\n",
       "    </tr>\n",
       "    <tr>\n",
       "      <th>вкусняшкой</th>\n",
       "      <td>вкусняшк</td>\n",
       "      <td>вкусняшка</td>\n",
       "    </tr>\n",
       "    <tr>\n",
       "      <th>детей</th>\n",
       "      <td>дет</td>\n",
       "      <td>ребёнок</td>\n",
       "    </tr>\n",
       "    <tr>\n",
       "      <th>названия</th>\n",
       "      <td>назван</td>\n",
       "      <td>название</td>\n",
       "    </tr>\n",
       "    <tr>\n",
       "      <th>проводившихся</th>\n",
       "      <td>провод</td>\n",
       "      <td>проводиться</td>\n",
       "    </tr>\n",
       "  </tbody>\n",
       "</table>\n",
       "</div>"
      ],
      "text/plain": [
       "              stemmed_word normalized_word\n",
       "word                                      \n",
       "сушеными             сушен         сушёный\n",
       "украсить             украс        украсить\n",
       "фабричных          фабричн       фабричный\n",
       "курд                  курд            курд\n",
       "элементами         элемент         элемент\n",
       "сухарей              сухар          сухарь\n",
       "вкусняшкой        вкусняшк       вкусняшка\n",
       "детей                  дет         ребёнок\n",
       "названия            назван        название\n",
       "проводившихся       провод     проводиться"
      ]
     },
     "execution_count": 100,
     "metadata": {},
     "output_type": "execute_result"
    }
   ],
   "source": [
    "import pymorphy2\n",
    "from nltk.stem import SnowballStemmer\n",
    "morph = pymorphy2.MorphAnalyzer()\n",
    "stemmer = SnowballStemmer(\"russian\")\n",
    "stem_lem_df = pd.DataFrame(columns=['word', 'stemmed_word', 'normalized_word'])\n",
    "stem_lem_df['word'] = new_list_value\n",
    "stem_lem_df['stemmed_word'] = [stemmer.stem(word) for word in stem_lem_df['word']]\n",
    "stem_lem_df['normalized_word'] = [morph.parse(word)[0].normalized.word for word in stem_lem_df['word']]\n",
    "stem_lem_df = stem_lem_df.set_index('word')\n",
    "stem_lem_df"
   ]
  },
  {
   "cell_type": "markdown",
   "metadata": {},
   "source": [
    "5\\. Добавьте в таблицу `recipes` столбец `description_no_stopwords`, в котором содержится текст описания рецепта после удаления из него стоп-слов. Посчитайте и выведите на экран долю стоп-слов среди общего количества слов. Сравните топ-10 самых часто употребляемых слов до и после удаления стоп-слов."
   ]
  },
  {
   "cell_type": "code",
   "execution_count": 102,
   "metadata": {},
   "outputs": [
    {
     "name": "stderr",
     "output_type": "stream",
     "text": [
      "[nltk_data] Downloading package stopwords to\n",
      "[nltk_data]     /home/codespace/nltk_data...\n",
      "[nltk_data]   Unzipping corpora/stopwords.zip.\n"
     ]
    }
   ],
   "source": [
    "import nltk\n",
    "nltk.download('stopwords')\n",
    "from nltk.corpus import stopwords"
   ]
  },
  {
   "cell_type": "code",
   "execution_count": 103,
   "metadata": {},
   "outputs": [
    {
     "name": "stderr",
     "output_type": "stream",
     "text": [
      "/tmp/ipykernel_5259/2345484741.py:3: FutureWarning: The default value of regex will change from True to False in a future version.\n",
      "  df['description_no_stopwords'] = df['description'].str.replace(pattern, '')\n"
     ]
    }
   ],
   "source": [
    "stops = stopwords.words('russian')\n",
    "pattern = r'\\b(?:{})\\b'.format('|'.join(stops))\n",
    "df['description_no_stopwords'] = df['description'].str.replace(pattern, '')"
   ]
  },
  {
   "cell_type": "code",
   "execution_count": 104,
   "metadata": {},
   "outputs": [
    {
     "data": {
      "text/plain": [
       "(102978, 33223, 0.322622307677368)"
      ]
     },
     "execution_count": 104,
     "metadata": {},
     "output_type": "execute_result"
    }
   ],
   "source": [
    "from collections import Counter\n",
    "word_counts_before = Counter(word_tokenize(' '.join(df['description'])))\n",
    "count_before, count_stops = sum(word_counts_before.values()), sum([word_counts_before[x] for x in stops])\n",
    "count_before, count_stops, count_stops / count_before"
   ]
  },
  {
   "cell_type": "code",
   "execution_count": 105,
   "metadata": {},
   "outputs": [
    {
     "data": {
      "text/plain": [
       "(69755, 69755)"
      ]
     },
     "execution_count": 105,
     "metadata": {},
     "output_type": "execute_result"
    }
   ],
   "source": [
    "word_counts_after = Counter(word_tokenize(' '.join(df['description_no_stopwords'])))\n",
    "word_count_before = word_counts_before.most_common(10)\n",
    "word_count_after = word_counts_after.most_common(10)\n",
    "sum(word_counts_after.values()), count_before - count_stops"
   ]
  },
  {
   "cell_type": "code",
   "execution_count": 106,
   "metadata": {},
   "outputs": [
    {
     "data": {
      "text/plain": [
       "[('и', 5054),\n",
       " ('в', 2584),\n",
       " ('с', 1934),\n",
       " ('на', 1655),\n",
       " ('очень', 1607),\n",
       " ('не', 1517),\n",
       " ('из', 1006),\n",
       " ('я', 979),\n",
       " ('рецепт', 869),\n",
       " ('а', 863)]"
      ]
     },
     "execution_count": 106,
     "metadata": {},
     "output_type": "execute_result"
    }
   ],
   "source": [
    "word_count_before"
   ]
  },
  {
   "cell_type": "code",
   "execution_count": 107,
   "metadata": {},
   "outputs": [
    {
     "data": {
      "text/plain": [
       "[('очень', 1607),\n",
       " ('рецепт', 869),\n",
       " ('это', 734),\n",
       " ('блюдо', 524),\n",
       " ('вкусный', 461),\n",
       " ('просто', 436),\n",
       " ('вкусно', 375),\n",
       " ('приготовить', 344),\n",
       " ('вкус', 324),\n",
       " ('салат', 313)]"
      ]
     },
     "execution_count": 107,
     "metadata": {},
     "output_type": "execute_result"
    }
   ],
   "source": [
    "\n",
    "word_count_after"
   ]
  },
  {
   "cell_type": "markdown",
   "metadata": {},
   "source": [
    "### Векторное представление текста"
   ]
  },
  {
   "cell_type": "markdown",
   "metadata": {},
   "source": [
    "6\\. Выберите случайным образом 5 рецептов из набора данных, в названии которых есть слово \"оладьи\" (без учета регистра). Представьте описание каждого рецепта в виде числового вектора при помощи `TfidfVectorizer`. На основе полученных векторов создайте `pd.DataFrame`, в котором названия колонок соответствуют словам из словаря объекта-векторизатора. \n",
    "\n",
    "Примечание: обратите внимание на порядок слов при создании колонок."
   ]
  },
  {
   "cell_type": "code",
   "execution_count": 120,
   "metadata": {},
   "outputs": [
    {
     "data": {
      "text/html": [
       "<div>\n",
       "<style scoped>\n",
       "    .dataframe tbody tr th:only-of-type {\n",
       "        vertical-align: middle;\n",
       "    }\n",
       "\n",
       "    .dataframe tbody tr th {\n",
       "        vertical-align: top;\n",
       "    }\n",
       "\n",
       "    .dataframe thead th {\n",
       "        text-align: right;\n",
       "    }\n",
       "</style>\n",
       "<table border=\"1\" class=\"dataframe\">\n",
       "  <thead>\n",
       "    <tr style=\"text-align: right;\">\n",
       "      <th></th>\n",
       "      <th>url</th>\n",
       "      <th>name</th>\n",
       "      <th>ingredients</th>\n",
       "      <th>description</th>\n",
       "      <th>description_no_stopwords</th>\n",
       "    </tr>\n",
       "  </thead>\n",
       "  <tbody>\n",
       "    <tr>\n",
       "      <th>135</th>\n",
       "      <td>https://www.povarenok.ru/recipes/show/149119/</td>\n",
       "      <td>Кокосовые оладьи</td>\n",
       "      <td>{'Сыворотка': '200 мл', 'Мука пшеничная': '200...</td>\n",
       "      <td>порадуйте себя и близких пышными оладьями с ко...</td>\n",
       "      <td>порадуйте   близких пышными оладьями  кокосовы...</td>\n",
       "    </tr>\n",
       "    <tr>\n",
       "      <th>833</th>\n",
       "      <td>https://www.povarenok.ru/recipes/show/170187/</td>\n",
       "      <td>Куриные оладьи с сыром</td>\n",
       "      <td>{'Фарш куриный': '500 г', 'Сыр твердый': '100 ...</td>\n",
       "      <td>лет двадцать назад покупая сыр наткнулась на р...</td>\n",
       "      <td>лет двадцать назад покупая сыр наткнулась  рек...</td>\n",
       "    </tr>\n",
       "    <tr>\n",
       "      <th>2506</th>\n",
       "      <td>https://www.povarenok.ru/recipes/show/57827/</td>\n",
       "      <td>Нежные куриные оладьи</td>\n",
       "      <td>{'Филе куриное': '500 г', 'Сыр плавленый': '2 ...</td>\n",
       "      <td>нежные сочные оладьи и очень очень очень вкусные</td>\n",
       "      <td>нежные сочные оладьи  очень очень очень вкусные</td>\n",
       "    </tr>\n",
       "    <tr>\n",
       "      <th>464</th>\n",
       "      <td>https://www.povarenok.ru/recipes/show/133050/</td>\n",
       "      <td>Яблочные оладьи</td>\n",
       "      <td>{'Яблоко': '2 шт', 'Яйцо куриное': '1 шт', 'Му...</td>\n",
       "      <td>очень простое бюджетное блюдо особенно понрави...</td>\n",
       "      <td>очень простое бюджетное блюдо особенно понрави...</td>\n",
       "    </tr>\n",
       "    <tr>\n",
       "      <th>778</th>\n",
       "      <td>https://www.povarenok.ru/recipes/show/48059/</td>\n",
       "      <td>Малиновые оладьи</td>\n",
       "      <td>{'Малина': '1 стак.', 'Молоко': '1 стак.', 'Са...</td>\n",
       "      <td>малина созрела во второй раз  эх гуляй душа пр...</td>\n",
       "      <td>малина созрела  второй   эх гуляй душа прошу  ...</td>\n",
       "    </tr>\n",
       "  </tbody>\n",
       "</table>\n",
       "</div>"
      ],
      "text/plain": [
       "                                                url                    name  \\\n",
       "135   https://www.povarenok.ru/recipes/show/149119/        Кокосовые оладьи   \n",
       "833   https://www.povarenok.ru/recipes/show/170187/  Куриные оладьи с сыром   \n",
       "2506   https://www.povarenok.ru/recipes/show/57827/   Нежные куриные оладьи   \n",
       "464   https://www.povarenok.ru/recipes/show/133050/         Яблочные оладьи   \n",
       "778    https://www.povarenok.ru/recipes/show/48059/        Малиновые оладьи   \n",
       "\n",
       "                                            ingredients  \\\n",
       "135   {'Сыворотка': '200 мл', 'Мука пшеничная': '200...   \n",
       "833   {'Фарш куриный': '500 г', 'Сыр твердый': '100 ...   \n",
       "2506  {'Филе куриное': '500 г', 'Сыр плавленый': '2 ...   \n",
       "464   {'Яблоко': '2 шт', 'Яйцо куриное': '1 шт', 'Му...   \n",
       "778   {'Малина': '1 стак.', 'Молоко': '1 стак.', 'Са...   \n",
       "\n",
       "                                            description  \\\n",
       "135   порадуйте себя и близких пышными оладьями с ко...   \n",
       "833   лет двадцать назад покупая сыр наткнулась на р...   \n",
       "2506   нежные сочные оладьи и очень очень очень вкусные   \n",
       "464   очень простое бюджетное блюдо особенно понрави...   \n",
       "778   малина созрела во второй раз  эх гуляй душа пр...   \n",
       "\n",
       "                               description_no_stopwords  \n",
       "135   порадуйте   близких пышными оладьями  кокосовы...  \n",
       "833   лет двадцать назад покупая сыр наткнулась  рек...  \n",
       "2506    нежные сочные оладьи  очень очень очень вкусные  \n",
       "464   очень простое бюджетное блюдо особенно понрави...  \n",
       "778   малина созрела  второй   эх гуляй душа прошу  ...  "
      ]
     },
     "execution_count": 120,
     "metadata": {},
     "output_type": "execute_result"
    }
   ],
   "source": [
    "from sklearn.feature_extraction.text import TfidfVectorizer\n",
    "olad = df[df['name'].str.contains('оладьи')]\n",
    "sample = olad.sample(n=5)\n",
    "sample"
   ]
  },
  {
   "cell_type": "code",
   "execution_count": 121,
   "metadata": {},
   "outputs": [
    {
     "data": {
      "text/html": [
       "<div>\n",
       "<style scoped>\n",
       "    .dataframe tbody tr th:only-of-type {\n",
       "        vertical-align: middle;\n",
       "    }\n",
       "\n",
       "    .dataframe tbody tr th {\n",
       "        vertical-align: top;\n",
       "    }\n",
       "\n",
       "    .dataframe thead th {\n",
       "        text-align: right;\n",
       "    }\n",
       "</style>\n",
       "<table border=\"1\" class=\"dataframe\">\n",
       "  <thead>\n",
       "    <tr style=\"text-align: right;\">\n",
       "      <th></th>\n",
       "      <th>порадуйте</th>\n",
       "      <th>себя</th>\n",
       "      <th>близких</th>\n",
       "      <th>пышными</th>\n",
       "      <th>оладьями</th>\n",
       "      <th>кокосовым</th>\n",
       "      <th>вкусом</th>\n",
       "      <th>простые</th>\n",
       "      <th>ингредиенты</th>\n",
       "      <th>замечательный</th>\n",
       "      <th>вкус</th>\n",
       "    </tr>\n",
       "  </thead>\n",
       "  <tbody>\n",
       "    <tr>\n",
       "      <th>0</th>\n",
       "      <td>0.301511</td>\n",
       "      <td>0.301511</td>\n",
       "      <td>0.301511</td>\n",
       "      <td>0.301511</td>\n",
       "      <td>0.301511</td>\n",
       "      <td>0.301511</td>\n",
       "      <td>0.301511</td>\n",
       "      <td>0.301511</td>\n",
       "      <td>0.301511</td>\n",
       "      <td>0.301511</td>\n",
       "      <td>0.301511</td>\n",
       "    </tr>\n",
       "  </tbody>\n",
       "</table>\n",
       "</div>"
      ],
      "text/plain": [
       "   порадуйте      себя   близких   пышными  оладьями  кокосовым    вкусом  \\\n",
       "0   0.301511  0.301511  0.301511  0.301511  0.301511   0.301511  0.301511   \n",
       "\n",
       "    простые  ингредиенты  замечательный      вкус  \n",
       "0  0.301511     0.301511       0.301511  0.301511  "
      ]
     },
     "execution_count": 121,
     "metadata": {},
     "output_type": "execute_result"
    }
   ],
   "source": [
    "def get_dataframe_vect(sent_words):\n",
    "    cv = TfidfVectorizer()\n",
    "    cv.fit(sent_words)\n",
    "    return pd.DataFrame([{elem: cv.transform(sent_words).toarray()[0][cv.vocabulary_[elem]] for elem in cv.vocabulary_}])\n",
    "\n",
    "get_dataframe_vect(sent_tokenize(sample['description'].values[0]))"
   ]
  },
  {
   "cell_type": "code",
   "execution_count": 122,
   "metadata": {},
   "outputs": [
    {
     "data": {
      "text/html": [
       "<div>\n",
       "<style scoped>\n",
       "    .dataframe tbody tr th:only-of-type {\n",
       "        vertical-align: middle;\n",
       "    }\n",
       "\n",
       "    .dataframe tbody tr th {\n",
       "        vertical-align: top;\n",
       "    }\n",
       "\n",
       "    .dataframe thead th {\n",
       "        text-align: right;\n",
       "    }\n",
       "</style>\n",
       "<table border=\"1\" class=\"dataframe\">\n",
       "  <thead>\n",
       "    <tr style=\"text-align: right;\">\n",
       "      <th></th>\n",
       "      <th>порадуйте</th>\n",
       "      <th>себя</th>\n",
       "      <th>близких</th>\n",
       "      <th>пышными</th>\n",
       "      <th>оладьями</th>\n",
       "      <th>кокосовым</th>\n",
       "      <th>вкусом</th>\n",
       "      <th>простые</th>\n",
       "      <th>ингредиенты</th>\n",
       "      <th>замечательный</th>\n",
       "      <th>вкус</th>\n",
       "    </tr>\n",
       "  </thead>\n",
       "  <tbody>\n",
       "    <tr>\n",
       "      <th>0</th>\n",
       "      <td>0.301511</td>\n",
       "      <td>0.301511</td>\n",
       "      <td>0.301511</td>\n",
       "      <td>0.301511</td>\n",
       "      <td>0.301511</td>\n",
       "      <td>0.301511</td>\n",
       "      <td>0.301511</td>\n",
       "      <td>0.301511</td>\n",
       "      <td>0.301511</td>\n",
       "      <td>0.301511</td>\n",
       "      <td>0.301511</td>\n",
       "    </tr>\n",
       "  </tbody>\n",
       "</table>\n",
       "</div>"
      ],
      "text/plain": [
       "   порадуйте      себя   близких   пышными  оладьями  кокосовым    вкусом  \\\n",
       "0   0.301511  0.301511  0.301511  0.301511  0.301511   0.301511  0.301511   \n",
       "\n",
       "    простые  ингредиенты  замечательный      вкус  \n",
       "0  0.301511     0.301511       0.301511  0.301511  "
      ]
     },
     "metadata": {},
     "output_type": "display_data"
    },
    {
     "data": {
      "text/html": [
       "<div>\n",
       "<style scoped>\n",
       "    .dataframe tbody tr th:only-of-type {\n",
       "        vertical-align: middle;\n",
       "    }\n",
       "\n",
       "    .dataframe tbody tr th {\n",
       "        vertical-align: top;\n",
       "    }\n",
       "\n",
       "    .dataframe thead th {\n",
       "        text-align: right;\n",
       "    }\n",
       "</style>\n",
       "<table border=\"1\" class=\"dataframe\">\n",
       "  <thead>\n",
       "    <tr style=\"text-align: right;\">\n",
       "      <th></th>\n",
       "      <th>лет</th>\n",
       "      <th>двадцать</th>\n",
       "      <th>назад</th>\n",
       "      <th>покупая</th>\n",
       "      <th>сыр</th>\n",
       "      <th>наткнулась</th>\n",
       "      <th>на</th>\n",
       "      <th>рекламный</th>\n",
       "      <th>листок</th>\n",
       "      <th>этому</th>\n",
       "      <th>...</th>\n",
       "      <th>все</th>\n",
       "      <th>ингредиенты</th>\n",
       "      <th>указаны</th>\n",
       "      <th>500</th>\n",
       "      <th>грамм</th>\n",
       "      <th>фарша</th>\n",
       "      <th>готовила</th>\n",
       "      <th>три</th>\n",
       "      <th>раза</th>\n",
       "      <th>больше</th>\n",
       "    </tr>\n",
       "  </thead>\n",
       "  <tbody>\n",
       "    <tr>\n",
       "      <th>0</th>\n",
       "      <td>0.242536</td>\n",
       "      <td>0.121268</td>\n",
       "      <td>0.121268</td>\n",
       "      <td>0.121268</td>\n",
       "      <td>0.121268</td>\n",
       "      <td>0.121268</td>\n",
       "      <td>0.363803</td>\n",
       "      <td>0.121268</td>\n",
       "      <td>0.121268</td>\n",
       "      <td>0.121268</td>\n",
       "      <td>...</td>\n",
       "      <td>0.121268</td>\n",
       "      <td>0.121268</td>\n",
       "      <td>0.121268</td>\n",
       "      <td>0.121268</td>\n",
       "      <td>0.121268</td>\n",
       "      <td>0.121268</td>\n",
       "      <td>0.121268</td>\n",
       "      <td>0.121268</td>\n",
       "      <td>0.121268</td>\n",
       "      <td>0.121268</td>\n",
       "    </tr>\n",
       "  </tbody>\n",
       "</table>\n",
       "<p>1 rows × 57 columns</p>\n",
       "</div>"
      ],
      "text/plain": [
       "        лет  двадцать     назад   покупая       сыр  наткнулась        на  \\\n",
       "0  0.242536  0.121268  0.121268  0.121268  0.121268    0.121268  0.363803   \n",
       "\n",
       "   рекламный    листок     этому  ...       все  ингредиенты   указаны  \\\n",
       "0   0.121268  0.121268  0.121268  ...  0.121268     0.121268  0.121268   \n",
       "\n",
       "        500     грамм     фарша  готовила       три      раза    больше  \n",
       "0  0.121268  0.121268  0.121268  0.121268  0.121268  0.121268  0.121268  \n",
       "\n",
       "[1 rows x 57 columns]"
      ]
     },
     "metadata": {},
     "output_type": "display_data"
    },
    {
     "data": {
      "text/html": [
       "<div>\n",
       "<style scoped>\n",
       "    .dataframe tbody tr th:only-of-type {\n",
       "        vertical-align: middle;\n",
       "    }\n",
       "\n",
       "    .dataframe tbody tr th {\n",
       "        vertical-align: top;\n",
       "    }\n",
       "\n",
       "    .dataframe thead th {\n",
       "        text-align: right;\n",
       "    }\n",
       "</style>\n",
       "<table border=\"1\" class=\"dataframe\">\n",
       "  <thead>\n",
       "    <tr style=\"text-align: right;\">\n",
       "      <th></th>\n",
       "      <th>нежные</th>\n",
       "      <th>сочные</th>\n",
       "      <th>оладьи</th>\n",
       "      <th>очень</th>\n",
       "      <th>вкусные</th>\n",
       "    </tr>\n",
       "  </thead>\n",
       "  <tbody>\n",
       "    <tr>\n",
       "      <th>0</th>\n",
       "      <td>0.27735</td>\n",
       "      <td>0.27735</td>\n",
       "      <td>0.27735</td>\n",
       "      <td>0.83205</td>\n",
       "      <td>0.27735</td>\n",
       "    </tr>\n",
       "  </tbody>\n",
       "</table>\n",
       "</div>"
      ],
      "text/plain": [
       "    нежные   сочные   оладьи    очень  вкусные\n",
       "0  0.27735  0.27735  0.27735  0.83205  0.27735"
      ]
     },
     "metadata": {},
     "output_type": "display_data"
    },
    {
     "data": {
      "text/html": [
       "<div>\n",
       "<style scoped>\n",
       "    .dataframe tbody tr th:only-of-type {\n",
       "        vertical-align: middle;\n",
       "    }\n",
       "\n",
       "    .dataframe tbody tr th {\n",
       "        vertical-align: top;\n",
       "    }\n",
       "\n",
       "    .dataframe thead th {\n",
       "        text-align: right;\n",
       "    }\n",
       "</style>\n",
       "<table border=\"1\" class=\"dataframe\">\n",
       "  <thead>\n",
       "    <tr style=\"text-align: right;\">\n",
       "      <th></th>\n",
       "      <th>очень</th>\n",
       "      <th>простое</th>\n",
       "      <th>бюджетное</th>\n",
       "      <th>блюдо</th>\n",
       "      <th>особенно</th>\n",
       "      <th>понравится</th>\n",
       "      <th>тем</th>\n",
       "      <th>кому</th>\n",
       "      <th>нельзя</th>\n",
       "      <th>молочные</th>\n",
       "      <th>продукты</th>\n",
       "    </tr>\n",
       "  </thead>\n",
       "  <tbody>\n",
       "    <tr>\n",
       "      <th>0</th>\n",
       "      <td>0.301511</td>\n",
       "      <td>0.301511</td>\n",
       "      <td>0.301511</td>\n",
       "      <td>0.301511</td>\n",
       "      <td>0.301511</td>\n",
       "      <td>0.301511</td>\n",
       "      <td>0.301511</td>\n",
       "      <td>0.301511</td>\n",
       "      <td>0.301511</td>\n",
       "      <td>0.301511</td>\n",
       "      <td>0.301511</td>\n",
       "    </tr>\n",
       "  </tbody>\n",
       "</table>\n",
       "</div>"
      ],
      "text/plain": [
       "      очень   простое  бюджетное     блюдо  особенно  понравится       тем  \\\n",
       "0  0.301511  0.301511   0.301511  0.301511  0.301511    0.301511  0.301511   \n",
       "\n",
       "       кому    нельзя  молочные  продукты  \n",
       "0  0.301511  0.301511  0.301511  0.301511  "
      ]
     },
     "metadata": {},
     "output_type": "display_data"
    },
    {
     "data": {
      "text/html": [
       "<div>\n",
       "<style scoped>\n",
       "    .dataframe tbody tr th:only-of-type {\n",
       "        vertical-align: middle;\n",
       "    }\n",
       "\n",
       "    .dataframe tbody tr th {\n",
       "        vertical-align: top;\n",
       "    }\n",
       "\n",
       "    .dataframe thead th {\n",
       "        text-align: right;\n",
       "    }\n",
       "</style>\n",
       "<table border=\"1\" class=\"dataframe\">\n",
       "  <thead>\n",
       "    <tr style=\"text-align: right;\">\n",
       "      <th></th>\n",
       "      <th>малина</th>\n",
       "      <th>созрела</th>\n",
       "      <th>во</th>\n",
       "      <th>второй</th>\n",
       "      <th>раз</th>\n",
       "      <th>эх</th>\n",
       "      <th>гуляй</th>\n",
       "      <th>душа</th>\n",
       "      <th>прошу</th>\n",
       "      <th>на</th>\n",
       "      <th>оладушки</th>\n",
       "      <th>медом</th>\n",
       "    </tr>\n",
       "  </thead>\n",
       "  <tbody>\n",
       "    <tr>\n",
       "      <th>0</th>\n",
       "      <td>0.288675</td>\n",
       "      <td>0.288675</td>\n",
       "      <td>0.288675</td>\n",
       "      <td>0.288675</td>\n",
       "      <td>0.288675</td>\n",
       "      <td>0.288675</td>\n",
       "      <td>0.288675</td>\n",
       "      <td>0.288675</td>\n",
       "      <td>0.288675</td>\n",
       "      <td>0.288675</td>\n",
       "      <td>0.288675</td>\n",
       "      <td>0.288675</td>\n",
       "    </tr>\n",
       "  </tbody>\n",
       "</table>\n",
       "</div>"
      ],
      "text/plain": [
       "     малина   созрела        во    второй       раз        эх     гуляй  \\\n",
       "0  0.288675  0.288675  0.288675  0.288675  0.288675  0.288675  0.288675   \n",
       "\n",
       "       душа     прошу        на  оладушки     медом  \n",
       "0  0.288675  0.288675  0.288675  0.288675  0.288675  "
      ]
     },
     "metadata": {},
     "output_type": "display_data"
    }
   ],
   "source": [
    "from nltk import sent_tokenize\n",
    "for i in range(5):\n",
    "    display(get_dataframe_vect(sent_tokenize(sample['description'].values[i])))"
   ]
  },
  {
   "cell_type": "markdown",
   "metadata": {},
   "source": [
    "7\\. Вычислите близость между каждой парой рецептов, выбранных в задании 6, используя косинусное расстояние (можно воспользоваться функциями из любого пакета: `scipy`, `scikit-learn` или реализовать функцию самому). Результаты оформите в виде таблицы `pd.DataFrame`. В качестве названий строк и столбцов используйте названия рецептов.\n",
    "\n",
    "Примечание: обратите внимание, что $d_{cosine}(x, x) = 0$"
   ]
  },
  {
   "cell_type": "code",
   "execution_count": 114,
   "metadata": {},
   "outputs": [
    {
     "data": {
      "text/plain": [
       "array([[1.        , 0.        , 0.11111111, 0.15408339, 0.17358521],\n",
       "       [0.        , 1.        , 0.        , 0.        , 0.03925343],\n",
       "       [0.11111111, 0.        , 1.        , 0.        , 0.08679261],\n",
       "       [0.15408339, 0.        , 0.        , 1.        , 0.18053954],\n",
       "       [0.17358521, 0.03925343, 0.08679261, 0.18053954, 1.        ]])"
      ]
     },
     "execution_count": 114,
     "metadata": {},
     "output_type": "execute_result"
    }
   ],
   "source": [
    "from sklearn.metrics.pairwise import cosine_similarity\n",
    "from sklearn.feature_extraction.text import CountVectorizer\n",
    "sample_desc = [sample.iloc[x]['description'] for x in range(5)]\n",
    "vecter = CountVectorizer().fit_transform(sample_desc).toarray()\n",
    "csim = cosine_similarity(vecter)\n",
    "csim"
   ]
  },
  {
   "cell_type": "code",
   "execution_count": 115,
   "metadata": {},
   "outputs": [
    {
     "data": {
      "text/html": [
       "<div>\n",
       "<style scoped>\n",
       "    .dataframe tbody tr th:only-of-type {\n",
       "        vertical-align: middle;\n",
       "    }\n",
       "\n",
       "    .dataframe tbody tr th {\n",
       "        vertical-align: top;\n",
       "    }\n",
       "\n",
       "    .dataframe thead th {\n",
       "        text-align: right;\n",
       "    }\n",
       "</style>\n",
       "<table border=\"1\" class=\"dataframe\">\n",
       "  <thead>\n",
       "    <tr style=\"text-align: right;\">\n",
       "      <th></th>\n",
       "      <th>Голландские лимонные оладьи</th>\n",
       "      <th>Кокосовые оладьи</th>\n",
       "      <th>Куриные оладьи</th>\n",
       "      <th>Нежные куриные оладьи</th>\n",
       "      <th>Овсяные оладьи с луково-гороховой начинкой</th>\n",
       "    </tr>\n",
       "  </thead>\n",
       "  <tbody>\n",
       "    <tr>\n",
       "      <th>Голландские лимонные оладьи</th>\n",
       "      <td>0.000000</td>\n",
       "      <td>0.000000</td>\n",
       "      <td>0.111111</td>\n",
       "      <td>0.154083</td>\n",
       "      <td>0.173585</td>\n",
       "    </tr>\n",
       "    <tr>\n",
       "      <th>Кокосовые оладьи</th>\n",
       "      <td>0.000000</td>\n",
       "      <td>0.000000</td>\n",
       "      <td>0.000000</td>\n",
       "      <td>0.000000</td>\n",
       "      <td>0.039253</td>\n",
       "    </tr>\n",
       "    <tr>\n",
       "      <th>Куриные оладьи</th>\n",
       "      <td>0.111111</td>\n",
       "      <td>0.000000</td>\n",
       "      <td>0.000000</td>\n",
       "      <td>0.000000</td>\n",
       "      <td>0.086793</td>\n",
       "    </tr>\n",
       "    <tr>\n",
       "      <th>Нежные куриные оладьи</th>\n",
       "      <td>0.154083</td>\n",
       "      <td>0.000000</td>\n",
       "      <td>0.000000</td>\n",
       "      <td>0.000000</td>\n",
       "      <td>0.180540</td>\n",
       "    </tr>\n",
       "    <tr>\n",
       "      <th>Овсяные оладьи с луково-гороховой начинкой</th>\n",
       "      <td>0.173585</td>\n",
       "      <td>0.039253</td>\n",
       "      <td>0.086793</td>\n",
       "      <td>0.180540</td>\n",
       "      <td>0.000000</td>\n",
       "    </tr>\n",
       "  </tbody>\n",
       "</table>\n",
       "</div>"
      ],
      "text/plain": [
       "                                            Голландские лимонные оладьи  \\\n",
       "Голландские лимонные оладьи                                    0.000000   \n",
       "Кокосовые оладьи                                               0.000000   \n",
       "Куриные оладьи                                                 0.111111   \n",
       "Нежные куриные оладьи                                          0.154083   \n",
       "Овсяные оладьи с луково-гороховой начинкой                     0.173585   \n",
       "\n",
       "                                            Кокосовые оладьи  Куриные оладьи  \\\n",
       "Голландские лимонные оладьи                         0.000000        0.111111   \n",
       "Кокосовые оладьи                                    0.000000        0.000000   \n",
       "Куриные оладьи                                      0.000000        0.000000   \n",
       "Нежные куриные оладьи                               0.000000        0.000000   \n",
       "Овсяные оладьи с луково-гороховой начинкой          0.039253        0.086793   \n",
       "\n",
       "                                            Нежные куриные оладьи  \\\n",
       "Голландские лимонные оладьи                              0.154083   \n",
       "Кокосовые оладьи                                         0.000000   \n",
       "Куриные оладьи                                           0.000000   \n",
       "Нежные куриные оладьи                                    0.000000   \n",
       "Овсяные оладьи с луково-гороховой начинкой               0.180540   \n",
       "\n",
       "                                            Овсяные оладьи с луково-гороховой начинкой  \n",
       "Голландские лимонные оладьи                                                   0.173585  \n",
       "Кокосовые оладьи                                                              0.039253  \n",
       "Куриные оладьи                                                                0.086793  \n",
       "Нежные куриные оладьи                                                         0.180540  \n",
       "Овсяные оладьи с луково-гороховой начинкой                                    0.000000  "
      ]
     },
     "execution_count": 115,
     "metadata": {},
     "output_type": "execute_result"
    }
   ],
   "source": [
    "df_olad = pd.DataFrame(csim, columns=sample['name'].values, index=sample['name'].values)\n",
    "for i in range(5):\n",
    "    df_olad.iloc[i][i] = 0\n",
    "df_olad"
   ]
  },
  {
   "cell_type": "markdown",
   "metadata": {},
   "source": [
    "8\\. Напишите функцию, которая принимает на вход `pd.DataFrame`, полученный в задании 7, и возвращает в виде кортежа названия двух различных рецептов, которые являются наиболее похожими. Прокомментируйте результат (в виде текстового комментария). Для объяснения результата сравните слова в описаниях двух этих отзывов."
   ]
  },
  {
   "cell_type": "code",
   "execution_count": 116,
   "metadata": {},
   "outputs": [],
   "source": [
    "def find_closest(sim_df: pd.DataFrame) -> tuple:\n",
    "    print(sim_df[sim_df == sim_df.max().max()].stack().values[0])\n",
    "    return sim_df[sim_df == sim_df.max().max()].stack().index.tolist()[0]"
   ]
  },
  {
   "cell_type": "code",
   "execution_count": 117,
   "metadata": {},
   "outputs": [
    {
     "name": "stdout",
     "output_type": "stream",
     "text": [
      "0.18053953616852975\n"
     ]
    },
    {
     "data": {
      "text/plain": [
       "('Нежные куриные оладьи', 'Овсяные оладьи с луково-гороховой начинкой')"
      ]
     },
     "execution_count": 117,
     "metadata": {},
     "output_type": "execute_result"
    }
   ],
   "source": [
    "find_closest(df_olad)"
   ]
  },
  {
   "cell_type": "code",
   "execution_count": 118,
   "metadata": {},
   "outputs": [
    {
     "name": "stdout",
     "output_type": "stream",
     "text": [
      "0.18053953616852975\n"
     ]
    },
    {
     "data": {
      "text/plain": [
       "'нежные сочные оладьи и очень очень очень вкусные'"
      ]
     },
     "execution_count": 118,
     "metadata": {},
     "output_type": "execute_result"
    }
   ],
   "source": [
    "sample[sample['name']==find_closest(df_olad)[0]]['description'].values[0]"
   ]
  },
  {
   "cell_type": "code",
   "execution_count": 119,
   "metadata": {},
   "outputs": [
    {
     "name": "stdout",
     "output_type": "stream",
     "text": [
      "0.18053953616852975\n"
     ]
    },
    {
     "data": {
      "text/plain": [
       "'очень вкусные нежный оладьи несмотря на то что состоят из нескольких ингредиентов начинка из лука с зеленым горошком и небольшим колвом фарша хорошо дополняют вкус подавать можно со сметаной стакан у меня 200мл лук шалот можно заменить на обычный просто у меня его в этом году был хороший урожай вот и кладу его везде угошайтесь'"
      ]
     },
     "execution_count": 119,
     "metadata": {},
     "output_type": "execute_result"
    }
   ],
   "source": [
    "sample[sample['name']==find_closest(df_olad)[1]]['description'].values[0]"
   ]
  },
  {
   "cell_type": "code",
   "execution_count": null,
   "metadata": {},
   "outputs": [],
   "source": []
  }
 ],
 "metadata": {
  "kernelspec": {
   "display_name": "Python 3.10.4 64-bit",
   "language": "python",
   "name": "python3"
  },
  "language_info": {
   "codemirror_mode": {
    "name": "ipython",
    "version": 3
   },
   "file_extension": ".py",
   "mimetype": "text/x-python",
   "name": "python",
   "nbconvert_exporter": "python",
   "pygments_lexer": "ipython3",
   "version": "3.10.4 (main, Nov 18 2022, 01:20:00) [GCC 9.4.0]"
  },
  "vscode": {
   "interpreter": {
    "hash": "3ad933181bd8a04b432d3370b9dc3b0662ad032c4dfaa4e4f1596c548f763858"
   }
  }
 },
 "nbformat": 4,
 "nbformat_minor": 4
}
