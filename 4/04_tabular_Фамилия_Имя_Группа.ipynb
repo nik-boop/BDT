{
 "cells": [
  {
   "cell_type": "markdown",
   "id": "1278b2fe",
   "metadata": {},
   "source": [
    "# Табличные данные и взаимодействие с Excel"
   ]
  },
  {
   "cell_type": "markdown",
   "id": "cbe493ce",
   "metadata": {},
   "source": [
    "__Автор задач: Блохин Н.В. (NVBlokhin@fa.ru)__\n",
    "\n",
    "Материалы:\n",
    "* Макрушин С.В. Лекция \"Табличные данные и взаимодействие с Excel\"\n",
    "* https://docs.xlwings.org/en/stable/quickstart.html\n",
    "* https://nbviewer.org/github/pybokeh/jupyter_notebooks/blob/main/xlwings/Excel_Formatting.ipynb\n",
    "* https://xlsxwriter.readthedocs.io/\n",
    "* https://xlsxwriter.readthedocs.io/working_with_conditional_formats.html\n",
    "* https://xlsxwriter.readthedocs.io/example_conditional_format.html\n",
    "* https://ru.excelfunctions.eu/\n",
    "* https://docs.python.org/3/library/csv.html\n",
    "* https://pandas.pydata.org/docs/reference/api/pandas.DataFrame.plot\n",
    "* https://analysistabs.com/excel-vba/colorindex/"
   ]
  },
  {
   "cell_type": "markdown",
   "id": "944e06a8",
   "metadata": {},
   "source": [
    "## Задачи для совместного разбора"
   ]
  },
  {
   "cell_type": "code",
   "execution_count": 1,
   "id": "78a1265b",
   "metadata": {},
   "outputs": [
    {
     "name": "stdout",
     "output_type": "stream",
     "text": [
      "Requirement already satisfied: xlsxwriter in c:\\users\\androids\\pycharmprojects\\venv\\lib\\site-packages (3.0.3)\n",
      "Note: you may need to restart the kernel to use updated packages.\n"
     ]
    },
    {
     "name": "stderr",
     "output_type": "stream",
     "text": [
      "\n",
      "[notice] A new release of pip available: 22.2.2 -> 22.3\n",
      "[notice] To update, run: python.exe -m pip install --upgrade pip\n"
     ]
    }
   ],
   "source": [
    "pip install xlsxwriter"
   ]
  },
  {
   "cell_type": "code",
   "execution_count": 1,
   "id": "00784884",
   "metadata": {},
   "outputs": [],
   "source": [
    "import xlsxwriter\n",
    "import xlwings as xw\n",
    "import numpy as np\n",
    "import pandas as pd\n",
    "import csv"
   ]
  },
  {
   "cell_type": "markdown",
   "id": "23ba14c9",
   "metadata": {},
   "source": [
    "1. Создать файл `demo.xlsx` при помощи пакета `xlswriter` на основе данных из файла `costs.csv`."
   ]
  },
  {
   "cell_type": "markdown",
   "id": "58ed296b",
   "metadata": {},
   "source": [
    "2. На листе \"Рецептура\" файла `demo.xlsx` рассчитать себестоимость всех видов продукции. Результаты расчетов сохранить в отдельном столбце."
   ]
  },
  {
   "cell_type": "markdown",
   "id": "17422db2",
   "metadata": {},
   "source": [
    "3. Выполнить 2 с помощью \"протягиваемых\" формул."
   ]
  },
  {
   "cell_type": "markdown",
   "id": "6ff0c246",
   "metadata": {},
   "source": [
    "4. Добавить общий заголовок и доработать форматирование новых столбцов"
   ]
  },
  {
   "cell_type": "markdown",
   "id": "0e143f0d",
   "metadata": {},
   "source": [
    "## Лабораторная работа 4"
   ]
  },
  {
   "cell_type": "markdown",
   "id": "4c521f29",
   "metadata": {},
   "source": [
    "1. При помощи пакета `xlsxwriter` создайте рабочую книгу под названием `recipes_model.xlsx`. \n",
    "Добавьте лист с названием \"Модель\". В первой строчке листа разместите следующие названия колонок: `\"Сущность\", \"Атрибут\", \"Тип данных\", \"Обязательно к заполнению\", \"Описание сущности\", \"Описание атрибута\", \"Ключ\", \"Таблица для ссылки\", \"Поле для ссылки\", \"SQL\"`.\n",
    "\n",
    "* Не закрывайте рабочую книгу, она потребуется для выполнения следующего задания."
   ]
  },
  {
   "cell_type": "code",
   "execution_count": 2,
   "id": "8a45c66c",
   "metadata": {},
   "outputs": [
    {
     "data": {
      "text/plain": "0"
     },
     "execution_count": 2,
     "metadata": {},
     "output_type": "execute_result"
    }
   ],
   "source": [
    "workbook = xlsxwriter.Workbook('recipes_model.xlsx')\n",
    "worksheet = workbook.add_worksheet(name=\"Модель\")\n",
    "  \n",
    "content = [\"Сущность\", \"Атрибут\", \"Тип данных\", \"Обязательно к заполнению\", \"Описание сущности\", \"Описание атрибута\", \"Ключ\", \"Таблица для ссылки\", \"Поле для ссылки\", \"SQL\"]\n",
    "\n",
    "worksheet.write_row(0, 0, content)"
   ]
  },
  {
   "cell_type": "markdown",
   "id": "c755416d",
   "metadata": {},
   "source": [
    "2. При помощи пакета `xlsxwriter` добавьте условное форматирование на лист \"Модель\":\n",
    "* если в ячейке столбца `G` указано значение \"PK\", то сделать заливку ячейки цвета  `#006600`, а цвет шрифта - `#fffff`.\n",
    "* если в ячейке столбца `G` указано значение \"FK\", то сделать заливку ячейки цвета  `#cccc00`, а цвет шрифта - `#000000`.\n",
    "\n",
    "Примените данные правила к диапазону `G2:G50`. Закройте рабочую книгу."
   ]
  },
  {
   "cell_type": "code",
   "execution_count": 3,
   "id": "77b4e684",
   "metadata": {},
   "outputs": [],
   "source": [
    "with open('recipes_model.csv', 'r', encoding=\"utf-8\") as f:\n",
    "    reader = csv.reader(f, delimiter='\\t')\n",
    "    data = list(reader)\n",
    "    data[0][6]=\"Ключ\""
   ]
  },
  {
   "cell_type": "code",
   "execution_count": 4,
   "id": "cbc531f6",
   "metadata": {},
   "outputs": [],
   "source": [
    "format1 = workbook.add_format({\"bg_color\": \"#006600\", \"font_color\": \"#fffff\"})\n",
    "format2 = workbook.add_format({\"bg_color\": \"#cccc00\", \"font_color\": \"#000000\"})\n",
    "\n",
    "worksheet.conditional_format('G2:G50', {'type':     'cell',\n",
    "                                        'criteria': '=',\n",
    "                                        'value':    '\"PK\"',\n",
    "                                        'format':   format1})\n",
    "worksheet.conditional_format('G2:G50', {'type':     'cell',\n",
    "                                        'criteria': '=',\n",
    "                                        'value':    '\"FK\"',\n",
    "                                        'format':   format2})\n",
    "\n",
    "workbook.close()"
   ]
  },
  {
   "cell_type": "markdown",
   "id": "584dd57e",
   "metadata": {},
   "source": [
    "3. В файле `recipes_model.csv` находится модель данных предметной области \"рецепты\". При помощи пакета `csv` считайте эти данные. При помощи пакета `xlwings` запишите данные на лист `Модель` книги `recipes_model.xlsx`, начиная с ячейки `A2`, не используя циклы. Сделайте скриншот текущего состояния листа и прикрепите в ячейку ноутбука. "
   ]
  },
  {
   "cell_type": "code",
   "execution_count": 5,
   "id": "510101f5",
   "metadata": {},
   "outputs": [
    {
     "data": {
      "text/plain": "<Sheet [recipes_model.xlsx]Модель>"
     },
     "execution_count": 5,
     "metadata": {},
     "output_type": "execute_result"
    }
   ],
   "source": [
    "def readBookAndSheets(Book: str, Sheets: str) -> xw.Sheet:\n",
    "    global wb, recipies\n",
    "    wb = xw.Book(Book)\n",
    "    recipies = wb.sheets[Sheets]\n",
    "    return recipies\n",
    "readBookAndSheets(\"recipes_model.xlsx\", \"Модель\")"
   ]
  },
  {
   "cell_type": "code",
   "execution_count": 6,
   "id": "bbdf1f21",
   "metadata": {},
   "outputs": [],
   "source": [
    "try:\n",
    "    model = wb.sheets.add(name=\"Модель\")\n",
    "except ValueError:\n",
    "    model = wb.sheets[\"Модель\"]"
   ]
  },
  {
   "cell_type": "code",
   "execution_count": 7,
   "id": "42f9a9fe",
   "metadata": {},
   "outputs": [],
   "source": [
    "model.range(\"A2\").value = data[1:]\n"
   ]
  },
  {
   "cell_type": "code",
   "execution_count": 8,
   "id": "aad3a583",
   "metadata": {},
   "outputs": [],
   "source": [
    "# wb.close()"
   ]
  },
  {
   "cell_type": "markdown",
   "id": "45b57600",
   "metadata": {},
   "source": [
    "4. При помощи пакета `xlwings` добавьте в столбец J формулу для описания столбца на языке SQL. Формула должна реализовывать следующую логику:\n",
    "\n",
    "    1\\. в начале строки идут значения из столбцов В и C (значение столбца С приведено к верхнему регистру), разделенные пробелом\n",
    "    \n",
    "    2\\. далее идут слова на основе столбца \"Ключ\"\n",
    "        2.1 если в столбце \"Ключ\" указано значение \"PK\", то дальше через пробел идет ключевое слово \"PRIMARY KEY\"\n",
    "        2.2 если в столбце \"Ключ\" указано значение \"FK\", то дальше через пробел идет ключевое слово \"REFERENCES\", затем значения столбцов H и I в формате \"название_таблицы(название_столбца)\"\n",
    "        \n",
    "    3\\. если в столбце \"Обязательно к заполнению\" указано значение \"Y\" и в столбце \"Ключ\" указано не \"PK\", то дальше через пробел идет ключевое слово \"NOT NULL\".\n",
    "\n",
    "Заполните этой формулой необходимое количество строк, используя \"протягивание\". Количество строк для протягивания определите на основе данных.\n",
    "\n",
    "Сделайте скриншот текущего состояния листа и прикрепите в ячейку ноутбука."
   ]
  },
  {
   "cell_type": "code",
   "execution_count": 9,
   "id": "a087eb9c",
   "metadata": {},
   "outputs": [],
   "source": [
    "# =ОБЪЕДИНИТЬ(\" \";ИСТИНА;B2;ПРОПИСН(C2);ЕСЛИМН(G2=\"PK\";ЕСЛИ(D2=\"Y\";\"PRIMARY KEY NOT NULL\";\"PRIMARY KEY\");G2=\"FK\";\"REFERENCES \"&ОБЪЕДИНИТЬ(\"\";ИСТИНА;H2;\"(\";I2;\")\");G2=\"\";\"\"))\n",
    "# =TEXTJOIN(\" \";TRUE;B2;UPPER(C2);IFS(G2=\"PK\";IF(D2=\"Y\";\"PRIMARY KEY NOT NULL\";\"PRIMARY KEY\");G2=\"FK\";\"REFERENCES \"&TEXTJOIN(\"\";TRUE;H2;\"(\";I2;\")\");G2=\"\";\"\"))"
   ]
  },
  {
   "cell_type": "code",
   "execution_count": 10,
   "id": "ac9f6f87",
   "metadata": {},
   "outputs": [
    {
     "data": {
      "text/plain": "True"
     },
     "execution_count": 10,
     "metadata": {},
     "output_type": "execute_result"
    }
   ],
   "source": [
    "from xlwings.constants import AutoFillType\n",
    "SQL_column_start = model.range(\"J2\")\n",
    "SQL_column = model.range(f\"J2:j{len(data)+1}\")\n",
    "SQL_column_start.formula = '=TEXTJOIN(\" \",TRUE,B2,UPPER(C2),IFS(G2=\"PK\",IF(D2=\"Y\",\"PRIMARY KEY NOT NULL\",\"PRIMARY KEY\"),G2=\"FK\",\"REFERENCES \"&TEXTJOIN(\"\",TRUE,H2,\"(\",I2,\")\"),G2=\"\",\"\"))'\n",
    "SQL_column_start.api.AutoFill(SQL_column.api, AutoFillType.xlFillDefault)"
   ]
  },
  {
   "cell_type": "markdown",
   "id": "61a9a3a6",
   "metadata": {},
   "source": [
    "5. При помощи пакета `xlwings` измените стилизацию листа `Модель`.\n",
    "* для заголовков добавьте заливку цвета `00ccff`\n",
    "* примените автоподбор ширины столбца;\n",
    "* сделайте шрифт заголовков полужирным;\n",
    "* добавьте таблице автофильтр.\n",
    "\n",
    "Сделайте скриншот текущего состояния листа и прикрепите в ячейку ноутбука."
   ]
  },
  {
   "cell_type": "code",
   "execution_count": 11,
   "id": "0538ad0a",
   "metadata": {},
   "outputs": [],
   "source": [
    "Titles = model.range(\"A1:J1\")\n",
    "Titles.color = (0, 204, 255)\n",
    "Titles.autofit()\n",
    "for poz in Titles:\n",
    "    if poz.column_width < 10:\n",
    "        poz.column_width = 10\n",
    "Titles.font.bold = True\n",
    "Titles.api.AutoFilter(Field:=1)\n",
    "wb.save()"
   ]
  },
  {
   "cell_type": "markdown",
   "id": "166b8eb2",
   "metadata": {},
   "source": [
    "6. В данных, полученных из файла `recipes_model.csv`, имеются ошибки двух видов:\n",
    "\n",
    "    1\\. Для некоторых полей, указанных как первичный ключ, в столбце \"Обязательно к заполнению\" стоит значение \"N\";\n",
    "\n",
    "    2\\. Для некоторых полей, указанных как внешний ключ, не указана таблица для ссылки и поле для ссылки.\n",
    "\n",
    "Получите данные из листа в виде `pd.DataFrame`. Найдите строки на листе, которые содержат ошибки первого или второго рода и сделайте заливку эти строк цвета `(255, 22, 22)`. Сделайте скриншот текущего состояния листа и прикрепите в ячейку ноутбука."
   ]
  },
  {
   "cell_type": "code",
   "execution_count": 12,
   "id": "ca87f4ac",
   "metadata": {},
   "outputs": [],
   "source": [
    "df = pd.read_excel(\"recipes_model.xlsx\", sheet_name=\"Модель\")\n"
   ]
  },
  {
   "cell_type": "code",
   "execution_count": 13,
   "id": "9101d82e",
   "metadata": {},
   "outputs": [
    {
     "data": {
      "text/plain": "   Сущность         Атрибут   Тип данных Обязательно к заполнению  \\\n0    recipe              id       serial                        N   \n1    recipe         minutes          int                        Y   \n2    recipe  contributor_id          int                        Y   \n3    recipe       submitted    timestamp                        Y   \n4    recipe         n_steps          int                        N   \n5    recipe     description         text                        N   \n6    recipe   n_ingredients          int                        N   \n7    review              id       serial                        Y   \n8    review         user_id          int                        Y   \n9    review       recipe_id          int                        Y   \n10   review            date    timestamp                        Y   \n11   review          rating          int                        Y   \n12   review          review         test                        N   \n13     user              id       serial                        Y   \n14     user           login  varchar(20)                        Y   \n15     user      registered    timestamp                        Y   \n\n   Описание сущности                  Описание атрибута Ключ  \\\n0             Рецепт                         ID рецепта   PK   \n1             Рецепт  Длительность выполнения в минутах  NaN   \n2             Рецепт                  ID автора рецепта   FK   \n3             Рецепт                    Дата добавления  NaN   \n4             Рецепт               Кол-во шагов рецепта  NaN   \n5             Рецепт                   Описание рецепта  NaN   \n6             Рецепт      Кол-во ингредиентов в рецепта  NaN   \n7              Отзыв                          ID отзыва   PK   \n8              Отзыв                   ID автора отзыва   FK   \n9              Отзыв                         ID рецепта   FK   \n10             Отзыв             Дата добавления отзыва  NaN   \n11             Отзыв                     Рейтинг отзыва  NaN   \n12             Отзыв          Текстовое описание отзыва  NaN   \n13      Пользователь                    ID пользователя   PK   \n14      Пользователь                 Логин пользователя  NaN   \n15      Пользователь      Дата регистрации пользователя  NaN   \n\n   Таблица для ссылки Поле для ссылки                                     SQL  \n0                 NaN             NaN                   id SERIAL PRIMARY KEY  \n1                 NaN             NaN                             minutes INT  \n2                user              id  contributor_id INT REFERENCES user(id)  \n3                 NaN             NaN                     submitted TIMESTAMP  \n4                 NaN             NaN                             n_steps INT  \n5                 NaN             NaN                        description TEXT  \n6                 NaN             NaN                       n_ingredients INT  \n7                 NaN             NaN          id SERIAL PRIMARY KEY NOT NULL  \n8                 NaN             NaN               user_id INT REFERENCES ()  \n9              recipe              id     recipe_id INT REFERENCES recipe(id)  \n10                NaN             NaN                          date TIMESTAMP  \n11                NaN             NaN                              rating INT  \n12                NaN             NaN                             review TEST  \n13                NaN             NaN          id SERIAL PRIMARY KEY NOT NULL  \n14                NaN             NaN                       login VARCHAR(20)  \n15                NaN             NaN                    registered TIMESTAMP  ",
      "text/html": "<div>\n<style scoped>\n    .dataframe tbody tr th:only-of-type {\n        vertical-align: middle;\n    }\n\n    .dataframe tbody tr th {\n        vertical-align: top;\n    }\n\n    .dataframe thead th {\n        text-align: right;\n    }\n</style>\n<table border=\"1\" class=\"dataframe\">\n  <thead>\n    <tr style=\"text-align: right;\">\n      <th></th>\n      <th>Сущность</th>\n      <th>Атрибут</th>\n      <th>Тип данных</th>\n      <th>Обязательно к заполнению</th>\n      <th>Описание сущности</th>\n      <th>Описание атрибута</th>\n      <th>Ключ</th>\n      <th>Таблица для ссылки</th>\n      <th>Поле для ссылки</th>\n      <th>SQL</th>\n    </tr>\n  </thead>\n  <tbody>\n    <tr>\n      <th>0</th>\n      <td>recipe</td>\n      <td>id</td>\n      <td>serial</td>\n      <td>N</td>\n      <td>Рецепт</td>\n      <td>ID рецепта</td>\n      <td>PK</td>\n      <td>NaN</td>\n      <td>NaN</td>\n      <td>id SERIAL PRIMARY KEY</td>\n    </tr>\n    <tr>\n      <th>1</th>\n      <td>recipe</td>\n      <td>minutes</td>\n      <td>int</td>\n      <td>Y</td>\n      <td>Рецепт</td>\n      <td>Длительность выполнения в минутах</td>\n      <td>NaN</td>\n      <td>NaN</td>\n      <td>NaN</td>\n      <td>minutes INT</td>\n    </tr>\n    <tr>\n      <th>2</th>\n      <td>recipe</td>\n      <td>contributor_id</td>\n      <td>int</td>\n      <td>Y</td>\n      <td>Рецепт</td>\n      <td>ID автора рецепта</td>\n      <td>FK</td>\n      <td>user</td>\n      <td>id</td>\n      <td>contributor_id INT REFERENCES user(id)</td>\n    </tr>\n    <tr>\n      <th>3</th>\n      <td>recipe</td>\n      <td>submitted</td>\n      <td>timestamp</td>\n      <td>Y</td>\n      <td>Рецепт</td>\n      <td>Дата добавления</td>\n      <td>NaN</td>\n      <td>NaN</td>\n      <td>NaN</td>\n      <td>submitted TIMESTAMP</td>\n    </tr>\n    <tr>\n      <th>4</th>\n      <td>recipe</td>\n      <td>n_steps</td>\n      <td>int</td>\n      <td>N</td>\n      <td>Рецепт</td>\n      <td>Кол-во шагов рецепта</td>\n      <td>NaN</td>\n      <td>NaN</td>\n      <td>NaN</td>\n      <td>n_steps INT</td>\n    </tr>\n    <tr>\n      <th>5</th>\n      <td>recipe</td>\n      <td>description</td>\n      <td>text</td>\n      <td>N</td>\n      <td>Рецепт</td>\n      <td>Описание рецепта</td>\n      <td>NaN</td>\n      <td>NaN</td>\n      <td>NaN</td>\n      <td>description TEXT</td>\n    </tr>\n    <tr>\n      <th>6</th>\n      <td>recipe</td>\n      <td>n_ingredients</td>\n      <td>int</td>\n      <td>N</td>\n      <td>Рецепт</td>\n      <td>Кол-во ингредиентов в рецепта</td>\n      <td>NaN</td>\n      <td>NaN</td>\n      <td>NaN</td>\n      <td>n_ingredients INT</td>\n    </tr>\n    <tr>\n      <th>7</th>\n      <td>review</td>\n      <td>id</td>\n      <td>serial</td>\n      <td>Y</td>\n      <td>Отзыв</td>\n      <td>ID отзыва</td>\n      <td>PK</td>\n      <td>NaN</td>\n      <td>NaN</td>\n      <td>id SERIAL PRIMARY KEY NOT NULL</td>\n    </tr>\n    <tr>\n      <th>8</th>\n      <td>review</td>\n      <td>user_id</td>\n      <td>int</td>\n      <td>Y</td>\n      <td>Отзыв</td>\n      <td>ID автора отзыва</td>\n      <td>FK</td>\n      <td>NaN</td>\n      <td>NaN</td>\n      <td>user_id INT REFERENCES ()</td>\n    </tr>\n    <tr>\n      <th>9</th>\n      <td>review</td>\n      <td>recipe_id</td>\n      <td>int</td>\n      <td>Y</td>\n      <td>Отзыв</td>\n      <td>ID рецепта</td>\n      <td>FK</td>\n      <td>recipe</td>\n      <td>id</td>\n      <td>recipe_id INT REFERENCES recipe(id)</td>\n    </tr>\n    <tr>\n      <th>10</th>\n      <td>review</td>\n      <td>date</td>\n      <td>timestamp</td>\n      <td>Y</td>\n      <td>Отзыв</td>\n      <td>Дата добавления отзыва</td>\n      <td>NaN</td>\n      <td>NaN</td>\n      <td>NaN</td>\n      <td>date TIMESTAMP</td>\n    </tr>\n    <tr>\n      <th>11</th>\n      <td>review</td>\n      <td>rating</td>\n      <td>int</td>\n      <td>Y</td>\n      <td>Отзыв</td>\n      <td>Рейтинг отзыва</td>\n      <td>NaN</td>\n      <td>NaN</td>\n      <td>NaN</td>\n      <td>rating INT</td>\n    </tr>\n    <tr>\n      <th>12</th>\n      <td>review</td>\n      <td>review</td>\n      <td>test</td>\n      <td>N</td>\n      <td>Отзыв</td>\n      <td>Текстовое описание отзыва</td>\n      <td>NaN</td>\n      <td>NaN</td>\n      <td>NaN</td>\n      <td>review TEST</td>\n    </tr>\n    <tr>\n      <th>13</th>\n      <td>user</td>\n      <td>id</td>\n      <td>serial</td>\n      <td>Y</td>\n      <td>Пользователь</td>\n      <td>ID пользователя</td>\n      <td>PK</td>\n      <td>NaN</td>\n      <td>NaN</td>\n      <td>id SERIAL PRIMARY KEY NOT NULL</td>\n    </tr>\n    <tr>\n      <th>14</th>\n      <td>user</td>\n      <td>login</td>\n      <td>varchar(20)</td>\n      <td>Y</td>\n      <td>Пользователь</td>\n      <td>Логин пользователя</td>\n      <td>NaN</td>\n      <td>NaN</td>\n      <td>NaN</td>\n      <td>login VARCHAR(20)</td>\n    </tr>\n    <tr>\n      <th>15</th>\n      <td>user</td>\n      <td>registered</td>\n      <td>timestamp</td>\n      <td>Y</td>\n      <td>Пользователь</td>\n      <td>Дата регистрации пользователя</td>\n      <td>NaN</td>\n      <td>NaN</td>\n      <td>NaN</td>\n      <td>registered TIMESTAMP</td>\n    </tr>\n  </tbody>\n</table>\n</div>"
     },
     "execution_count": 13,
     "metadata": {},
     "output_type": "execute_result"
    }
   ],
   "source": [
    "df"
   ]
  },
  {
   "cell_type": "code",
   "execution_count": 14,
   "id": "18df07e5",
   "metadata": {},
   "outputs": [],
   "source": [
    "d1 = df.loc[:,\"Ключ\"]+df.loc[:,\"Обязательно к заполнению\"]\n",
    "d2 = (df.loc[:,\"Таблица для ссылки\"].notna() * df.loc[:,\"Поле для ссылки\"].notna() * -1 + 1) * df.loc[:,\"Ключ\"]==\"FK\"\n",
    "indexs = df[d2].index.append(d1[d1==\"PKN\"].index)\n",
    "for i in indexs:\n",
    "    model.range(f\"A{i+2}:J{i+2}\").color = (255, 22, 22)\n"
   ]
  },
  {
   "cell_type": "markdown",
   "id": "ff3b9d65",
   "metadata": {},
   "source": [
    "7. При помощи пакета `xlwings` создайте лист с названием `Ошибки заполнения`. \n",
    "\n",
    "Поместите в первой строчке этого листа заголовки \"№ строки\" и \"Ошибка\". Заполните лист на основе решения задачи 6. В столбце \"№ строки\" укажите номер строки с листа `Модель`, содержащую ошибку, а в столбце \"Ошибка\" для ошибок первого рода напишите сообщение \"Первичный ключ не может быть NULL\", для ошибок второго рода - \"Не указано поле для связи по внешнему ключу\". Сделайте скриншот состояния листа `Ошибки заполнения` и прикрепите в ячейку ноутбука. "
   ]
  },
  {
   "cell_type": "code",
   "execution_count": 15,
   "id": "1bb8a914",
   "metadata": {},
   "outputs": [],
   "source": [
    "errors = wb.sheets.add(name=\"Ошибки заполнения\")\n",
    "errors.range(\"A1\").value = [\"№ строки\", \"Ошибка\"]\n",
    "errors.range(\"A2\").value = [(index, \"Первичный ключ не может быть NULL\") for index in d1[d1==\"PKN\"].index] + [(index, \"Ошибки заполнения\") for index in df[d2].index]"
   ]
  },
  {
   "cell_type": "markdown",
   "id": "fcfdf252",
   "metadata": {},
   "source": [
    "8. Посчитайте количество атрибутов для каждой из сущностей. Создайте лист `Статистика` и запишите в него результат группировки, начиная с ячейки \"А1\". Визуализируйте полученный результат при помощи столбчатой диаграммы. Сохраните полученную визуализацию на лист `Статистика`, начиная с ячейки \"E2\".  Сделайте скриншот листа `Статистика` и прикрепите в ячейку ноутбука.\n",
    "\n",
    "* Вы можете воспользоваться методами для визуализации, которые поставляются вместе с объектами `pandas` (см. https://pandas.pydata.org/docs/reference/api/pandas.DataFrame.plot) "
   ]
  },
  {
   "cell_type": "code",
   "execution_count": 16,
   "id": "93e48114",
   "metadata": {},
   "outputs": [],
   "source": [
    "discribe = df[[\"Сущность\", \"Атрибут\"]].groupby([\"Сущность\"], group_keys=True).describe()"
   ]
  },
  {
   "cell_type": "code",
   "execution_count": 17,
   "id": "9eb06345",
   "metadata": {},
   "outputs": [],
   "source": [
    "try:\n",
    "    discribe_sheet = wb.sheets.add(name=\"Статистика\")\n",
    "except ValueError:\n",
    "    discribe_sheet = wb.sheets[\"Статистика\"]\n"
   ]
  },
  {
   "cell_type": "code",
   "execution_count": 18,
   "id": "cc74a82a",
   "metadata": {},
   "outputs": [],
   "source": [
    "discribe_sheet.range(\"A1\").value = discribe"
   ]
  },
  {
   "cell_type": "code",
   "execution_count": 19,
   "id": "027646a3",
   "metadata": {},
   "outputs": [
    {
     "data": {
      "text/plain": "<BarContainer object of 3 artists>"
     },
     "execution_count": 19,
     "metadata": {},
     "output_type": "execute_result"
    },
    {
     "data": {
      "text/plain": "<Figure size 640x480 with 1 Axes>",
      "image/png": "[encoded data removed]"
     },
     "metadata": {},
     "output_type": "display_data"
    }
   ],
   "source": [
    "import matplotlib.pyplot as plt\n",
    "fig = plt.figure()\n",
    "plt.bar(discribe[\"Атрибут\", \"count\"].index, discribe[\"Атрибут\", \"count\"])"
   ]
  },
  {
   "cell_type": "code",
   "execution_count": 20,
   "id": "da5495d6",
   "metadata": {},
   "outputs": [
    {
     "data": {
      "text/plain": "<Picture 'MyPlot' in <Sheet [recipes_model.xlsx]Статистика>>"
     },
     "execution_count": 20,
     "metadata": {},
     "output_type": "execute_result"
    }
   ],
   "source": [
    "discribe_sheet.pictures.add(fig, name='MyPlot', update=True, anchor=discribe_sheet.range(\"E2\"))"
   ]
  },
  {
   "cell_type": "code",
   "execution_count": null,
   "outputs": [],
   "source": [],
   "metadata": {
    "collapsed": false
   }
  }
 ],
 "metadata": {
  "kernelspec": {
   "display_name": "Python 3.9.5 ('venv')",
   "language": "python",
   "name": "python3"
  },
  "language_info": {
   "codemirror_mode": {
    "name": "ipython",
    "version": 3
   },
   "file_extension": ".py",
   "mimetype": "text/x-python",
   "name": "python",
   "nbconvert_exporter": "python",
   "pygments_lexer": "ipython3",
   "version": "3.9.5"
  },
  "vscode": {
   "interpreter": {
    "hash": "4a8c3d05a42edf06e742f46f08d751d9829eee66023d0a36c802d6aa069fd930"
   }
  }
 },
 "nbformat": 4,
 "nbformat_minor": 5
}
