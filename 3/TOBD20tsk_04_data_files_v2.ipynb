{
 "cells": [
  {
   "attachments": {},
   "cell_type": "markdown",
   "metadata": {
    "datalore": {
     "hide_input_from_viewers": false,
     "hide_output_from_viewers": false,
     "node_id": "Fy1HY0TQcbo6yBi3ojLFTc",
     "type": "MD"
    }
   },
   "source": [
    "Задачи по Pandas\n",
    "\n",
    "V 0.1 24.09.2020\n",
    "\n",
    "Датасеты:\n",
    "* addres-book.json\n",
    "* addres-book.xml\n",
    "* addres-book-q.xml "
   ]
  },
  {
   "attachments": {},
   "cell_type": "markdown",
   "metadata": {
    "datalore": {
     "hide_input_from_viewers": false,
     "hide_output_from_viewers": false,
     "node_id": "qtqAwrsvJz2MXYa0LEqtZ8",
     "type": "MD"
    }
   },
   "source": [
    "# JSON\n",
    "\n",
    "* Работаем с файлом addres-book.json"
   ]
  },
  {
   "attachments": {},
   "cell_type": "markdown",
   "metadata": {
    "datalore": {
     "hide_input_from_viewers": false,
     "hide_output_from_viewers": false,
     "node_id": "fM7qb5uwhN6cOSShf0y1yb",
     "type": "MD"
    }
   },
   "source": [
    "1) Вывести все адреса электронной почты, содржащиеся в адресной книге, имеющей структуру, аналогичную my_ab2."
   ]
  },
  {
   "cell_type": "code",
   "execution_count": 25,
   "metadata": {
    "datalore": {
     "hide_input_from_viewers": false,
     "hide_output_from_viewers": false,
     "node_id": "Om62MspkC1bXBpvVStCUaD",
     "type": "CODE"
    }
   },
   "outputs": [
    {
     "data": {
      "text/plain": [
       "0     faina@mail.ru\n",
       "1    robert@mail.ru\n",
       "Name: email, dtype: object"
      ]
     },
     "execution_count": 25,
     "metadata": {},
     "output_type": "execute_result"
    }
   ],
   "source": [
    "import pandas as pd\n",
    "\n",
    "df = pd.read_json(\"addres-book.json\")\n",
    "\n",
    "df['email']"
   ]
  },
  {
   "attachments": {},
   "cell_type": "markdown",
   "metadata": {
    "datalore": {
     "hide_input_from_viewers": false,
     "hide_output_from_viewers": false,
     "node_id": "OMAOb4CeG9BrFGCvzgawlp",
     "type": "MD"
    }
   },
   "source": [
    "2) Вывести телефоны, содржащиеся в адресной книге, имеющей структуру, аналогичную my_ab2. "
   ]
  },
  {
   "cell_type": "code",
   "execution_count": 76,
   "metadata": {
    "datalore": {
     "hide_input_from_viewers": false,
     "hide_output_from_viewers": false,
     "node_id": "46KXx4fAoEvpJAVOY9C8CT",
     "type": "CODE"
    }
   },
   "outputs": [
    {
     "name": "stdout",
     "output_type": "stream",
     "text": [
      "0 ---\n",
      "| 232-19-55 | \n",
      "| +7 (916) 232-19-55 | \n",
      "-----\n",
      "1 ---\n",
      "| 111-19-55 | \n",
      "| +7 (916) 445-19-55 | \n",
      "-----\n"
     ]
    }
   ],
   "source": [
    "for i, plist in enumerate(df[\"phones\"]):\n",
    "    print(i, end=\" ---\\n\")\n",
    "    for dphon in plist:\n",
    "        print(\"| \" + dphon[\"phone\"]  + \" | \")\n",
    "    print(\"-----\")"
   ]
  },
  {
   "attachments": {},
   "cell_type": "markdown",
   "metadata": {
    "datalore": {
     "hide_input_from_viewers": false,
     "hide_output_from_viewers": false,
     "node_id": "lzSIKVYvJlmdzPF6DAPmZ3",
     "type": "MD"
    }
   },
   "source": [
    "3) Изменить структуру данных my_ab2 так, чтобы для телефонов был однозначно известен их тип. Создать пример записи с обновленной структурой данных. Вывести все домашние телефоны, содржащиеся в созданном примере."
   ]
  },
  {
   "cell_type": "code",
   "execution_count": null,
   "metadata": {
    "datalore": {
     "hide_input_from_viewers": false,
     "hide_output_from_viewers": false,
     "node_id": "C1kjtR40QcIoPA73L5jFZN",
     "type": "CODE"
    }
   },
   "outputs": [],
   "source": [
    "import re\n",
    "\n",
    "df2 = df.copy()\n",
    "\n",
    "for i, plist in enumerate(df2[\"phones\"]):\n",
    "    for dphon in plist:\n",
    "        if re.search(\"(\\+7)|(8).*\\(...\\)\", dphon[\"phone\"]):\n",
    "            dphon[\"type\"]=\"mobil\"\n",
    "        else:\n",
    "            dphon[\"type\"]=\"city\"\n",
    "\n",
    "df2[\"phones\"]"
   ]
  },
  {
   "cell_type": "code",
   "execution_count": 13,
   "metadata": {},
   "outputs": [
    {
     "data": {
      "text/plain": [
       "<re.Match object; span=(0, 6), match='8(916)'>"
      ]
     },
     "execution_count": 13,
     "metadata": {},
     "output_type": "execute_result"
    }
   ],
   "source": [
    "re.search(\"(\\+7).*\\(...\\)|(8).*\\(...\\)\",\"8(916) 232-19-55\")"
   ]
  },
  {
   "attachments": {},
   "cell_type": "markdown",
   "metadata": {
    "datalore": {
     "hide_input_from_viewers": false,
     "hide_output_from_viewers": false,
     "node_id": "GVWOequWU1RpHwHa8UN7ER",
     "type": "MD"
    }
   },
   "source": [
    "3.2) Изменить структуру данных my_ab2 так, чтобы для каждой записи в адресной книге можно было записать список друзей этого человека, присутствующих в этой же адреснойЯфыыв. "
   ]
  },
  {
   "cell_type": "code",
   "execution_count": 5,
   "metadata": {
    "datalore": {
     "hide_input_from_viewers": false,
     "hide_output_from_viewers": false,
     "node_id": "RzfmttYFoKnbPavCMZynm4",
     "type": "CODE"
    }
   },
   "outputs": [
    {
     "data": {
      "text/html": [
       "<div>\n",
       "<style scoped>\n",
       "    .dataframe tbody tr th:only-of-type {\n",
       "        vertical-align: middle;\n",
       "    }\n",
       "\n",
       "    .dataframe tbody tr th {\n",
       "        vertical-align: top;\n",
       "    }\n",
       "\n",
       "    .dataframe thead th {\n",
       "        text-align: right;\n",
       "    }\n",
       "</style>\n",
       "<table border=\"1\" class=\"dataframe\">\n",
       "  <thead>\n",
       "    <tr style=\"text-align: right;\">\n",
       "      <th></th>\n",
       "      <th>name</th>\n",
       "      <th>email</th>\n",
       "      <th>birthday</th>\n",
       "      <th>phones</th>\n",
       "      <th>friends</th>\n",
       "    </tr>\n",
       "  </thead>\n",
       "  <tbody>\n",
       "    <tr>\n",
       "      <th>0</th>\n",
       "      <td>Faina Lee</td>\n",
       "      <td>faina@mail.ru</td>\n",
       "      <td>22.08.1994</td>\n",
       "      <td>[{'phone': '232-19-55'}, {'phone': '+7 (916) 2...</td>\n",
       "      <td>[Robert Lee]</td>\n",
       "    </tr>\n",
       "    <tr>\n",
       "      <th>1</th>\n",
       "      <td>Robert Lee</td>\n",
       "      <td>robert@mail.ru</td>\n",
       "      <td>22.08.1994</td>\n",
       "      <td>[{'phone': '111-19-55'}, {'phone': '+7 (916) 4...</td>\n",
       "      <td>[Faina Lee]</td>\n",
       "    </tr>\n",
       "  </tbody>\n",
       "</table>\n",
       "</div>"
      ],
      "text/plain": [
       "         name           email    birthday  \\\n",
       "0   Faina Lee   faina@mail.ru  22.08.1994   \n",
       "1  Robert Lee  robert@mail.ru  22.08.1994   \n",
       "\n",
       "                                              phones       friends  \n",
       "0  [{'phone': '232-19-55'}, {'phone': '+7 (916) 2...  [Robert Lee]  \n",
       "1  [{'phone': '111-19-55'}, {'phone': '+7 (916) 4...   [Faina Lee]  "
      ]
     },
     "execution_count": 5,
     "metadata": {},
     "output_type": "execute_result"
    }
   ],
   "source": [
    "df3 = df.copy()\n",
    "df3['friends'] = pd.Series([[] for i in range(len(df3))], index=df3.index)\n",
    "df3['friends'][0].append(\"Robert Lee\")\n",
    "df3['friends'][1].append(\"Faina Lee\")\n",
    "df3"
   ]
  },
  {
   "attachments": {},
   "cell_type": "markdown",
   "metadata": {
    "datalore": {
     "hide_input_from_viewers": false,
     "hide_output_from_viewers": false,
     "node_id": "aIBu8kdStytazZFmMNM90B",
     "type": "MD"
    }
   },
   "source": [
    "4) Написать функцию, которая формирует новую запись в телефонной книге, запрашивая у пользователя поочередно все необходимые поля."
   ]
  },
  {
   "cell_type": "code",
   "execution_count": 27,
   "metadata": {},
   "outputs": [
    {
     "name": "stdout",
     "output_type": "stream",
     "text": [
      "phones:\n"
     ]
    },
    {
     "data": {
      "text/html": [
       "<div>\n",
       "<style scoped>\n",
       "    .dataframe tbody tr th:only-of-type {\n",
       "        vertical-align: middle;\n",
       "    }\n",
       "\n",
       "    .dataframe tbody tr th {\n",
       "        vertical-align: top;\n",
       "    }\n",
       "\n",
       "    .dataframe thead th {\n",
       "        text-align: right;\n",
       "    }\n",
       "</style>\n",
       "<table border=\"1\" class=\"dataframe\">\n",
       "  <thead>\n",
       "    <tr style=\"text-align: right;\">\n",
       "      <th></th>\n",
       "      <th>name</th>\n",
       "      <th>email</th>\n",
       "      <th>birthday</th>\n",
       "      <th>phones</th>\n",
       "    </tr>\n",
       "  </thead>\n",
       "  <tbody>\n",
       "    <tr>\n",
       "      <th>0</th>\n",
       "      <td>Faina Lee</td>\n",
       "      <td>faina@mail.ru</td>\n",
       "      <td>22.08.1994</td>\n",
       "      <td>[{'phone': '232-19-55'}, {'phone': '+7 (916) 2...</td>\n",
       "    </tr>\n",
       "    <tr>\n",
       "      <th>1</th>\n",
       "      <td>Robert Lee</td>\n",
       "      <td>robert@mail.ru</td>\n",
       "      <td>22.08.1994</td>\n",
       "      <td>[{'phone': '111-19-55'}, {'phone': '+7 (916) 4...</td>\n",
       "    </tr>\n",
       "    <tr>\n",
       "      <th>2</th>\n",
       "      <td>Nik</td>\n",
       "      <td>1</td>\n",
       "      <td>2</td>\n",
       "      <td>[{'phone': '3'}, {'phone': '4'}]</td>\n",
       "    </tr>\n",
       "  </tbody>\n",
       "</table>\n",
       "</div>"
      ],
      "text/plain": [
       "         name           email    birthday  \\\n",
       "0   Faina Lee   faina@mail.ru  22.08.1994   \n",
       "1  Robert Lee  robert@mail.ru  22.08.1994   \n",
       "2         Nik               1           2   \n",
       "\n",
       "                                              phones  \n",
       "0  [{'phone': '232-19-55'}, {'phone': '+7 (916) 2...  \n",
       "1  [{'phone': '111-19-55'}, {'phone': '+7 (916) 4...  \n",
       "2                   [{'phone': '3'}, {'phone': '4'}]  "
      ]
     },
     "execution_count": 27,
     "metadata": {},
     "output_type": "execute_result"
    }
   ],
   "source": [
    "df4 = df.copy()\n",
    "def new_user():\n",
    "  global df4\n",
    "  columns = df.columns\n",
    "  name = input(\"name:>\")\n",
    "  email = input(\"email:>\")\n",
    "  birthday = input(\"birthday:>\")\n",
    "  print(\"phones:\")\n",
    "  city = input(\"city:>\")\n",
    "  mobil = input(\"mobil:>\")\n",
    "  row_list = df4.to_dict(orient=\"records\")\n",
    "  dict1 = {\n",
    "    \"name\": name,\n",
    "    \"email\": email,\n",
    "    \"birthday\": birthday,\n",
    "    \"phones\": [\n",
    "      {\n",
    "        \"phone\": city\n",
    "      },\n",
    "      {\n",
    "       \"phone\": mobil\n",
    "      }\n",
    "    ]}\n",
    "  row_list.append(dict1)\n",
    "  df4 = pd.DataFrame(row_list, columns=columns)\n",
    "new_user()\n",
    "df4\n",
    "    \n",
    "    "
   ]
  },
  {
   "attachments": {},
   "cell_type": "markdown",
   "metadata": {
    "datalore": {
     "hide_input_from_viewers": false,
     "hide_output_from_viewers": false,
     "node_id": "p4YM3JxrLONbAQghO8zS3F",
     "type": "MD"
    }
   },
   "source": [
    "5) Написать функцию, которая ищет по имени в хранящейся в файле телефонной книге запись о человеке и выводит информацию о нем в виде текста, где в каждой строке указывается тип выводимого поля и его содержимое."
   ]
  },
  {
   "cell_type": "code",
   "execution_count": 84,
   "metadata": {},
   "outputs": [
    {
     "name": "stdout",
     "output_type": "stream",
     "text": [
      "name     Faina Lee\n",
      "email    faina@mail.ru\n",
      "birthday 22.08.1994\n",
      "phones   \n",
      "         phone 232-19-55\n",
      "         phone +7 (916) 232-19-55\n",
      "\n",
      "name     Robert Lee\n",
      "email    robert@mail.ru\n",
      "birthday 22.08.1994\n",
      "phones   \n",
      "         phone 111-19-55\n",
      "         phone +7 (916) 445-19-55\n",
      "\n"
     ]
    }
   ],
   "source": [
    "\n",
    "def find_user(name):\n",
    "    columns_len =  max([len(i) for i in df.columns])\n",
    "    \n",
    "    for user in df[df[\"name\"] == name].to_dict(orient=\"records\"):\n",
    "        for column, value in user.items():\n",
    "            print(str(column).ljust(columns_len, \" \"), end=\" \")\n",
    "            if type(value) in [str, int]:\n",
    "                print(value)\n",
    "            else:\n",
    "                print()\n",
    "                for item in value:\n",
    "                    print(\" \"*(columns_len+1) + \"phone \" + item[\"phone\"])\n",
    "                print()\n",
    "\n",
    "find_user([\"Faina Lee\", \"Robert Lee\"])"
   ]
  },
  {
   "attachments": {},
   "cell_type": "markdown",
   "metadata": {
    "datalore": {
     "hide_input_from_viewers": false,
     "hide_output_from_viewers": false,
     "node_id": "BRMsOEXtUKzXpGkmUMIFGn",
     "type": "MD"
    }
   },
   "source": [
    "6) Получить координаты всех отделений связи г. Пущино, имеющих отдельный почтовый индекс, с использованием API 'http://api.zippopotam.us' . (Индексы использыемые в г. Пущино нужно собрать из открытых источников)."
   ]
  },
  {
   "attachments": {},
   "cell_type": "markdown",
   "metadata": {
    "datalore": {
     "hide_input_from_viewers": false,
     "hide_output_from_viewers": false,
     "node_id": "1pUak7uEVH3nsQEpUEphbi",
     "type": "MD"
    }
   },
   "source": [
    "# Pickle"
   ]
  },
  {
   "attachments": {},
   "cell_type": "markdown",
   "metadata": {
    "datalore": {
     "hide_input_from_viewers": false,
     "hide_output_from_viewers": false,
     "node_id": "wBdj2zyNJMgjpqJOI56iNy",
     "type": "MD"
    }
   },
   "source": [
    "1) Сгенирорвать данные, аналогичные структуре ddres-book.json с 1000 записей. "
   ]
  },
  {
   "cell_type": "code",
   "execution_count": 2,
   "metadata": {},
   "outputs": [
    {
     "data": {
      "text/html": [
       "<div>\n",
       "<style scoped>\n",
       "    .dataframe tbody tr th:only-of-type {\n",
       "        vertical-align: middle;\n",
       "    }\n",
       "\n",
       "    .dataframe tbody tr th {\n",
       "        vertical-align: top;\n",
       "    }\n",
       "\n",
       "    .dataframe thead th {\n",
       "        text-align: right;\n",
       "    }\n",
       "</style>\n",
       "<table border=\"1\" class=\"dataframe\">\n",
       "  <thead>\n",
       "    <tr style=\"text-align: right;\">\n",
       "      <th></th>\n",
       "      <th>name</th>\n",
       "      <th>email</th>\n",
       "      <th>birthday</th>\n",
       "      <th>phones</th>\n",
       "    </tr>\n",
       "  </thead>\n",
       "  <tbody>\n",
       "    <tr>\n",
       "      <th>0</th>\n",
       "      <td>Name #0</td>\n",
       "      <td>random0@mail</td>\n",
       "      <td>01.01.1000</td>\n",
       "      <td>123-123-11</td>\n",
       "    </tr>\n",
       "    <tr>\n",
       "      <th>1</th>\n",
       "      <td>Name #1</td>\n",
       "      <td>random1@mail</td>\n",
       "      <td>01.01.1001</td>\n",
       "      <td>123-123-11</td>\n",
       "    </tr>\n",
       "    <tr>\n",
       "      <th>2</th>\n",
       "      <td>Name #2</td>\n",
       "      <td>random2@mail</td>\n",
       "      <td>01.01.1002</td>\n",
       "      <td>123-123-11</td>\n",
       "    </tr>\n",
       "    <tr>\n",
       "      <th>3</th>\n",
       "      <td>Name #3</td>\n",
       "      <td>random3@mail</td>\n",
       "      <td>01.01.1003</td>\n",
       "      <td>123-123-11</td>\n",
       "    </tr>\n",
       "    <tr>\n",
       "      <th>4</th>\n",
       "      <td>Name #4</td>\n",
       "      <td>random4@mail</td>\n",
       "      <td>01.01.1004</td>\n",
       "      <td>123-123-11</td>\n",
       "    </tr>\n",
       "    <tr>\n",
       "      <th>...</th>\n",
       "      <td>...</td>\n",
       "      <td>...</td>\n",
       "      <td>...</td>\n",
       "      <td>...</td>\n",
       "    </tr>\n",
       "    <tr>\n",
       "      <th>995</th>\n",
       "      <td>Name #995</td>\n",
       "      <td>random995@mail</td>\n",
       "      <td>01.01.1995</td>\n",
       "      <td>123-123-11</td>\n",
       "    </tr>\n",
       "    <tr>\n",
       "      <th>996</th>\n",
       "      <td>Name #996</td>\n",
       "      <td>random996@mail</td>\n",
       "      <td>01.01.1996</td>\n",
       "      <td>123-123-11</td>\n",
       "    </tr>\n",
       "    <tr>\n",
       "      <th>997</th>\n",
       "      <td>Name #997</td>\n",
       "      <td>random997@mail</td>\n",
       "      <td>01.01.1997</td>\n",
       "      <td>123-123-11</td>\n",
       "    </tr>\n",
       "    <tr>\n",
       "      <th>998</th>\n",
       "      <td>Name #998</td>\n",
       "      <td>random998@mail</td>\n",
       "      <td>01.01.1998</td>\n",
       "      <td>123-123-11</td>\n",
       "    </tr>\n",
       "    <tr>\n",
       "      <th>999</th>\n",
       "      <td>Name #999</td>\n",
       "      <td>random999@mail</td>\n",
       "      <td>01.01.1999</td>\n",
       "      <td>123-123-11</td>\n",
       "    </tr>\n",
       "  </tbody>\n",
       "</table>\n",
       "<p>1000 rows × 4 columns</p>\n",
       "</div>"
      ],
      "text/plain": [
       "          name           email    birthday      phones\n",
       "0      Name #0    random0@mail  01.01.1000  123-123-11\n",
       "1      Name #1    random1@mail  01.01.1001  123-123-11\n",
       "2      Name #2    random2@mail  01.01.1002  123-123-11\n",
       "3      Name #3    random3@mail  01.01.1003  123-123-11\n",
       "4      Name #4    random4@mail  01.01.1004  123-123-11\n",
       "..         ...             ...         ...         ...\n",
       "995  Name #995  random995@mail  01.01.1995  123-123-11\n",
       "996  Name #996  random996@mail  01.01.1996  123-123-11\n",
       "997  Name #997  random997@mail  01.01.1997  123-123-11\n",
       "998  Name #998  random998@mail  01.01.1998  123-123-11\n",
       "999  Name #999  random999@mail  01.01.1999  123-123-11\n",
       "\n",
       "[1000 rows x 4 columns]"
      ]
     },
     "execution_count": 2,
     "metadata": {},
     "output_type": "execute_result"
    }
   ],
   "source": [
    "import pandas as pd\n",
    "new_json_df = pd.DataFrame()\n",
    "\n",
    "new_json_df[\"name\"] = [f\"Name #{i}\" for i in range(1000)]\n",
    "new_json_df[\"email\"] = [f\"random{i}@mail\" for i in range(1000)]\n",
    "new_json_df[\"birthday\"] = [f\"01.01.{i+1000}\" for i in range(1000)]\n",
    "new_json_df[\"phones\"] = [f\"123-123-11\" for i in range(1000)]\n",
    "\n",
    "new_json_df"
   ]
  },
  {
   "cell_type": "markdown",
   "metadata": {},
   "source": [
    "2) Сохранить результаты з.1 в файл Pickle и в файл JSON. Сравнить объемы получившихся файлов."
   ]
  },
  {
   "cell_type": "code",
   "execution_count": 5,
   "metadata": {},
   "outputs": [],
   "source": [
    "import pickle\n",
    "\n",
    "pickle.dump(new_json_df, open(\"./pickle_dump\", \"wb\"))\n",
    "\n",
    "new_json_df.to_json(\"./json_dump.json\")"
   ]
  },
  {
   "cell_type": "markdown",
   "metadata": {},
   "source": [
    "3) Сравнить время записи / чтения данных в форматах Pickle и JSON из з.2"
   ]
  },
  {
   "cell_type": "code",
   "execution_count": 8,
   "metadata": {},
   "outputs": [
    {
     "data": {
      "text/plain": [
       "'Pickle 47619 байт'"
      ]
     },
     "metadata": {},
     "output_type": "display_data"
    },
    {
     "data": {
      "text/plain": [
       "'JSON 78384 байт'"
      ]
     },
     "metadata": {},
     "output_type": "display_data"
    }
   ],
   "source": [
    "import os\n",
    "\n",
    "display(f\"Pickle {os.stat('./pickle_dump').st_size} байт\")\n",
    "display(f\"JSON {os.stat('./json_dump.json').st_size} байт\")"
   ]
  },
  {
   "cell_type": "code",
   "execution_count": 10,
   "metadata": {},
   "outputs": [
    {
     "name": "stdout",
     "output_type": "stream",
     "text": [
      "0.00048118174076080324\n"
     ]
    }
   ],
   "source": [
    "import time\n",
    "import numpy as np\n",
    "\n",
    "pickle_times = []\n",
    "\n",
    "for i in range(10000):\n",
    "\n",
    "    time_start = time.time()\n",
    "\n",
    "    pickle.load(open(\"./pickle_dump\", \"rb\"))\n",
    "\n",
    "    total_time = time.time() - time_start\n",
    "\n",
    "    pickle_times.append(total_time)\n",
    "\n",
    "print(np.mean(pickle_times))\n",
    "\n",
    "pickle_times_mean = np.mean(pickle_times)"
   ]
  },
  {
   "cell_type": "code",
   "execution_count": 13,
   "metadata": {},
   "outputs": [
    {
     "name": "stdout",
     "output_type": "stream",
     "text": [
      "0.0028547005653381348\n",
      "Pickle в среднем быстрее JSON в: 5.932686807326744 раз\n"
     ]
    }
   ],
   "source": [
    "json_times = []\n",
    "\n",
    "for i in range(1000):\n",
    "\n",
    "    time_start = time.time()\n",
    "\n",
    "    pd.read_json(\"./addres-book.json\")\n",
    "\n",
    "    total_time = time.time() - time_start\n",
    "\n",
    "    json_times.append(total_time)\n",
    "\n",
    "print(np.mean(json_times))\n",
    "\n",
    "json_times_mean = np.mean(json_times)\n",
    "\n",
    "print(f\"Pickle в среднем быстрее JSON в: {json_times_mean / pickle_times_mean} раз\")"
   ]
  },
  {
   "cell_type": "markdown",
   "metadata": {},
   "source": [
    "4) Преорбазовать структуру данных из ddres-book.json так, чтобы для получения данных о конкретном человеке можно было эффективно использовать возможности модуля shelve."
   ]
  },
  {
   "cell_type": "code",
   "execution_count": 3,
   "metadata": {},
   "outputs": [
    {
     "data": {
      "text/html": [
       "<div>\n",
       "<style scoped>\n",
       "    .dataframe tbody tr th:only-of-type {\n",
       "        vertical-align: middle;\n",
       "    }\n",
       "\n",
       "    .dataframe tbody tr th {\n",
       "        vertical-align: top;\n",
       "    }\n",
       "\n",
       "    .dataframe thead th {\n",
       "        text-align: right;\n",
       "    }\n",
       "</style>\n",
       "<table border=\"1\" class=\"dataframe\">\n",
       "  <thead>\n",
       "    <tr style=\"text-align: right;\">\n",
       "      <th></th>\n",
       "      <th>name</th>\n",
       "      <th>email</th>\n",
       "      <th>birthday</th>\n",
       "      <th>phone_home</th>\n",
       "      <th>mobile_phone</th>\n",
       "    </tr>\n",
       "  </thead>\n",
       "  <tbody>\n",
       "    <tr>\n",
       "      <th>0</th>\n",
       "      <td>Faina Lee</td>\n",
       "      <td>faina@mail.ru</td>\n",
       "      <td>22.08.1994</td>\n",
       "      <td>232-19-55</td>\n",
       "      <td>111-19-55</td>\n",
       "    </tr>\n",
       "    <tr>\n",
       "      <th>1</th>\n",
       "      <td>Robert Lee</td>\n",
       "      <td>robert@mail.ru</td>\n",
       "      <td>22.08.1994</td>\n",
       "      <td>+7 (916) 232-19-55</td>\n",
       "      <td>+7 (916) 445-19-55</td>\n",
       "    </tr>\n",
       "  </tbody>\n",
       "</table>\n",
       "</div>"
      ],
      "text/plain": [
       "         name           email    birthday          phone_home  \\\n",
       "0   Faina Lee   faina@mail.ru  22.08.1994           232-19-55   \n",
       "1  Robert Lee  robert@mail.ru  22.08.1994  +7 (916) 232-19-55   \n",
       "\n",
       "         mobile_phone  \n",
       "0           111-19-55  \n",
       "1  +7 (916) 445-19-55  "
      ]
     },
     "execution_count": 3,
     "metadata": {},
     "output_type": "execute_result"
    }
   ],
   "source": [
    "json_df = pd.read_json(\"./addres-book.json\")\n",
    "\n",
    "[i for i in json_df[\"phones\"]]\n",
    "\n",
    "json_file = pd.read_json(\"./addres-book.json\")\n",
    "\n",
    "json_file[\"phone_home\"] = [[z[\"phone\"] for z in i]for i in json_df[\"phones\"]][0]\n",
    "json_file[\"mobile_phone\"] = [[z[\"phone\"] for z in i]for i in json_df[\"phones\"]][1]\n",
    "\n",
    "json_file = json_file.drop(\"phones\", axis=1)\n",
    "\n",
    "json_file"
   ]
  },
  {
   "cell_type": "code",
   "execution_count": 10,
   "metadata": {},
   "outputs": [
    {
     "data": {
      "text/html": [
       "<div>\n",
       "<style scoped>\n",
       "    .dataframe tbody tr th:only-of-type {\n",
       "        vertical-align: middle;\n",
       "    }\n",
       "\n",
       "    .dataframe tbody tr th {\n",
       "        vertical-align: top;\n",
       "    }\n",
       "\n",
       "    .dataframe thead th {\n",
       "        text-align: right;\n",
       "    }\n",
       "</style>\n",
       "<table border=\"1\" class=\"dataframe\">\n",
       "  <thead>\n",
       "    <tr style=\"text-align: right;\">\n",
       "      <th></th>\n",
       "      <th>name</th>\n",
       "      <th>email</th>\n",
       "      <th>birthday</th>\n",
       "      <th>phone_home</th>\n",
       "      <th>mobile_phone</th>\n",
       "    </tr>\n",
       "  </thead>\n",
       "  <tbody>\n",
       "    <tr>\n",
       "      <th>1</th>\n",
       "      <td>Robert Lee</td>\n",
       "      <td>robert@mail.ru</td>\n",
       "      <td>22.08.1994</td>\n",
       "      <td>+7 (916) 232-19-55</td>\n",
       "      <td>+7 (916) 445-19-55</td>\n",
       "    </tr>\n",
       "  </tbody>\n",
       "</table>\n",
       "</div>"
      ],
      "text/plain": [
       "         name           email    birthday          phone_home  \\\n",
       "1  Robert Lee  robert@mail.ru  22.08.1994  +7 (916) 232-19-55   \n",
       "\n",
       "         mobile_phone  \n",
       "1  +7 (916) 445-19-55  "
      ]
     },
     "metadata": {},
     "output_type": "display_data"
    }
   ],
   "source": [
    "import shelve\n",
    "\n",
    "shelve_file = shelve.open(\"./shelve_file.db\")\n",
    "\n",
    "for name in json_file[\"name\"]:\n",
    "    shelve_file[name] = json_file[json_file[\"name\"] == name]\n",
    "\n",
    "display(shelve_file[\"Robert Lee\"])\n",
    "\n",
    "shelve_file.close()"
   ]
  },
  {
   "cell_type": "code",
   "execution_count": 12,
   "metadata": {},
   "outputs": [
    {
     "data": {
      "text/html": [
       "<div>\n",
       "<style scoped>\n",
       "    .dataframe tbody tr th:only-of-type {\n",
       "        vertical-align: middle;\n",
       "    }\n",
       "\n",
       "    .dataframe tbody tr th {\n",
       "        vertical-align: top;\n",
       "    }\n",
       "\n",
       "    .dataframe thead th {\n",
       "        text-align: right;\n",
       "    }\n",
       "</style>\n",
       "<table border=\"1\" class=\"dataframe\">\n",
       "  <thead>\n",
       "    <tr style=\"text-align: right;\">\n",
       "      <th></th>\n",
       "      <th>name</th>\n",
       "      <th>email</th>\n",
       "      <th>birthday</th>\n",
       "      <th>phone_home</th>\n",
       "      <th>mobile_phone</th>\n",
       "    </tr>\n",
       "  </thead>\n",
       "  <tbody>\n",
       "    <tr>\n",
       "      <th>1</th>\n",
       "      <td>Robert Lee</td>\n",
       "      <td>robert@mail.ru</td>\n",
       "      <td>22.08.1994</td>\n",
       "      <td>+7 (916) 232-19-55</td>\n",
       "      <td>+7 (916) 445-19-55</td>\n",
       "    </tr>\n",
       "  </tbody>\n",
       "</table>\n",
       "</div>"
      ],
      "text/plain": [
       "         name           email    birthday          phone_home  \\\n",
       "1  Robert Lee  robert@mail.ru  22.08.1994  +7 (916) 232-19-55   \n",
       "\n",
       "         mobile_phone  \n",
       "1  +7 (916) 445-19-55  "
      ]
     },
     "metadata": {},
     "output_type": "display_data"
    }
   ],
   "source": [
    "shelve_file = shelve.open(\"./shelve_file.db\")\n",
    "display(shelve_file[\"Robert Lee\"])\n",
    "shelve_file.close()"
   ]
  },
  {
   "cell_type": "code",
   "execution_count": 18,
   "metadata": {},
   "outputs": [
    {
     "name": "stdout",
     "output_type": "stream",
     "text": [
      "('Faina Lee',         name          email    birthday phone_home mobile_phone\n",
      "0  Faina Lee  faina@mail.ru  22.08.1994  232-19-55    111-19-55)\n",
      "('Robert Lee',          name           email    birthday          phone_home  \\\n",
      "1  Robert Lee  robert@mail.ru  22.08.1994  +7 (916) 232-19-55   \n",
      "\n",
      "         mobile_phone  \n",
      "1  +7 (916) 445-19-55  )\n"
     ]
    }
   ],
   "source": [
    "with shelve.open(\"./shelve_file.db\") as shelve_file:\n",
    "    for item in shelve_file.items():\n",
    "        print(item)"
   ]
  },
  {
   "attachments": {},
   "cell_type": "markdown",
   "metadata": {
    "datalore": {
     "hide_input_from_viewers": false,
     "hide_output_from_viewers": false,
     "node_id": "mdBZhdNCfox5bg3khUzxST",
     "type": "MD"
    }
   },
   "source": [
    "# XML"
   ]
  },
  {
   "attachments": {},
   "cell_type": "markdown",
   "metadata": {
    "datalore": {
     "hide_input_from_viewers": false,
     "hide_output_from_viewers": false,
     "node_id": "kzfTHuNgoYODL5X9fnQPme",
     "type": "MD"
    }
   },
   "source": [
    "1) По данным из файла addres-book-q.xml сформировать список словарей с телефоноами каждого из людей. Вид результата: [{ФИО: ['телефон1', 'телефон2']}] и вывести его на экран и сохранить в json файле."
   ]
  },
  {
   "cell_type": "code",
   "execution_count": 11,
   "metadata": {},
   "outputs": [
    {
     "name": "stdout",
     "output_type": "stream",
     "text": [
      "address_book\n",
      "\t country {'name': 'algeria'}\n",
      "\t     address {'id': '1'}\n",
      "\t\t phone {'type': 'work'} + (213) 6150 4015\n",
      "\t\t phone {'type': 'personal'} + (213) 2173 5247\n",
      "\t country {'name': 'angola'}\n",
      "\t     address {'id': '2'}\n",
      "\t\t phone {'type': 'work'} + (244-2) 325 023\n",
      "\t\t phone {'type': 'personal'} + (244-2) 325 023\n",
      "\t     address {'id': '3'}\n",
      "\t\t phone {'type': 'personal'} + (244) 4232 2836\n",
      "\t     address {'id': '4'}\n",
      "\t\t phone {'type': 'work'} + (244-2) 325 023\n",
      "\t\t phone {'type': 'personal'} + (244-2) 325 023\n",
      "\t country {'name': 'argentina'}\n",
      "\t     address {'id': '5'}\n",
      "\t\t phone {'type': 'work'} + (54-11) 4784 1159\n",
      "\t country {'name': 'australia'}\n",
      "\t     address {'id': '6'}\n",
      "\t\t phone {'type': 'work'} + (61-2) 6274 9500\n",
      "\t\t phone {'type': 'personal'} + (61-2) 6274 9513\n",
      "\t     address {'id': '7'}\n",
      "\t\t phone {'type': 'work'} + (61-3) 9807 4702\n"
     ]
    },
    {
     "data": {
      "text/plain": [
       "[{'Aicha Barki': ['+ (213) 6150 4015', '+ (213) 2173 5247']},\n",
       " {'Francisco Domingos': ['+ (244-2) 325 023', '+ (244-2) 325 023']},\n",
       " {'Maria Luisa': ['+ (244) 4232 2836']},\n",
       " {'Abraao Chanda': ['+ (244-2) 325 023', '+ (244-2) 325 023']},\n",
       " {'Beatriz Busaniche': ['+ (54-11) 4784 1159']},\n",
       " {'Francesca Beddie': ['+ (61-2) 6274 9500', '+ (61-2) 6274 9513']},\n",
       " {'Graham John Smith': ['+ (61-3) 9807 4702']}]"
      ]
     },
     "metadata": {},
     "output_type": "display_data"
    }
   ],
   "source": [
    "import xml.etree.ElementTree as ET\n",
    "import json\n",
    "\n",
    "adb = []\n",
    "\n",
    "tree = ET.parse('addres-book-q.xml')\n",
    "root = tree.getroot()\n",
    "print(root.tag)\n",
    "for country in root:\n",
    "    print(\"\\t\",country.tag, country.attrib)\n",
    "    for address in country:\n",
    "        print(\"\\t    \",address.tag, address.attrib)\n",
    "        phones = address.find(\"phones\")\n",
    "        for phone in phones:\n",
    "            print(\"\\t\\t\",phone.tag, phone.attrib, phone.text)\n",
    "        adb.append({address.find(\"name\").text:[phone.text for phone in phones]})\n",
    "        \n",
    "with open('data.json', 'w') as f:\n",
    "    json.dump(adb, f)\n",
    "\n",
    "display(adb)\n"
   ]
  },
  {
   "cell_type": "markdown",
   "metadata": {},
   "source": [
    "2) По данным из файла addres-book-q.xml сформировать список (в виде списка в Python) адресов электронной почты всех женщин и вывести его на экран"
   ]
  },
  {
   "cell_type": "code",
   "execution_count": 14,
   "metadata": {},
   "outputs": [
    {
     "data": {
      "text/plain": [
       "['luisagrilo@ebonet.net', 'f.beddie@ala.asn.au']"
      ]
     },
     "execution_count": 14,
     "metadata": {},
     "output_type": "execute_result"
    }
   ],
   "source": [
    "mails = []\n",
    "\n",
    "tree = ET.parse('addres-book-q.xml')\n",
    "root = tree.getroot()\n",
    "for country in root:\n",
    "    for address in country:\n",
    "        gender = address.find(\"gender\").text\n",
    "        if gender == \"f\":\n",
    "            email = address.find(\"email\")\n",
    "            mails.append(email.text)\n",
    "mails"
   ]
  },
  {
   "cell_type": "markdown",
   "metadata": {},
   "source": [
    "3) По данным из файла addres-book-q.xml сформировать список (в виде списка в Python) всех участников с рабочими телефонами и вывести его на экран"
   ]
  },
  {
   "cell_type": "code",
   "execution_count": 23,
   "metadata": {},
   "outputs": [
    {
     "name": "stdout",
     "output_type": "stream",
     "text": [
      "Aicha Barki\n",
      "Francisco Domingos\n",
      "Abraao Chanda\n",
      "Beatriz Busaniche\n",
      "Francesca Beddie\n",
      "Graham John Smith\n"
     ]
    }
   ],
   "source": [
    "idList = []\n",
    "\n",
    "tree = ET.parse('addres-book-q.xml')\n",
    "root = tree.getroot()\n",
    "for country in root:\n",
    "    for address in country:\n",
    "        phones = address.find(\"phones\")\n",
    "        if \"work\" in [phone.get(\"type\") for phone in phones]:\n",
    "            idList.append(address.get(\"id\"))\n",
    "\n",
    "for id in idList:\n",
    "    print(root.find(f\".//*[@id='{id}']\").find(\"name\").text)"
   ]
  },
  {
   "cell_type": "markdown",
   "metadata": {},
   "source": [
    "4) По данным из файла addres-book-q.xml сформировать словарь вида {название страны: количество участников} и вывести его на экран"
   ]
  },
  {
   "cell_type": "code",
   "execution_count": 25,
   "metadata": {},
   "outputs": [
    {
     "data": {
      "text/plain": [
       "{'algeria': 1, 'angola': 3, 'argentina': 1, 'australia': 2}"
      ]
     },
     "execution_count": 25,
     "metadata": {},
     "output_type": "execute_result"
    }
   ],
   "source": [
    "countryUsers = dict()\n",
    "\n",
    "tree = ET.parse('addres-book-q.xml')\n",
    "root = tree.getroot()\n",
    "for country in root:\n",
    "    countryUsers[country.get(\"name\")] = len(country)\n",
    "\n",
    "countryUsers"
   ]
  },
  {
   "attachments": {},
   "cell_type": "markdown",
   "metadata": {
    "datalore": {
     "hide_input_from_viewers": false,
     "hide_output_from_viewers": false,
     "node_id": "vMO1u47OXPasGWfs1M1xIq",
     "type": "MD"
    }
   },
   "source": [
    "5) Превратить информацию из addres-book.xml в json файл с содержимым вида: [{'birthday': '11.07.1984', 'email': 'bruce@gmail.com', 'name': 'Bruce Lee'},\n",
    " {'birthday': '22.03.1985', 'email': 'alee@yandex.ru', 'name': 'Alice Lee'}]"
   ]
  },
  {
   "cell_type": "code",
   "execution_count": 34,
   "metadata": {},
   "outputs": [
    {
     "data": {
      "text/plain": [
       "[{'id': 1,\n",
       "  'name': 'Bruce Lee',\n",
       "  'email': 'bruce@gmail.com',\n",
       "  'birthday': '11.07.1984'},\n",
       " {'id': 2,\n",
       "  'name': 'Alice Lee',\n",
       "  'email': 'alee@yandex.ru',\n",
       "  'birthday': '22.03.1985'}]"
      ]
     },
     "metadata": {},
     "output_type": "display_data"
    }
   ],
   "source": [
    "import pandas as pd\n",
    "\n",
    "df = pd.read_xml(\"addres-book.xml\", )\n",
    "df.drop(columns=[\"phones\",\"work\"], inplace=True)\n",
    "display(dictdf:=df.to_dict(orient=\"records\"))\n",
    "\n",
    "with open('data_2.json', 'w') as f:\n",
    "    json.dump(dictdf, f)"
   ]
  }
 ],
 "metadata": {
  "datalore": {
   "base_environment": "default",
   "computation_mode": "JUPYTER",
   "package_manager": "pip",
   "packages": [],
   "version": 1
  },
  "kernelspec": {
   "display_name": "Python 3.9.12 ('base')",
   "language": "python",
   "name": "python3"
  },
  "language_info": {
   "codemirror_mode": {
    "name": "ipython",
    "version": 3
   },
   "file_extension": ".py",
   "mimetype": "text/x-python",
   "name": "python",
   "nbconvert_exporter": "python",
   "pygments_lexer": "ipython3",
   "version": "3.9.12"
  },
  "vscode": {
   "interpreter": {
    "hash": "1419bd21a39e0a5e4c0c6c6fd27c577ec3fc8576f5926a12b14acbe8df8d9951"
   }
  }
 },
 "nbformat": 4,
 "nbformat_minor": 4
}
