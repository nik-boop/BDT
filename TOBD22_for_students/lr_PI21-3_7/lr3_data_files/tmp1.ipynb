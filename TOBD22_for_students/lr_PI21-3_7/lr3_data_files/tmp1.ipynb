{
 "cells": [
  {
   "cell_type": "code",
   "execution_count": 8,
   "id": "31197385",
   "metadata": {},
   "outputs": [],
   "source": [
    "s1 = 'Привет мир! АБВЭЮЯ. абвэюя.'\n",
    "# s1='АБВПабвп'"
   ]
  },
  {
   "cell_type": "code",
   "execution_count": 9,
   "id": "084f4f2b",
   "metadata": {},
   "outputs": [
    {
     "data": {
      "text/plain": [
       "b'\\xd0\\x9f\\xd1\\x80\\xd0\\xb8\\xd0\\xb2\\xd0\\xb5\\xd1\\x82 \\xd0\\xbc\\xd0\\xb8\\xd1\\x80! \\xd0\\x90\\xd0\\x91\\xd0\\x92\\xd0\\xad\\xd0\\xae\\xd0\\xaf. \\xd0\\xb0\\xd0\\xb1\\xd0\\xb2\\xd1\\x8d\\xd1\\x8e\\xd1\\x8f.'"
      ]
     },
     "execution_count": 9,
     "metadata": {},
     "output_type": "execute_result"
    }
   ],
   "source": [
    "bytes(s1, 'utf-8')"
   ]
  },
  {
   "cell_type": "code",
   "execution_count": 10,
   "id": "e0273925",
   "metadata": {},
   "outputs": [
    {
     "data": {
      "text/plain": [
       "b'\\xcf\\xf0\\xe8\\xe2\\xe5\\xf2 \\xec\\xe8\\xf0! \\xc0\\xc1\\xc2\\xdd\\xde\\xdf. \\xe0\\xe1\\xe2\\xfd\\xfe\\xff.'"
      ]
     },
     "execution_count": 10,
     "metadata": {},
     "output_type": "execute_result"
    }
   ],
   "source": [
    "bytes(s1, 'cp1251')"
   ]
  },
  {
   "cell_type": "code",
   "execution_count": null,
   "id": "36ce1f27",
   "metadata": {},
   "outputs": [],
   "source": []
  }
 ],
 "metadata": {
  "kernelspec": {
   "display_name": "Python 3 (ipykernel)",
   "language": "python",
   "name": "python3"
  },
  "language_info": {
   "codemirror_mode": {
    "name": "ipython",
    "version": 3
   },
   "file_extension": ".py",
   "mimetype": "text/x-python",
   "name": "python",
   "nbconvert_exporter": "python",
   "pygments_lexer": "ipython3",
   "version": "3.9.12"
  }
 },
 "nbformat": 4,
 "nbformat_minor": 5
}
