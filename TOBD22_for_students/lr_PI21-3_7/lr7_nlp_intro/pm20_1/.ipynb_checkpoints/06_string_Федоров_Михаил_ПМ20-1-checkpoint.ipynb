{
 "cells": [
  {
   "cell_type": "markdown",
   "metadata": {},
   "source": [
    "# Работа со строковыми значениями"
   ]
  },
  {
   "cell_type": "markdown",
   "metadata": {},
   "source": [
    "__Автор задач: Блохин Н.В. (NVBlokhin@fa.ru)__\n",
    "\n",
    "Материалы:\n",
    "* Макрушин С.В. Лекция \"Работа со строковыми значениям\"\n",
    "* https://pyformat.info/\n",
    "* https://docs.python.org/3/library/re.html\n",
    "    * https://docs.python.org/3/library/re.html#flags\n",
    "    * https://docs.python.org/3/library/re.html#functions\n",
    "* https://pythonru.com/primery/primery-primeneniya-regulyarnyh-vyrazheniy-v-python\n",
    "* https://kanoki.org/2019/11/12/how-to-use-regex-in-pandas/\n",
    "* https://realpython.com/nltk-nlp-python/"
   ]
  },
  {
   "cell_type": "markdown",
   "metadata": {},
   "source": [
    "## Задачи для совместного разбора"
   ]
  },
  {
   "cell_type": "markdown",
   "metadata": {},
   "source": [
    "1. Вывести на экран данные из словаря `obj` построчно в виде `k = v`, задав формат таким образом, чтобы знак равенства оказался на одной и той же позиции во всех строках. Строковые литералы обернуть в кавычки."
   ]
  },
  {
   "cell_type": "code",
   "execution_count": 1,
   "metadata": {},
   "outputs": [],
   "source": [
    "obj = {\n",
    "    \"home_page\": \"https://github.com/pypa/sampleproject\",\n",
    "    \"keywords\": \"sample setuptools development\",\n",
    "    \"license\": \"MIT\",\n",
    "}"
   ]
  },
  {
   "cell_type": "code",
   "execution_count": 2,
   "metadata": {},
   "outputs": [
    {
     "name": "stdout",
     "output_type": "stream",
     "text": [
      "home_page  = \"https://github.com/pypa/sampleproject\"\n",
      "keywords   = \"sample setuptools development\"\n",
      "license    = \"MIT\"\n"
     ]
    }
   ],
   "source": [
    "for k, v in obj.items():\n",
    "    print(f'{k:10} = \"{v}\"')"
   ]
  },
  {
   "cell_type": "markdown",
   "metadata": {},
   "source": [
    "2. Написать регулярное выражение,которое позволит найти номера групп студентов."
   ]
  },
  {
   "cell_type": "code",
   "execution_count": 3,
   "metadata": {},
   "outputs": [
    {
     "data": {
      "text/plain": [
       "0    Евгения гр.ПМ19-1\n",
       "1         Илья пм 20-4\n",
       "2            Анна 20-3\n",
       "dtype: object"
      ]
     },
     "execution_count": 3,
     "metadata": {},
     "output_type": "execute_result"
    }
   ],
   "source": [
    "import pandas as pd\n",
    "obj = pd.Series([\"Евгения гр.ПМ19-1\", \"Илья пм 20-4\", \"Анна 20-3\"])\n",
    "obj"
   ]
  },
  {
   "cell_type": "code",
   "execution_count": 4,
   "metadata": {},
   "outputs": [
    {
     "name": "stdout",
     "output_type": "stream",
     "text": [
      "item='Евгения гр.ПМ19-1' ['ПМ19-1']\n",
      "item='Илья пм 20-4' ['пм 20-4']\n",
      "item='Анна 20-3' [' 20-3']\n"
     ]
    }
   ],
   "source": [
    "import re\n",
    "patt = re.compile(r\"(?:ПМ)?\\s?\\d+-\\d\",re.I)\n",
    "for item in obj:\n",
    "    print(f\"{item=}\", patt.findall(item))"
   ]
  },
  {
   "cell_type": "code",
   "execution_count": 5,
   "metadata": {},
   "outputs": [
    {
     "data": {
      "text/plain": [
       "0    1\n",
       "1    1\n",
       "2    1\n",
       "dtype: int64"
      ]
     },
     "execution_count": 5,
     "metadata": {},
     "output_type": "execute_result"
    }
   ],
   "source": [
    "obj.str.findall(patt).map(len)"
   ]
  },
  {
   "cell_type": "markdown",
   "metadata": {},
   "source": [
    "3. Разбейте текст формулировки задачи 2 на слова."
   ]
  },
  {
   "cell_type": "markdown",
   "metadata": {},
   "source": [
    "## Лабораторная работа 6"
   ]
  },
  {
   "cell_type": "markdown",
   "metadata": {},
   "source": [
    "### Форматирование строк"
   ]
  },
  {
   "cell_type": "markdown",
   "metadata": {},
   "source": [
    "1\\. Загрузите данные из файла `recipes_sample.csv` (__ЛР2__) в виде `pd.DataFrame` `recipes` При помощи форматирования строк выведите информацию об id рецепта и времени выполнения 5 случайных рецептов в виде таблицы следующего вида:\n",
    "\n",
    "    \n",
    "    |      id      |  minutes  |\n",
    "    |--------------------------|\n",
    "    |    61178     |    65     |\n",
    "    |    202352    |    80     |\n",
    "    |    364322    |    150    |\n",
    "    |    26177     |    20     |\n",
    "    |    224785    |    35     |\n",
    "    \n",
    "Обратите внимание, что ширина столбцов заранее неизвестна и должна рассчитываться динамически, в зависимости от тех данных, которые были выбраны. "
   ]
  },
  {
   "cell_type": "code",
   "execution_count": 6,
   "metadata": {},
   "outputs": [
    {
     "name": "stdout",
     "output_type": "stream",
     "text": [
      "|   id    | minutes |\n",
      "|-------------------|\n",
      "| 24990   | 720     |\n",
      "| 339984  | 310     |\n",
      "| 490274  | 60      |\n",
      "| 102226  | 255     |\n",
      "| 86868   | 230     |\n"
     ]
    }
   ],
   "source": [
    "recipes = pd.read_csv('recipes_sample.csv')\n",
    "rnd_5 = recipes[['id','minutes']].sample(5)\n",
    "ln = len(str(rnd_5.id.max()))\n",
    "l1 = len(rnd_5.columns[1])\n",
    "if l1 > ln:\n",
    "    ln = l1\n",
    "#print(f\"|{recipes.id.name:5}|{recipes.minutes.name}|\")\n",
    "#for id, min in range(5):\n",
    "\n",
    "print(f'| {rnd_5.columns[0]: ^{ln}} | {rnd_5.columns[1]: ^{ln}} |')\n",
    "print(f'|-{\"-\":-^{ln}}---{\"-\":-^{ln}}-|')\n",
    "\n",
    "for i in range(5):\n",
    "    print(f'| {rnd_5.id.iloc[i]: <{ln}} | {rnd_5.minutes.iloc[i]: <{ln}} |')"
   ]
  },
  {
   "cell_type": "markdown",
   "metadata": {},
   "source": [
    "2\\. Напишите функцию `show_info`, которая по данным о рецепте создает строку (в смысле объекта python) с описанием следующего вида:\n",
    "\n",
    "```\n",
    "\"Название Из Нескольких Слов\"\n",
    "\n",
    "1. Шаг 1.\n",
    "2. Шаг 2.\n",
    "----------\n",
    "Автор: contributor_id\n",
    "Среднее время приготовления: minutes минут\n",
    "```\n",
    "\n",
    "    \n",
    "Данные для создания строки получите из файлов `recipes_sample.csv` (__ЛР2__) и `steps_sample.xml` (__ЛР3__). \n",
    "Вызовите данную функцию для рецепта с id `170895` и выведите (через `print`) полученную строку на экран."
   ]
  },
  {
   "cell_type": "code",
   "execution_count": 7,
   "metadata": {},
   "outputs": [
    {
     "name": "stderr",
     "output_type": "stream",
     "text": [
      "c:\\Python310\\lib\\site-packages\\bs4\\builder\\__init__.py:545: XMLParsedAsHTMLWarning: It looks like you're parsing an XML document using an HTML parser. If this really is an HTML document (maybe it's XHTML?), you can ignore or filter this warning. If it's XML, you should know that using an XML parser will be more reliable. To parse this document as XML, make sure you have the lxml package installed, and pass the keyword argument `features=\"xml\"` into the BeautifulSoup constructor.\n",
      "  warnings.warn(\n"
     ]
    }
   ],
   "source": [
    "from bs4 import BeautifulSoup\n",
    "\n",
    "with open(\"steps_sample.xml\", \n",
    "          \"r\", \n",
    "          encoding=\"utf-8\") as fp:\n",
    "    xml = BeautifulSoup(fp)\n",
    "rcp = xml.find_all('recipe')\n",
    "steps_sample = {recipe.id.text: [step.text for step in recipe.steps if step!='\\n'] for recipe in rcp}\n"
   ]
  },
  {
   "cell_type": "code",
   "execution_count": 8,
   "metadata": {},
   "outputs": [],
   "source": [
    "def show_info(name, steps, minutes, author_id):\n",
    "    string = f'\"{name.title()}\"\\n\\n'\n",
    "    for i in range(len(steps)):\n",
    "        stp = f'{i+1}. {steps[i].capitalize()}\\n'\n",
    "        string += stp\n",
    "    string += f'{\"-\":->10}\\n'\n",
    "    string += f'Автор: {author_id}\\n'\n",
    "    string += f'Среднее время приготовления: {minutes} минут\\n'\n",
    "    return string\n"
   ]
  },
  {
   "cell_type": "code",
   "execution_count": 9,
   "metadata": {},
   "outputs": [],
   "source": [
    "assert (\n",
    "    show_info(\n",
    "        name=\"george s at the cove black bean soup\",\n",
    "        steps=[\n",
    "            \"clean the leeks and discard the dark green portions\",\n",
    "            \"cut the leeks lengthwise then into one-inch pieces\",\n",
    "            \"melt the butter in a medium skillet , med\",\n",
    "        ],\n",
    "        minutes=90,\n",
    "        author_id=35193,\n",
    "    )\n",
    "    == '\"George S At The Cove Black Bean Soup\"\\n\\n1. Clean the leeks and discard the dark green portions\\n2. Cut the leeks lengthwise then into one-inch pieces\\n3. Melt the butter in a medium skillet , med\\n----------\\nАвтор: 35193\\nСреднее время приготовления: 90 минут\\n'\n",
    ")"
   ]
  },
  {
   "cell_type": "code",
   "execution_count": 10,
   "metadata": {},
   "outputs": [
    {
     "name": "stdout",
     "output_type": "stream",
     "text": [
      "\"Leeks And Parsnips  Sauteed Or Creamed\"\n",
      "\n",
      "1. Clean the leeks and discard the dark green portions\n",
      "2. Cut the leeks lengthwise then into one-inch pieces\n",
      "3. Melt the butter in a medium skillet , med\n",
      "4. Heat\n",
      "5. Add the garlic and fry 'til fragrant\n",
      "6. Add leeks and fry until the leeks are tender , about 6-minutes\n",
      "7. Meanwhile , peel and chunk the parsnips into one-inch pieces\n",
      "8. Place in a steaming basket and steam 'til they are as tender as you prefer\n",
      "9. I like them fork-tender\n",
      "10. Drain parsnips and add to the skillet with the leeks\n",
      "11. Add salt and pepper\n",
      "12. Gently sautee together for 5-minutes\n",
      "13. At this point you can serve it , or continue on and cream it:\n",
      "14. In a jar with a screw top , add the half-n-half and arrowroot\n",
      "15. Shake 'til blended\n",
      "16. Turn heat to low under the leeks and parsnips\n",
      "17. Pour in the arrowroot mixture , stirring gently as you pour\n",
      "18. If too thick , gradually add the water\n",
      "19. Let simmer for a couple of minutes\n",
      "20. Taste to adjust seasoning , probably an additional 1 / 2 teaspoon salt\n",
      "21. Serve warm\n",
      "----------\n",
      "Автор: 8377\n",
      "Среднее время приготовления: 27 минут\n",
      "\n"
     ]
    }
   ],
   "source": [
    "def get_info(id):\n",
    "    row = recipes.iloc[recipes[recipes.id == id].index[0]]\n",
    "\n",
    "    name = row['name']\n",
    "    steps = steps_sample[str(id)]\n",
    "    minutes = row['minutes']\n",
    "    author_id = row['contributor_id']\n",
    "    return name, steps, minutes, author_id\n",
    "\n",
    "info = get_info(170895)\n",
    "\n",
    "print(show_info(info[0],info[1],info[2],info[3]))"
   ]
  },
  {
   "cell_type": "markdown",
   "metadata": {},
   "source": [
    "## Работа с регулярными выражениями"
   ]
  },
  {
   "cell_type": "markdown",
   "metadata": {},
   "source": [
    "3\\. Напишите регулярное выражение, которое ищет следующий паттерн в строке: число (1 цифра или более), затем пробел, затем слова: hour или hours или minute или minutes. Произведите поиск по данному регулярному выражению в каждом шаге рецепта с id 25082. Выведите на экран все непустые результаты, найденные по данному шаблону."
   ]
  },
  {
   "cell_type": "code",
   "execution_count": 11,
   "metadata": {},
   "outputs": [
    {
     "name": "stdout",
     "output_type": "stream",
     "text": [
      "turn out onto a lightly floured board and knead for about 20 minutes , adding flour as nescessary to keep the dough from sticking to the board\n",
      " ['20 minutes']\n",
      "when it has been sufficiently kneaded , cover it with a damp cloth for about 10 minutes and wash and grease the bowl lightly\n",
      " ['10 minutes']\n",
      "let the dough rise until it springs back when you stick your finger in it , and it is about twice the size as it was before (this takes about 2 hours\n",
      " ['2 hours']\n",
      "when the dough has risen twice , deflate it again and cover it with the damp cloth again for about 10 minutes , then divide it into and shape it into loaves , buns , etc\n",
      " ['10 minutes']\n",
      "bake at 400 for 20 minutes , and then turn the oven down to 350 and bake for 20-30 minutes longer , until the loaf is a lovely brown and sounds hollow when you thump it on the bottom\n",
      " ['20 minutes', '30 minutes']\n"
     ]
    }
   ],
   "source": [
    "p = re.compile(r\"[1-9][0-9]?\\s(?:\\bhours?\\b|\\bminutes?\\b)\")\n",
    "\n",
    "for item in steps_sample['25082']:\n",
    "    if p.findall(item) != []:\n",
    "        print(f'{item}\\n', p.findall(item))\n",
    "#steps_sample['25082']\n"
   ]
  },
  {
   "cell_type": "markdown",
   "metadata": {},
   "source": [
    "4\\. Напишите регулярное выражение, которое ищет шаблон вида \"this..., but\" _в начале строки_ . Между словом \"this\" и частью \", but\" может находиться произвольное число букв, цифр, знаков подчеркивания и пробелов. Никаких других символов вместо многоточия быть не может. Пробел между запятой и словом \"but\" может присутствовать или отсутствовать.\n",
    "\n",
    "Используя строковые методы `pd.Series`, выясните, для каких рецептов данный шаблон содержится в тексте описания. Выведите на экран количество таких рецептов и 3 примера подходящих описаний (текст описания должен быть виден на экране полностью)."
   ]
  },
  {
   "cell_type": "code",
   "execution_count": 12,
   "metadata": {},
   "outputs": [
    {
     "name": "stdout",
     "output_type": "stream",
     "text": [
      "Кол-во подходящих описаний - 142\n"
     ]
    },
    {
     "data": {
      "text/plain": [
       "['this apple cake is super easy and quick to make, but will fool your guests into believing your worked really hard to serve them something extra special. \\r\\nthe dough is soft and fluffy at the same time and the taste perfect for autumn.',\n",
       " \"recipe courtesy of tyler florence of foodtv.\\r\\nthis may look a little time consuming, but it really isn't. great side dish for any steak dinner.\",\n",
       " 'this is a concoction for salmon that i came up with when i wanted salmon, but something different.  the outcome turned out great, even a friend that hates salmon described it as \"the bomb\". . . he\\'s such a dork. anyway, the combination of flavors is fresh and bright, delicious served with rice and steamed veggies.']"
      ]
     },
     "execution_count": 12,
     "metadata": {},
     "output_type": "execute_result"
    }
   ],
   "source": [
    "from random import sample\n",
    "p1 = re.compile(r'^\\bthis\\b[\\s\\d\\w]+,\\s?\\bbut\\b', re.M)\n",
    "rec = []\n",
    "for item in recipes.description.dropna():\n",
    "    if p1.findall(item) != []:\n",
    "        rec.append(item)\n",
    "print(f'Кол-во подходящих описаний - {len(rec)}')\n",
    "sample(rec,3)"
   ]
  },
  {
   "cell_type": "markdown",
   "metadata": {},
   "source": [
    "5\\. В текстах шагов рецептов обыкновенные дроби имеют вид \"a / b\". Используя регулярные выражения, уберите в тексте шагов рецепта с id 72367 пробелы до и после символа дроби. Выведите на экран шаги этого рецепта после их изменения."
   ]
  },
  {
   "cell_type": "code",
   "execution_count": 13,
   "metadata": {},
   "outputs": [
    {
     "name": "stdout",
     "output_type": "stream",
     "text": [
      "mix butter , flour , 1/3 c\n",
      "sugar and 1-1/4 t\n",
      "vanilla\n",
      "press into greased 9\" springform pan\n",
      "mix cream cheese , 1/4 c\n",
      "sugar , eggs and 1/2 t\n",
      "vanilla beating until fluffy\n",
      "pour over dough\n",
      "combine apples , 1/3 c\n",
      "sugar and cinnamon\n",
      "arrange on top of cream cheese mixture and sprinkle with almonds\n",
      "bake at 350 for 45-55 minutes , or until tester comes out clean\n"
     ]
    }
   ],
   "source": [
    "p3 = re.compile(r\" / \")\n",
    "for item in steps_sample['72367']:\n",
    "    print(p3.sub('/', item))"
   ]
  },
  {
   "cell_type": "markdown",
   "metadata": {},
   "source": [
    "### Сегментация текста"
   ]
  },
  {
   "cell_type": "markdown",
   "metadata": {},
   "source": [
    "6\\. Разбейте тексты шагов рецептов на слова при помощи пакета `nltk`. Посчитайте и выведите на экран кол-во уникальных слов среди всех рецептов. Словом называется любая последовательность алфавитных символов (для проверки можно воспользоваться `str.isalpha`). При подсчете количества уникальных слов не учитывайте регистр."
   ]
  },
  {
   "cell_type": "code",
   "execution_count": 14,
   "metadata": {},
   "outputs": [
    {
     "name": "stdout",
     "output_type": "stream",
     "text": [
      "Кол-во уникальных слов -  15139\n"
     ]
    }
   ],
   "source": [
    "from nltk.tokenize import RegexpTokenizer\n",
    "tokenizer = RegexpTokenizer(r'[a-zA-Z]+')\n",
    "uniq = []\n",
    "#steps_sample['44123']\n",
    "\n",
    "for id in steps_sample:\n",
    "    for step in steps_sample[id]:\n",
    "        row = tokenizer.tokenize(step)\n",
    "        for word in row:\n",
    "            uniq.append(word)\n",
    "\n",
    "print('Кол-во уникальных слов - ', len(set(uniq)))"
   ]
  },
  {
   "cell_type": "markdown",
   "metadata": {},
   "source": [
    "7\\. Разбейте описания рецептов из `recipes` на предложения при помощи пакета `nltk`. Найдите 5 самых длинных описаний (по количеству _предложений_) рецептов в датасете и выведите строки фрейма, соответствующие этим рецептами, в порядке убывания длины."
   ]
  },
  {
   "cell_type": "code",
   "execution_count": 15,
   "metadata": {},
   "outputs": [
    {
     "name": "stderr",
     "output_type": "stream",
     "text": [
      "C:\\Users\\Mike\\AppData\\Local\\Temp\\ipykernel_8812\\2031150838.py:10: SettingWithCopyWarning: \n",
      "A value is trying to be set on a copy of a slice from a DataFrame.\n",
      "Try using .loc[row_indexer,col_indexer] = value instead\n",
      "\n",
      "See the caveats in the documentation: https://pandas.pydata.org/pandas-docs/stable/user_guide/indexing.html#returning-a-view-versus-a-copy\n",
      "  desc.loc[:, \"len\"] = lenn\n"
     ]
    },
    {
     "data": {
      "text/html": [
       "<div>\n",
       "<style scoped>\n",
       "    .dataframe tbody tr th:only-of-type {\n",
       "        vertical-align: middle;\n",
       "    }\n",
       "\n",
       "    .dataframe tbody tr th {\n",
       "        vertical-align: top;\n",
       "    }\n",
       "\n",
       "    .dataframe thead th {\n",
       "        text-align: right;\n",
       "    }\n",
       "</style>\n",
       "<table border=\"1\" class=\"dataframe\">\n",
       "  <thead>\n",
       "    <tr style=\"text-align: right;\">\n",
       "      <th></th>\n",
       "      <th>name</th>\n",
       "      <th>id</th>\n",
       "      <th>minutes</th>\n",
       "      <th>contributor_id</th>\n",
       "      <th>submitted</th>\n",
       "      <th>n_steps</th>\n",
       "      <th>description</th>\n",
       "      <th>n_ingredients</th>\n",
       "      <th>len</th>\n",
       "    </tr>\n",
       "  </thead>\n",
       "  <tbody>\n",
       "    <tr>\n",
       "      <th>18408</th>\n",
       "      <td>my favorite buttercream icing for decorating</td>\n",
       "      <td>334113</td>\n",
       "      <td>30</td>\n",
       "      <td>681465</td>\n",
       "      <td>2008-10-30</td>\n",
       "      <td>12.0</td>\n",
       "      <td>this wonderful icing is used for icing cakes a...</td>\n",
       "      <td>NaN</td>\n",
       "      <td>76</td>\n",
       "    </tr>\n",
       "    <tr>\n",
       "      <th>481</th>\n",
       "      <td>alligator claws  avocado fritters  with chipot...</td>\n",
       "      <td>287008</td>\n",
       "      <td>45</td>\n",
       "      <td>765354</td>\n",
       "      <td>2008-02-19</td>\n",
       "      <td>NaN</td>\n",
       "      <td>a translucent golden-brown crust allows the gr...</td>\n",
       "      <td>9.0</td>\n",
       "      <td>27</td>\n",
       "    </tr>\n",
       "    <tr>\n",
       "      <th>22566</th>\n",
       "      <td>rich barley mushroom soup</td>\n",
       "      <td>328708</td>\n",
       "      <td>60</td>\n",
       "      <td>221776</td>\n",
       "      <td>2008-10-03</td>\n",
       "      <td>NaN</td>\n",
       "      <td>this is one of the best soups i've ever made a...</td>\n",
       "      <td>10.0</td>\n",
       "      <td>24</td>\n",
       "    </tr>\n",
       "    <tr>\n",
       "      <th>16296</th>\n",
       "      <td>little bunny foo foo cake  carrot cake  with c...</td>\n",
       "      <td>316000</td>\n",
       "      <td>68</td>\n",
       "      <td>689540</td>\n",
       "      <td>2008-07-27</td>\n",
       "      <td>14.0</td>\n",
       "      <td>the first time i made this cake i grated a mil...</td>\n",
       "      <td>NaN</td>\n",
       "      <td>23</td>\n",
       "    </tr>\n",
       "    <tr>\n",
       "      <th>6779</th>\n",
       "      <td>chocolate tea</td>\n",
       "      <td>205348</td>\n",
       "      <td>6</td>\n",
       "      <td>428824</td>\n",
       "      <td>2007-01-14</td>\n",
       "      <td>NaN</td>\n",
       "      <td>i wrote this because there are an astounding l...</td>\n",
       "      <td>NaN</td>\n",
       "      <td>23</td>\n",
       "    </tr>\n",
       "    <tr>\n",
       "      <th>...</th>\n",
       "      <td>...</td>\n",
       "      <td>...</td>\n",
       "      <td>...</td>\n",
       "      <td>...</td>\n",
       "      <td>...</td>\n",
       "      <td>...</td>\n",
       "      <td>...</td>\n",
       "      <td>...</td>\n",
       "      <td>...</td>\n",
       "    </tr>\n",
       "    <tr>\n",
       "      <th>9049</th>\n",
       "      <td>cuscus bil khodar  vegetable couscous</td>\n",
       "      <td>350641</td>\n",
       "      <td>65</td>\n",
       "      <td>610488</td>\n",
       "      <td>2009-01-20</td>\n",
       "      <td>18.0</td>\n",
       "      <td>another of the restaurant al-fassia of marrake...</td>\n",
       "      <td>NaN</td>\n",
       "      <td>1</td>\n",
       "    </tr>\n",
       "    <tr>\n",
       "      <th>23615</th>\n",
       "      <td>savory vegetable mini quiches</td>\n",
       "      <td>334208</td>\n",
       "      <td>30</td>\n",
       "      <td>166642</td>\n",
       "      <td>2008-10-31</td>\n",
       "      <td>15.0</td>\n",
       "      <td>these bite-size tarts are from pampered chef.</td>\n",
       "      <td>NaN</td>\n",
       "      <td>1</td>\n",
       "    </tr>\n",
       "    <tr>\n",
       "      <th>4367</th>\n",
       "      <td>cafe vienna coffee mix</td>\n",
       "      <td>13216</td>\n",
       "      <td>15</td>\n",
       "      <td>21641</td>\n",
       "      <td>2001-10-25</td>\n",
       "      <td>NaN</td>\n",
       "      <td>another copycat coffee mix, just as good as th...</td>\n",
       "      <td>5.0</td>\n",
       "      <td>1</td>\n",
       "    </tr>\n",
       "    <tr>\n",
       "      <th>12191</th>\n",
       "      <td>goat cheese   green onion scones</td>\n",
       "      <td>32220</td>\n",
       "      <td>45</td>\n",
       "      <td>15718</td>\n",
       "      <td>2002-06-25</td>\n",
       "      <td>NaN</td>\n",
       "      <td>onion and cheese flavored scones originally fr...</td>\n",
       "      <td>NaN</td>\n",
       "      <td>1</td>\n",
       "    </tr>\n",
       "    <tr>\n",
       "      <th>7909</th>\n",
       "      <td>cranberry cocktail meatballs</td>\n",
       "      <td>7427</td>\n",
       "      <td>0</td>\n",
       "      <td>1534</td>\n",
       "      <td>1999-12-15</td>\n",
       "      <td>9.0</td>\n",
       "      <td>...</td>\n",
       "      <td>NaN</td>\n",
       "      <td>0</td>\n",
       "    </tr>\n",
       "  </tbody>\n",
       "</table>\n",
       "<p>29377 rows × 9 columns</p>\n",
       "</div>"
      ],
      "text/plain": [
       "                                                    name      id  minutes  \\\n",
       "18408       my favorite buttercream icing for decorating  334113       30   \n",
       "481    alligator claws  avocado fritters  with chipot...  287008       45   \n",
       "22566                          rich barley mushroom soup  328708       60   \n",
       "16296  little bunny foo foo cake  carrot cake  with c...  316000       68   \n",
       "6779                                       chocolate tea  205348        6   \n",
       "...                                                  ...     ...      ...   \n",
       "9049               cuscus bil khodar  vegetable couscous  350641       65   \n",
       "23615                      savory vegetable mini quiches  334208       30   \n",
       "4367                              cafe vienna coffee mix   13216       15   \n",
       "12191                   goat cheese   green onion scones   32220       45   \n",
       "7909                        cranberry cocktail meatballs    7427        0   \n",
       "\n",
       "       contributor_id   submitted  n_steps  \\\n",
       "18408          681465  2008-10-30     12.0   \n",
       "481            765354  2008-02-19      NaN   \n",
       "22566          221776  2008-10-03      NaN   \n",
       "16296          689540  2008-07-27     14.0   \n",
       "6779           428824  2007-01-14      NaN   \n",
       "...               ...         ...      ...   \n",
       "9049           610488  2009-01-20     18.0   \n",
       "23615          166642  2008-10-31     15.0   \n",
       "4367            21641  2001-10-25      NaN   \n",
       "12191           15718  2002-06-25      NaN   \n",
       "7909             1534  1999-12-15      9.0   \n",
       "\n",
       "                                             description  n_ingredients  len  \n",
       "18408  this wonderful icing is used for icing cakes a...            NaN   76  \n",
       "481    a translucent golden-brown crust allows the gr...            9.0   27  \n",
       "22566  this is one of the best soups i've ever made a...           10.0   24  \n",
       "16296  the first time i made this cake i grated a mil...            NaN   23  \n",
       "6779   i wrote this because there are an astounding l...            NaN   23  \n",
       "...                                                  ...            ...  ...  \n",
       "9049   another of the restaurant al-fassia of marrake...            NaN    1  \n",
       "23615      these bite-size tarts are from pampered chef.            NaN    1  \n",
       "4367   another copycat coffee mix, just as good as th...            5.0    1  \n",
       "12191  onion and cheese flavored scones originally fr...            NaN    1  \n",
       "7909                                                 ...            NaN    0  \n",
       "\n",
       "[29377 rows x 9 columns]"
      ]
     },
     "execution_count": 15,
     "metadata": {},
     "output_type": "execute_result"
    }
   ],
   "source": [
    "#for sent in recipes.description:\n",
    "from nltk.tokenize import sent_tokenize\n",
    "\n",
    "desc = recipes.loc[recipes['description'].isna() == False]\n",
    "\n",
    "lenn = []\n",
    "for i in desc.description:\n",
    "    lenn.append(len(sent_tokenize(i)))\n",
    " \n",
    "desc.loc[:, \"len\"] = lenn\n",
    "desc.sort_values(by = 'len', ascending=False)"
   ]
  },
  {
   "cell_type": "markdown",
   "metadata": {},
   "source": [
    "8\\. Напишите функцию, которая для заданного предложения выводит информацию о частях речи слов, входящих в предложение, в следующем виде:\n",
    "```\n",
    "PRP   VBD   DT      NNS     CC   VBD      NNS        RB   \n",
    " I  omitted the raspberries and added strawberries instead\n",
    "``` \n",
    "Для определения части речи слова можно воспользоваться `nltk.pos_tag`.\n",
    "\n",
    "Проверьте работоспособность функции на названии рецепта с id 241106.\n",
    "\n",
    "Обратите внимание, что часть речи должна находиться ровно посередине над соотвествующим словом, а между самими словами должен быть ровно один пробел.\n"
   ]
  },
  {
   "cell_type": "code",
   "execution_count": 115,
   "metadata": {},
   "outputs": [
    {
     "name": "stdout",
     "output_type": "stream",
     "text": [
      "PRP    VBD     DT       NNS       CC    VBD         NNS         RB    \n",
      " I   omitted   the  raspberries   and  added   strawberries   instead \n",
      "\n",
      "    JJ       NNS     IN      NNS       VBP     JJ    CC    JJ      NNS   \n",
      " eggplant  steaks   with  chickpeas   feta   cheese  and  black  olives  \n",
      "\n"
     ]
    }
   ],
   "source": [
    "from nltk import pos_tag, word_tokenize\n",
    "\n",
    "w1 = 'I  omitted the raspberries and added strawberries instead'\n",
    "w2 = recipes[recipes['id'] == 241106]['name'].values[0]\n",
    "\n",
    "def pos_word(word):\n",
    "    for i in pos_tag(word_tokenize(word)):\n",
    "        print(f'{i[1]: ^{len(i[0])+len(i[1])}}', end = '')\n",
    "    print('')\n",
    "    for i in pos_tag(word_tokenize(word)):\n",
    "        print(f'{i[0]: ^{len(i[0])+len(i[1])}}', end = '')\n",
    "    print('\\n')\n",
    "\n",
    "pos_word(w1)\n",
    "pos_word(w2)\n",
    "    "
   ]
  }
 ],
 "metadata": {
  "kernelspec": {
   "display_name": "Python 3 (ipykernel)",
   "language": "python",
   "name": "python3"
  },
  "language_info": {
   "codemirror_mode": {
    "name": "ipython",
    "version": 3
   },
   "file_extension": ".py",
   "mimetype": "text/x-python",
   "name": "python",
   "nbconvert_exporter": "python",
   "pygments_lexer": "ipython3",
   "version": "3.9.12"
  },
  "vscode": {
   "interpreter": {
    "hash": "369f2c481f4da34e4445cda3fffd2e751bd1c4d706f27375911949ba6bb62e1c"
   }
  }
 },
 "nbformat": 4,
 "nbformat_minor": 4
}
